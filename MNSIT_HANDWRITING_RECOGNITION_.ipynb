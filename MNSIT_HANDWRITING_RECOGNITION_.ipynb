{
  "nbformat": 4,
  "nbformat_minor": 0,
  "metadata": {
    "colab": {
      "provenance": [],
      "authorship_tag": "ABX9TyPBA5jSQ58wboC/m1K18f8F",
      "include_colab_link": true
    },
    "kernelspec": {
      "name": "python3",
      "display_name": "Python 3"
    },
    "language_info": {
      "name": "python"
    }
  },
  "cells": [
    {
      "cell_type": "markdown",
      "metadata": {
        "id": "view-in-github",
        "colab_type": "text"
      },
      "source": [
        "<a href=\"https://colab.research.google.com/github/SurjayanLaha2923/Wt-website/blob/main/MNSIT_HANDWRITING_RECOGNITION_.ipynb\" target=\"_parent\"><img src=\"https://colab.research.google.com/assets/colab-badge.svg\" alt=\"Open In Colab\"/></a>"
      ]
    },
    {
      "cell_type": "code",
      "execution_count": null,
      "metadata": {
        "id": "WroSZwB4aJgC"
      },
      "outputs": [],
      "source": [
        "%load_ext tensorboard"
      ]
    },
    {
      "cell_type": "code",
      "source": [
        "!pip install tensorflow"
      ],
      "metadata": {
        "colab": {
          "base_uri": "https://localhost:8080/"
        },
        "id": "JeOD-340bPks",
        "outputId": "797cd640-fbe9-4266-dcf2-e952aefd8073"
      },
      "execution_count": null,
      "outputs": [
        {
          "output_type": "stream",
          "name": "stdout",
          "text": [
            "Requirement already satisfied: tensorflow in /usr/local/lib/python3.10/dist-packages (2.14.0)\n",
            "Requirement already satisfied: absl-py>=1.0.0 in /usr/local/lib/python3.10/dist-packages (from tensorflow) (1.4.0)\n",
            "Requirement already satisfied: astunparse>=1.6.0 in /usr/local/lib/python3.10/dist-packages (from tensorflow) (1.6.3)\n",
            "Requirement already satisfied: flatbuffers>=23.5.26 in /usr/local/lib/python3.10/dist-packages (from tensorflow) (23.5.26)\n",
            "Requirement already satisfied: gast!=0.5.0,!=0.5.1,!=0.5.2,>=0.2.1 in /usr/local/lib/python3.10/dist-packages (from tensorflow) (0.5.4)\n",
            "Requirement already satisfied: google-pasta>=0.1.1 in /usr/local/lib/python3.10/dist-packages (from tensorflow) (0.2.0)\n",
            "Requirement already satisfied: h5py>=2.9.0 in /usr/local/lib/python3.10/dist-packages (from tensorflow) (3.9.0)\n",
            "Requirement already satisfied: libclang>=13.0.0 in /usr/local/lib/python3.10/dist-packages (from tensorflow) (16.0.6)\n",
            "Requirement already satisfied: ml-dtypes==0.2.0 in /usr/local/lib/python3.10/dist-packages (from tensorflow) (0.2.0)\n",
            "Requirement already satisfied: numpy>=1.23.5 in /usr/local/lib/python3.10/dist-packages (from tensorflow) (1.23.5)\n",
            "Requirement already satisfied: opt-einsum>=2.3.2 in /usr/local/lib/python3.10/dist-packages (from tensorflow) (3.3.0)\n",
            "Requirement already satisfied: packaging in /usr/local/lib/python3.10/dist-packages (from tensorflow) (23.2)\n",
            "Requirement already satisfied: protobuf!=4.21.0,!=4.21.1,!=4.21.2,!=4.21.3,!=4.21.4,!=4.21.5,<5.0.0dev,>=3.20.3 in /usr/local/lib/python3.10/dist-packages (from tensorflow) (3.20.3)\n",
            "Requirement already satisfied: setuptools in /usr/local/lib/python3.10/dist-packages (from tensorflow) (67.7.2)\n",
            "Requirement already satisfied: six>=1.12.0 in /usr/local/lib/python3.10/dist-packages (from tensorflow) (1.16.0)\n",
            "Requirement already satisfied: termcolor>=1.1.0 in /usr/local/lib/python3.10/dist-packages (from tensorflow) (2.3.0)\n",
            "Requirement already satisfied: typing-extensions>=3.6.6 in /usr/local/lib/python3.10/dist-packages (from tensorflow) (4.5.0)\n",
            "Requirement already satisfied: wrapt<1.15,>=1.11.0 in /usr/local/lib/python3.10/dist-packages (from tensorflow) (1.14.1)\n",
            "Requirement already satisfied: tensorflow-io-gcs-filesystem>=0.23.1 in /usr/local/lib/python3.10/dist-packages (from tensorflow) (0.34.0)\n",
            "Requirement already satisfied: grpcio<2.0,>=1.24.3 in /usr/local/lib/python3.10/dist-packages (from tensorflow) (1.59.0)\n",
            "Requirement already satisfied: tensorboard<2.15,>=2.14 in /usr/local/lib/python3.10/dist-packages (from tensorflow) (2.14.1)\n",
            "Requirement already satisfied: tensorflow-estimator<2.15,>=2.14.0 in /usr/local/lib/python3.10/dist-packages (from tensorflow) (2.14.0)\n",
            "Requirement already satisfied: keras<2.15,>=2.14.0 in /usr/local/lib/python3.10/dist-packages (from tensorflow) (2.14.0)\n",
            "Requirement already satisfied: wheel<1.0,>=0.23.0 in /usr/local/lib/python3.10/dist-packages (from astunparse>=1.6.0->tensorflow) (0.41.2)\n",
            "Requirement already satisfied: google-auth<3,>=1.6.3 in /usr/local/lib/python3.10/dist-packages (from tensorboard<2.15,>=2.14->tensorflow) (2.17.3)\n",
            "Requirement already satisfied: google-auth-oauthlib<1.1,>=0.5 in /usr/local/lib/python3.10/dist-packages (from tensorboard<2.15,>=2.14->tensorflow) (1.0.0)\n",
            "Requirement already satisfied: markdown>=2.6.8 in /usr/local/lib/python3.10/dist-packages (from tensorboard<2.15,>=2.14->tensorflow) (3.5)\n",
            "Requirement already satisfied: requests<3,>=2.21.0 in /usr/local/lib/python3.10/dist-packages (from tensorboard<2.15,>=2.14->tensorflow) (2.31.0)\n",
            "Requirement already satisfied: tensorboard-data-server<0.8.0,>=0.7.0 in /usr/local/lib/python3.10/dist-packages (from tensorboard<2.15,>=2.14->tensorflow) (0.7.2)\n",
            "Requirement already satisfied: werkzeug>=1.0.1 in /usr/local/lib/python3.10/dist-packages (from tensorboard<2.15,>=2.14->tensorflow) (3.0.1)\n",
            "Requirement already satisfied: cachetools<6.0,>=2.0.0 in /usr/local/lib/python3.10/dist-packages (from google-auth<3,>=1.6.3->tensorboard<2.15,>=2.14->tensorflow) (5.3.2)\n",
            "Requirement already satisfied: pyasn1-modules>=0.2.1 in /usr/local/lib/python3.10/dist-packages (from google-auth<3,>=1.6.3->tensorboard<2.15,>=2.14->tensorflow) (0.3.0)\n",
            "Requirement already satisfied: rsa<5,>=3.1.4 in /usr/local/lib/python3.10/dist-packages (from google-auth<3,>=1.6.3->tensorboard<2.15,>=2.14->tensorflow) (4.9)\n",
            "Requirement already satisfied: requests-oauthlib>=0.7.0 in /usr/local/lib/python3.10/dist-packages (from google-auth-oauthlib<1.1,>=0.5->tensorboard<2.15,>=2.14->tensorflow) (1.3.1)\n",
            "Requirement already satisfied: charset-normalizer<4,>=2 in /usr/local/lib/python3.10/dist-packages (from requests<3,>=2.21.0->tensorboard<2.15,>=2.14->tensorflow) (3.3.1)\n",
            "Requirement already satisfied: idna<4,>=2.5 in /usr/local/lib/python3.10/dist-packages (from requests<3,>=2.21.0->tensorboard<2.15,>=2.14->tensorflow) (3.4)\n",
            "Requirement already satisfied: urllib3<3,>=1.21.1 in /usr/local/lib/python3.10/dist-packages (from requests<3,>=2.21.0->tensorboard<2.15,>=2.14->tensorflow) (2.0.7)\n",
            "Requirement already satisfied: certifi>=2017.4.17 in /usr/local/lib/python3.10/dist-packages (from requests<3,>=2.21.0->tensorboard<2.15,>=2.14->tensorflow) (2023.7.22)\n",
            "Requirement already satisfied: MarkupSafe>=2.1.1 in /usr/local/lib/python3.10/dist-packages (from werkzeug>=1.0.1->tensorboard<2.15,>=2.14->tensorflow) (2.1.3)\n",
            "Requirement already satisfied: pyasn1<0.6.0,>=0.4.6 in /usr/local/lib/python3.10/dist-packages (from pyasn1-modules>=0.2.1->google-auth<3,>=1.6.3->tensorboard<2.15,>=2.14->tensorflow) (0.5.0)\n",
            "Requirement already satisfied: oauthlib>=3.0.0 in /usr/local/lib/python3.10/dist-packages (from requests-oauthlib>=0.7.0->google-auth-oauthlib<1.1,>=0.5->tensorboard<2.15,>=2.14->tensorflow) (3.2.2)\n"
          ]
        }
      ]
    },
    {
      "cell_type": "code",
      "source": [
        "import tensorflow as tf\n",
        "from tensorflow import keras\n"
      ],
      "metadata": {
        "id": "p3_mW_CvbZiU"
      },
      "execution_count": null,
      "outputs": []
    },
    {
      "cell_type": "code",
      "source": [
        "print(tf.__version__)\n"
      ],
      "metadata": {
        "colab": {
          "base_uri": "https://localhost:8080/"
        },
        "id": "XjFnPuzLbiDV",
        "outputId": "47637de7-79ec-4476-f7ff-e7f0f94cc2b4"
      },
      "execution_count": null,
      "outputs": [
        {
          "output_type": "stream",
          "name": "stdout",
          "text": [
            "2.14.0\n"
          ]
        }
      ]
    },
    {
      "cell_type": "code",
      "source": [
        "mnist = keras.datasets.mnist\n",
        "(X_train, Y_train), (X_test, Y_test) = mnist.load_data()"
      ],
      "metadata": {
        "colab": {
          "base_uri": "https://localhost:8080/"
        },
        "id": "u7m5pc5JboZe",
        "outputId": "cd6527ca-4b2b-49bf-98cd-a39941ac5eb8"
      },
      "execution_count": null,
      "outputs": [
        {
          "output_type": "stream",
          "name": "stdout",
          "text": [
            "Downloading data from https://storage.googleapis.com/tensorflow/tf-keras-datasets/mnist.npz\n",
            "11490434/11490434 [==============================] - 1s 0us/step\n"
          ]
        }
      ]
    },
    {
      "cell_type": "code",
      "source": [
        "print(X_train.shape)\n",
        "print(X_test.shape)\n",
        "print(Y_train.shape)\n",
        "print(Y_test.shape)"
      ],
      "metadata": {
        "colab": {
          "base_uri": "https://localhost:8080/"
        },
        "id": "xXcAt-NecMi7",
        "outputId": "780e660f-2524-42f7-c095-341722d31197"
      },
      "execution_count": null,
      "outputs": [
        {
          "output_type": "stream",
          "name": "stdout",
          "text": [
            "(60000, 28, 28)\n",
            "(10000, 28, 28)\n",
            "(60000,)\n",
            "(10000,)\n"
          ]
        }
      ]
    },
    {
      "cell_type": "code",
      "source": [
        "Y_train[0]"
      ],
      "metadata": {
        "colab": {
          "base_uri": "https://localhost:8080/"
        },
        "id": "mVhJia7ucQiP",
        "outputId": "22a79cb8-5745-434f-f2ed-331c74627933"
      },
      "execution_count": null,
      "outputs": [
        {
          "output_type": "execute_result",
          "data": {
            "text/plain": [
              "5"
            ]
          },
          "metadata": {},
          "execution_count": 12
        }
      ]
    },
    {
      "cell_type": "code",
      "source": [
        "X_train[0].shape"
      ],
      "metadata": {
        "colab": {
          "base_uri": "https://localhost:8080/"
        },
        "id": "oImAe1DqcViA",
        "outputId": "29990f5c-090d-49ed-cde8-c409c4f2bae5"
      },
      "execution_count": null,
      "outputs": [
        {
          "output_type": "execute_result",
          "data": {
            "text/plain": [
              "(28, 28)"
            ]
          },
          "metadata": {},
          "execution_count": 14
        }
      ]
    },
    {
      "cell_type": "code",
      "source": [
        "X_train"
      ],
      "metadata": {
        "colab": {
          "base_uri": "https://localhost:8080/"
        },
        "id": "waTsHXm4cZtZ",
        "outputId": "5334e65f-1998-4bd2-c375-cf74ed0ed947"
      },
      "execution_count": null,
      "outputs": [
        {
          "output_type": "execute_result",
          "data": {
            "text/plain": [
              "array([[[0, 0, 0, ..., 0, 0, 0],\n",
              "        [0, 0, 0, ..., 0, 0, 0],\n",
              "        [0, 0, 0, ..., 0, 0, 0],\n",
              "        ...,\n",
              "        [0, 0, 0, ..., 0, 0, 0],\n",
              "        [0, 0, 0, ..., 0, 0, 0],\n",
              "        [0, 0, 0, ..., 0, 0, 0]],\n",
              "\n",
              "       [[0, 0, 0, ..., 0, 0, 0],\n",
              "        [0, 0, 0, ..., 0, 0, 0],\n",
              "        [0, 0, 0, ..., 0, 0, 0],\n",
              "        ...,\n",
              "        [0, 0, 0, ..., 0, 0, 0],\n",
              "        [0, 0, 0, ..., 0, 0, 0],\n",
              "        [0, 0, 0, ..., 0, 0, 0]],\n",
              "\n",
              "       [[0, 0, 0, ..., 0, 0, 0],\n",
              "        [0, 0, 0, ..., 0, 0, 0],\n",
              "        [0, 0, 0, ..., 0, 0, 0],\n",
              "        ...,\n",
              "        [0, 0, 0, ..., 0, 0, 0],\n",
              "        [0, 0, 0, ..., 0, 0, 0],\n",
              "        [0, 0, 0, ..., 0, 0, 0]],\n",
              "\n",
              "       ...,\n",
              "\n",
              "       [[0, 0, 0, ..., 0, 0, 0],\n",
              "        [0, 0, 0, ..., 0, 0, 0],\n",
              "        [0, 0, 0, ..., 0, 0, 0],\n",
              "        ...,\n",
              "        [0, 0, 0, ..., 0, 0, 0],\n",
              "        [0, 0, 0, ..., 0, 0, 0],\n",
              "        [0, 0, 0, ..., 0, 0, 0]],\n",
              "\n",
              "       [[0, 0, 0, ..., 0, 0, 0],\n",
              "        [0, 0, 0, ..., 0, 0, 0],\n",
              "        [0, 0, 0, ..., 0, 0, 0],\n",
              "        ...,\n",
              "        [0, 0, 0, ..., 0, 0, 0],\n",
              "        [0, 0, 0, ..., 0, 0, 0],\n",
              "        [0, 0, 0, ..., 0, 0, 0]],\n",
              "\n",
              "       [[0, 0, 0, ..., 0, 0, 0],\n",
              "        [0, 0, 0, ..., 0, 0, 0],\n",
              "        [0, 0, 0, ..., 0, 0, 0],\n",
              "        ...,\n",
              "        [0, 0, 0, ..., 0, 0, 0],\n",
              "        [0, 0, 0, ..., 0, 0, 0],\n",
              "        [0, 0, 0, ..., 0, 0, 0]]], dtype=uint8)"
            ]
          },
          "metadata": {},
          "execution_count": 15
        }
      ]
    },
    {
      "cell_type": "code",
      "source": [
        "X_train[0]"
      ],
      "metadata": {
        "colab": {
          "base_uri": "https://localhost:8080/"
        },
        "id": "KVO_SWKgcpGf",
        "outputId": "1047d863-d01a-416f-a47f-61a68b6b461b"
      },
      "execution_count": null,
      "outputs": [
        {
          "output_type": "execute_result",
          "data": {
            "text/plain": [
              "array([[  0,   0,   0,   0,   0,   0,   0,   0,   0,   0,   0,   0,   0,\n",
              "          0,   0,   0,   0,   0,   0,   0,   0,   0,   0,   0,   0,   0,\n",
              "          0,   0],\n",
              "       [  0,   0,   0,   0,   0,   0,   0,   0,   0,   0,   0,   0,   0,\n",
              "          0,   0,   0,   0,   0,   0,   0,   0,   0,   0,   0,   0,   0,\n",
              "          0,   0],\n",
              "       [  0,   0,   0,   0,   0,   0,   0,   0,   0,   0,   0,   0,   0,\n",
              "          0,   0,   0,   0,   0,   0,   0,   0,   0,   0,   0,   0,   0,\n",
              "          0,   0],\n",
              "       [  0,   0,   0,   0,   0,   0,   0,   0,   0,   0,   0,   0,   0,\n",
              "          0,   0,   0,   0,   0,   0,   0,   0,   0,   0,   0,   0,   0,\n",
              "          0,   0],\n",
              "       [  0,   0,   0,   0,   0,   0,   0,   0,   0,   0,   0,   0,   0,\n",
              "          0,   0,   0,   0,   0,   0,   0,   0,   0,   0,   0,   0,   0,\n",
              "          0,   0],\n",
              "       [  0,   0,   0,   0,   0,   0,   0,   0,   0,   0,   0,   0,   3,\n",
              "         18,  18,  18, 126, 136, 175,  26, 166, 255, 247, 127,   0,   0,\n",
              "          0,   0],\n",
              "       [  0,   0,   0,   0,   0,   0,   0,   0,  30,  36,  94, 154, 170,\n",
              "        253, 253, 253, 253, 253, 225, 172, 253, 242, 195,  64,   0,   0,\n",
              "          0,   0],\n",
              "       [  0,   0,   0,   0,   0,   0,   0,  49, 238, 253, 253, 253, 253,\n",
              "        253, 253, 253, 253, 251,  93,  82,  82,  56,  39,   0,   0,   0,\n",
              "          0,   0],\n",
              "       [  0,   0,   0,   0,   0,   0,   0,  18, 219, 253, 253, 253, 253,\n",
              "        253, 198, 182, 247, 241,   0,   0,   0,   0,   0,   0,   0,   0,\n",
              "          0,   0],\n",
              "       [  0,   0,   0,   0,   0,   0,   0,   0,  80, 156, 107, 253, 253,\n",
              "        205,  11,   0,  43, 154,   0,   0,   0,   0,   0,   0,   0,   0,\n",
              "          0,   0],\n",
              "       [  0,   0,   0,   0,   0,   0,   0,   0,   0,  14,   1, 154, 253,\n",
              "         90,   0,   0,   0,   0,   0,   0,   0,   0,   0,   0,   0,   0,\n",
              "          0,   0],\n",
              "       [  0,   0,   0,   0,   0,   0,   0,   0,   0,   0,   0, 139, 253,\n",
              "        190,   2,   0,   0,   0,   0,   0,   0,   0,   0,   0,   0,   0,\n",
              "          0,   0],\n",
              "       [  0,   0,   0,   0,   0,   0,   0,   0,   0,   0,   0,  11, 190,\n",
              "        253,  70,   0,   0,   0,   0,   0,   0,   0,   0,   0,   0,   0,\n",
              "          0,   0],\n",
              "       [  0,   0,   0,   0,   0,   0,   0,   0,   0,   0,   0,   0,  35,\n",
              "        241, 225, 160, 108,   1,   0,   0,   0,   0,   0,   0,   0,   0,\n",
              "          0,   0],\n",
              "       [  0,   0,   0,   0,   0,   0,   0,   0,   0,   0,   0,   0,   0,\n",
              "         81, 240, 253, 253, 119,  25,   0,   0,   0,   0,   0,   0,   0,\n",
              "          0,   0],\n",
              "       [  0,   0,   0,   0,   0,   0,   0,   0,   0,   0,   0,   0,   0,\n",
              "          0,  45, 186, 253, 253, 150,  27,   0,   0,   0,   0,   0,   0,\n",
              "          0,   0],\n",
              "       [  0,   0,   0,   0,   0,   0,   0,   0,   0,   0,   0,   0,   0,\n",
              "          0,   0,  16,  93, 252, 253, 187,   0,   0,   0,   0,   0,   0,\n",
              "          0,   0],\n",
              "       [  0,   0,   0,   0,   0,   0,   0,   0,   0,   0,   0,   0,   0,\n",
              "          0,   0,   0,   0, 249, 253, 249,  64,   0,   0,   0,   0,   0,\n",
              "          0,   0],\n",
              "       [  0,   0,   0,   0,   0,   0,   0,   0,   0,   0,   0,   0,   0,\n",
              "          0,  46, 130, 183, 253, 253, 207,   2,   0,   0,   0,   0,   0,\n",
              "          0,   0],\n",
              "       [  0,   0,   0,   0,   0,   0,   0,   0,   0,   0,   0,   0,  39,\n",
              "        148, 229, 253, 253, 253, 250, 182,   0,   0,   0,   0,   0,   0,\n",
              "          0,   0],\n",
              "       [  0,   0,   0,   0,   0,   0,   0,   0,   0,   0,  24, 114, 221,\n",
              "        253, 253, 253, 253, 201,  78,   0,   0,   0,   0,   0,   0,   0,\n",
              "          0,   0],\n",
              "       [  0,   0,   0,   0,   0,   0,   0,   0,  23,  66, 213, 253, 253,\n",
              "        253, 253, 198,  81,   2,   0,   0,   0,   0,   0,   0,   0,   0,\n",
              "          0,   0],\n",
              "       [  0,   0,   0,   0,   0,   0,  18, 171, 219, 253, 253, 253, 253,\n",
              "        195,  80,   9,   0,   0,   0,   0,   0,   0,   0,   0,   0,   0,\n",
              "          0,   0],\n",
              "       [  0,   0,   0,   0,  55, 172, 226, 253, 253, 253, 253, 244, 133,\n",
              "         11,   0,   0,   0,   0,   0,   0,   0,   0,   0,   0,   0,   0,\n",
              "          0,   0],\n",
              "       [  0,   0,   0,   0, 136, 253, 253, 253, 212, 135, 132,  16,   0,\n",
              "          0,   0,   0,   0,   0,   0,   0,   0,   0,   0,   0,   0,   0,\n",
              "          0,   0],\n",
              "       [  0,   0,   0,   0,   0,   0,   0,   0,   0,   0,   0,   0,   0,\n",
              "          0,   0,   0,   0,   0,   0,   0,   0,   0,   0,   0,   0,   0,\n",
              "          0,   0],\n",
              "       [  0,   0,   0,   0,   0,   0,   0,   0,   0,   0,   0,   0,   0,\n",
              "          0,   0,   0,   0,   0,   0,   0,   0,   0,   0,   0,   0,   0,\n",
              "          0,   0],\n",
              "       [  0,   0,   0,   0,   0,   0,   0,   0,   0,   0,   0,   0,   0,\n",
              "          0,   0,   0,   0,   0,   0,   0,   0,   0,   0,   0,   0,   0,\n",
              "          0,   0]], dtype=uint8)"
            ]
          },
          "metadata": {},
          "execution_count": 17
        }
      ]
    },
    {
      "cell_type": "code",
      "source": [
        "Y_train[0]"
      ],
      "metadata": {
        "colab": {
          "base_uri": "https://localhost:8080/"
        },
        "id": "PVvwu7EgctjI",
        "outputId": "bc5a4315-7c96-49ef-8057-0dce9199f7da"
      },
      "execution_count": null,
      "outputs": [
        {
          "output_type": "execute_result",
          "data": {
            "text/plain": [
              "5"
            ]
          },
          "metadata": {},
          "execution_count": 18
        }
      ]
    },
    {
      "cell_type": "code",
      "source": [
        "import matplotlib.pyplot as plt\n",
        "plt.imshow(X_train[0])"
      ],
      "metadata": {
        "colab": {
          "base_uri": "https://localhost:8080/",
          "height": 447
        },
        "id": "IXMjSULhcy62",
        "outputId": "daa3a9f9-965b-4c9b-c991-e9d78e7cb7a5"
      },
      "execution_count": null,
      "outputs": [
        {
          "output_type": "execute_result",
          "data": {
            "text/plain": [
              "<matplotlib.image.AxesImage at 0x7ba6503be1d0>"
            ]
          },
          "metadata": {},
          "execution_count": 20
        },
        {
          "output_type": "display_data",
          "data": {
            "text/plain": [
              "<Figure size 640x480 with 1 Axes>"
            ],
            "image/png": "[encoded data removed]"
          },
          "metadata": {}
        }
      ]
    },
    {
      "cell_type": "code",
      "source": [
        "RESHAPED = 784\n",
        "X_train = X_train.reshape(60000, RESHAPED)\n",
        "X_test = X_test.reshape(10000, RESHAPED)\n"
      ],
      "metadata": {
        "id": "q-g4WgY9dACj"
      },
      "execution_count": null,
      "outputs": []
    },
    {
      "cell_type": "code",
      "source": [
        "X_train = X_train.astype('float32')\n",
        "X_test = X_test.astype('float32')\n"
      ],
      "metadata": {
        "id": "QqvTMDUFgXp8"
      },
      "execution_count": null,
      "outputs": []
    },
    {
      "cell_type": "code",
      "source": [
        "X_train /= 255\n",
        "X_test /= 255\n",
        "print(X_train.shape[0], 'train samples', 'Array shape:', X_train.shape)\n",
        "print(X_test.shape[0], 'test samples', 'Array shape:', X_test.shape)"
      ],
      "metadata": {
        "colab": {
          "base_uri": "https://localhost:8080/"
        },
        "id": "vPetdoU9geI0",
        "outputId": "90d89fff-4a9b-4c1d-c0e2-d76acfd5c780"
      },
      "execution_count": null,
      "outputs": [
        {
          "output_type": "stream",
          "name": "stdout",
          "text": [
            "60000 train samples Array shape: (60000, 784)\n",
            "10000 test samples Array shape: (10000, 784)\n"
          ]
        }
      ]
    },
    {
      "cell_type": "code",
      "source": [
        "Y_train[:10]"
      ],
      "metadata": {
        "colab": {
          "base_uri": "https://localhost:8080/"
        },
        "id": "-t8G97ukgnD1",
        "outputId": "861acb6d-2484-4f25-8aa8-2997357166d4"
      },
      "execution_count": null,
      "outputs": [
        {
          "output_type": "execute_result",
          "data": {
            "text/plain": [
              "array([5, 0, 4, 1, 9, 2, 1, 3, 1, 4], dtype=uint8)"
            ]
          },
          "metadata": {},
          "execution_count": 24
        }
      ]
    },
    {
      "cell_type": "code",
      "source": [
        "print(Y_train.shape, Y_test.shape)\n",
        "Y_train = tf.keras.utils.to_categorical(Y_train, 10)\n",
        "Y_test = tf.keras.utils.to_categorical(Y_test, 10)\n",
        "print(Y_train.shape, Y_test.shape)"
      ],
      "metadata": {
        "colab": {
          "base_uri": "https://localhost:8080/"
        },
        "id": "x5VfnByLgqcJ",
        "outputId": "7e1d3699-eb9d-445c-a861-37aeef4522cb"
      },
      "execution_count": null,
      "outputs": [
        {
          "output_type": "stream",
          "name": "stdout",
          "text": [
            "(60000,) (10000,)\n",
            "(60000, 10) (10000, 10)\n"
          ]
        }
      ]
    },
    {
      "cell_type": "code",
      "source": [
        "Y_train[2]"
      ],
      "metadata": {
        "colab": {
          "base_uri": "https://localhost:8080/"
        },
        "id": "G-pExTg6gsux",
        "outputId": "8c59f09d-6983-4a86-f7b6-f052c9885d0e"
      },
      "execution_count": null,
      "outputs": [
        {
          "output_type": "execute_result",
          "data": {
            "text/plain": [
              "array([0., 0., 0., 0., 1., 0., 0., 0., 0., 0.], dtype=float32)"
            ]
          },
          "metadata": {},
          "execution_count": 26
        }
      ]
    },
    {
      "cell_type": "code",
      "source": [
        "X_train.shape, Y_train.shape, X_test.shape, Y_test.shape"
      ],
      "metadata": {
        "colab": {
          "base_uri": "https://localhost:8080/"
        },
        "id": "7pk5_92hgu_i",
        "outputId": "46f6c580-26d4-4ae1-8ca7-6c8b53f9b0c7"
      },
      "execution_count": null,
      "outputs": [
        {
          "output_type": "execute_result",
          "data": {
            "text/plain": [
              "((60000, 784), (60000, 10), (10000, 784), (10000, 10))"
            ]
          },
          "metadata": {},
          "execution_count": 27
        }
      ]
    },
    {
      "cell_type": "code",
      "source": [
        "Y_train[0:5]"
      ],
      "metadata": {
        "colab": {
          "base_uri": "https://localhost:8080/"
        },
        "id": "Tau9kqvZgyZs",
        "outputId": "d99facd8-d97b-49d2-9a5e-a3e217b04f23"
      },
      "execution_count": null,
      "outputs": [
        {
          "output_type": "execute_result",
          "data": {
            "text/plain": [
              "array([[0., 0., 0., 0., 0., 1., 0., 0., 0., 0.],\n",
              "       [1., 0., 0., 0., 0., 0., 0., 0., 0., 0.],\n",
              "       [0., 0., 0., 0., 1., 0., 0., 0., 0., 0.],\n",
              "       [0., 1., 0., 0., 0., 0., 0., 0., 0., 0.],\n",
              "       [0., 0., 0., 0., 0., 0., 0., 0., 0., 1.]], dtype=float32)"
            ]
          },
          "metadata": {},
          "execution_count": 28
        }
      ]
    },
    {
      "cell_type": "code",
      "source": [
        "import tensorflow as tf\n",
        "from tensorflow.keras.layers import Dense\n",
        "from tensorflow.keras import Sequential\n",
        "model_0 = Sequential()\n",
        "# Now the model will take as input arrays of shape (*, 784)# and output arrays of shape (*, 10)\n",
        "model_0.add(Dense(10,input_shape=(784,),name='dense_layer', activation='softmax'))"
      ],
      "metadata": {
        "id": "8q2MbXtxg1fU"
      },
      "execution_count": null,
      "outputs": []
    },
    {
      "cell_type": "code",
      "source": [
        "model_0.summary()"
      ],
      "metadata": {
        "colab": {
          "base_uri": "https://localhost:8080/"
        },
        "id": "IktxBnF3hE9R",
        "outputId": "bc6c775a-e669-4c87-a039-34f7c80ea3e4"
      },
      "execution_count": null,
      "outputs": [
        {
          "output_type": "stream",
          "name": "stdout",
          "text": [
            "Model: \"sequential_1\"\n",
            "_________________________________________________________________\n",
            " Layer (type)                Output Shape              Param #   \n",
            "=================================================================\n",
            " dense_layer (Dense)         (None, 10)                7850      \n",
            "                                                                 \n",
            "=================================================================\n",
            "Total params: 7850 (30.66 KB)\n",
            "Trainable params: 7850 (30.66 KB)\n",
            "Non-trainable params: 0 (0.00 Byte)\n",
            "_________________________________________________________________\n"
          ]
        }
      ]
    },
    {
      "cell_type": "code",
      "source": [
        "model_0.compile(optimizer='SGD', loss='categorical_crossentropy',metrics=['accuracy'])"
      ],
      "metadata": {
        "id": "5bzcF7xqhLMK"
      },
      "execution_count": null,
      "outputs": []
    },
    {
      "cell_type": "code",
      "source": [
        "48000/128"
      ],
      "metadata": {
        "colab": {
          "base_uri": "https://localhost:8080/"
        },
        "id": "X4cyB8m8hRIu",
        "outputId": "221bebf4-bce6-4054-c369-0368ce463dab"
      },
      "execution_count": null,
      "outputs": [
        {
          "output_type": "execute_result",
          "data": {
            "text/plain": [
              "375.0"
            ]
          },
          "metadata": {},
          "execution_count": 33
        }
      ]
    },
    {
      "cell_type": "code",
      "source": [
        "log_dir = \"logs/fit/model0\"\n",
        "tensorboard_callback = tf.keras.callbacks.TensorBoard(log_dir=log_dir, histogram_freq=1)\n",
        "training = model_0.fit(X_train, Y_train, batch_size=128, epochs=30, validation_split=0.2,callbacks=tensorboard_callback)"
      ],
      "metadata": {
        "colab": {
          "base_uri": "https://localhost:8080/"
        },
        "id": "1YrDB8Nwherw",
        "outputId": "cab9248a-0b4d-4785-a4c8-b6ede8a59ec3"
      },
      "execution_count": null,
      "outputs": [
        {
          "output_type": "stream",
          "name": "stdout",
          "text": [
            "Epoch 1/30\n",
            "375/375 [==============================] - 3s 5ms/step - loss: 1.3654 - accuracy: 0.6689 - val_loss: 0.8827 - val_accuracy: 0.8307\n",
            "Epoch 2/30\n",
            "375/375 [==============================] - 1s 3ms/step - loss: 0.7869 - accuracy: 0.8299 - val_loss: 0.6505 - val_accuracy: 0.8621\n",
            "Epoch 3/30\n",
            "375/375 [==============================] - 2s 5ms/step - loss: 0.6398 - accuracy: 0.8513 - val_loss: 0.5564 - val_accuracy: 0.8733\n",
            "Epoch 4/30\n",
            "375/375 [==============================] - 2s 5ms/step - loss: 0.5685 - accuracy: 0.8633 - val_loss: 0.5046 - val_accuracy: 0.8796\n",
            "Epoch 5/30\n",
            "375/375 [==============================] - 1s 3ms/step - loss: 0.5250 - accuracy: 0.8699 - val_loss: 0.4711 - val_accuracy: 0.8837\n",
            "Epoch 6/30\n",
            "375/375 [==============================] - 1s 4ms/step - loss: 0.4951 - accuracy: 0.8744 - val_loss: 0.4476 - val_accuracy: 0.8870\n",
            "Epoch 7/30\n",
            "375/375 [==============================] - 1s 3ms/step - loss: 0.4730 - accuracy: 0.8779 - val_loss: 0.4296 - val_accuracy: 0.8895\n",
            "Epoch 8/30\n",
            "375/375 [==============================] - 1s 3ms/step - loss: 0.4558 - accuracy: 0.8808 - val_loss: 0.4157 - val_accuracy: 0.8921\n",
            "Epoch 9/30\n",
            "375/375 [==============================] - 1s 3ms/step - loss: 0.4420 - accuracy: 0.8834 - val_loss: 0.4042 - val_accuracy: 0.8953\n",
            "Epoch 10/30\n",
            "375/375 [==============================] - 1s 3ms/step - loss: 0.4305 - accuracy: 0.8856 - val_loss: 0.3957 - val_accuracy: 0.8953\n",
            "Epoch 11/30\n",
            "375/375 [==============================] - 1s 3ms/step - loss: 0.4209 - accuracy: 0.8873 - val_loss: 0.3869 - val_accuracy: 0.8975\n",
            "Epoch 12/30\n",
            "375/375 [==============================] - 1s 3ms/step - loss: 0.4125 - accuracy: 0.8893 - val_loss: 0.3801 - val_accuracy: 0.8981\n",
            "Epoch 13/30\n",
            "375/375 [==============================] - 2s 5ms/step - loss: 0.4052 - accuracy: 0.8911 - val_loss: 0.3742 - val_accuracy: 0.8990\n",
            "Epoch 14/30\n",
            "375/375 [==============================] - 1s 4ms/step - loss: 0.3988 - accuracy: 0.8923 - val_loss: 0.3689 - val_accuracy: 0.9004\n",
            "Epoch 15/30\n",
            "375/375 [==============================] - 1s 3ms/step - loss: 0.3931 - accuracy: 0.8932 - val_loss: 0.3643 - val_accuracy: 0.9021\n",
            "Epoch 16/30\n",
            "375/375 [==============================] - 1s 4ms/step - loss: 0.3879 - accuracy: 0.8945 - val_loss: 0.3601 - val_accuracy: 0.9021\n",
            "Epoch 17/30\n",
            "375/375 [==============================] - 1s 3ms/step - loss: 0.3833 - accuracy: 0.8955 - val_loss: 0.3562 - val_accuracy: 0.9030\n",
            "Epoch 18/30\n",
            "375/375 [==============================] - 1s 3ms/step - loss: 0.3791 - accuracy: 0.8965 - val_loss: 0.3527 - val_accuracy: 0.9036\n",
            "Epoch 19/30\n",
            "375/375 [==============================] - 1s 3ms/step - loss: 0.3752 - accuracy: 0.8971 - val_loss: 0.3495 - val_accuracy: 0.9040\n",
            "Epoch 20/30\n",
            "375/375 [==============================] - 1s 3ms/step - loss: 0.3715 - accuracy: 0.8981 - val_loss: 0.3467 - val_accuracy: 0.9047\n",
            "Epoch 21/30\n",
            "375/375 [==============================] - 1s 3ms/step - loss: 0.3682 - accuracy: 0.8990 - val_loss: 0.3441 - val_accuracy: 0.9050\n",
            "Epoch 22/30\n",
            "375/375 [==============================] - 2s 5ms/step - loss: 0.3651 - accuracy: 0.8998 - val_loss: 0.3414 - val_accuracy: 0.9061\n",
            "Epoch 23/30\n",
            "375/375 [==============================] - 2s 5ms/step - loss: 0.3622 - accuracy: 0.9004 - val_loss: 0.3391 - val_accuracy: 0.9065\n",
            "Epoch 24/30\n",
            "375/375 [==============================] - 1s 3ms/step - loss: 0.3596 - accuracy: 0.9010 - val_loss: 0.3370 - val_accuracy: 0.9068\n",
            "Epoch 25/30\n",
            "375/375 [==============================] - 1s 3ms/step - loss: 0.3571 - accuracy: 0.9015 - val_loss: 0.3349 - val_accuracy: 0.9069\n",
            "Epoch 26/30\n",
            "375/375 [==============================] - 1s 3ms/step - loss: 0.3547 - accuracy: 0.9023 - val_loss: 0.3331 - val_accuracy: 0.9075\n",
            "Epoch 27/30\n",
            "375/375 [==============================] - 1s 3ms/step - loss: 0.3524 - accuracy: 0.9028 - val_loss: 0.3313 - val_accuracy: 0.9083\n",
            "Epoch 28/30\n",
            "375/375 [==============================] - 1s 3ms/step - loss: 0.3503 - accuracy: 0.9035 - val_loss: 0.3296 - val_accuracy: 0.9082\n",
            "Epoch 29/30\n",
            "375/375 [==============================] - 1s 3ms/step - loss: 0.3483 - accuracy: 0.9039 - val_loss: 0.3279 - val_accuracy: 0.9095\n",
            "Epoch 30/30\n",
            "375/375 [==============================] - 1s 3ms/step - loss: 0.3464 - accuracy: 0.9045 - val_loss: 0.3263 - val_accuracy: 0.9099\n"
          ]
        }
      ]
    },
    {
      "cell_type": "code",
      "source": [
        "print('Total training data size:',60000*0.8)"
      ],
      "metadata": {
        "colab": {
          "base_uri": "https://localhost:8080/"
        },
        "id": "WYGzMKgphsbo",
        "outputId": "2372f738-e7e2-46de-d9b9-d9d377cdc6d0"
      },
      "execution_count": null,
      "outputs": [
        {
          "output_type": "stream",
          "name": "stdout",
          "text": [
            "Total training data size: 48000.0\n"
          ]
        }
      ]
    },
    {
      "cell_type": "code",
      "source": [
        "print('Batch size:', 48000/128.0)"
      ],
      "metadata": {
        "colab": {
          "base_uri": "https://localhost:8080/"
        },
        "id": "vQjvm3Ewhvuv",
        "outputId": "e575d999-8f3b-4678-b3b4-d488e8cd757e"
      },
      "execution_count": null,
      "outputs": [
        {
          "output_type": "stream",
          "name": "stdout",
          "text": [
            "Batch size: 375.0\n"
          ]
        }
      ]
    },
    {
      "cell_type": "code",
      "source": [
        "type(training.history)\n"
      ],
      "metadata": {
        "colab": {
          "base_uri": "https://localhost:8080/"
        },
        "id": "6V9KCRuUhycy",
        "outputId": "6a3e621f-168f-4e89-df1c-065732610207"
      },
      "execution_count": null,
      "outputs": [
        {
          "output_type": "execute_result",
          "data": {
            "text/plain": [
              "dict"
            ]
          },
          "metadata": {},
          "execution_count": 38
        }
      ]
    },
    {
      "cell_type": "code",
      "source": [
        "training.history.keys()"
      ],
      "metadata": {
        "colab": {
          "base_uri": "https://localhost:8080/"
        },
        "id": "sbeKAgvLh03X",
        "outputId": "95f5d1f3-f896-4021-cd3f-f582240d6424"
      },
      "execution_count": null,
      "outputs": [
        {
          "output_type": "execute_result",
          "data": {
            "text/plain": [
              "dict_keys(['loss', 'accuracy', 'val_loss', 'val_accuracy'])"
            ]
          },
          "metadata": {},
          "execution_count": 39
        }
      ]
    },
    {
      "cell_type": "code",
      "source": [
        "training.history['accuracy']"
      ],
      "metadata": {
        "colab": {
          "base_uri": "https://localhost:8080/"
        },
        "id": "WcEWZV-uh2r0",
        "outputId": "f72147be-a101-40a9-d5f8-543567adc4e5"
      },
      "execution_count": null,
      "outputs": [
        {
          "output_type": "execute_result",
          "data": {
            "text/plain": [
              "[0.6689375042915344,\n",
              " 0.8298749923706055,\n",
              " 0.851312518119812,\n",
              " 0.8633124828338623,\n",
              " 0.8698750138282776,\n",
              " 0.8743541836738586,\n",
              " 0.8778749704360962,\n",
              " 0.8807916641235352,\n",
              " 0.8833749890327454,\n",
              " 0.8856250047683716,\n",
              " 0.8873124718666077,\n",
              " 0.8892916440963745,\n",
              " 0.8911458253860474,\n",
              " 0.8923125267028809,\n",
              " 0.8931875228881836,\n",
              " 0.8945416808128357,\n",
              " 0.895479142665863,\n",
              " 0.8964791893959045,\n",
              " 0.8970624804496765,\n",
              " 0.8980833292007446,\n",
              " 0.8989583253860474,\n",
              " 0.8998125195503235,\n",
              " 0.9003541469573975,\n",
              " 0.9010416865348816,\n",
              " 0.9014999866485596,\n",
              " 0.9023125171661377,\n",
              " 0.9027916789054871,\n",
              " 0.9034791588783264,\n",
              " 0.9038749933242798,\n",
              " 0.9045416712760925]"
            ]
          },
          "metadata": {},
          "execution_count": 40
        }
      ]
    },
    {
      "cell_type": "code",
      "source": [
        "import matplotlib.pyplot as plt\n",
        "%matplotlib inline\n",
        "print(training.history.keys())\n",
        "plt.plot(training.history['accuracy'])\n",
        "plt.plot(training.history['val_accuracy'])\n",
        "plt.title('model accuracy')\n",
        "plt.ylabel('accuracy')\n",
        "plt.xlabel('epoch')\n",
        "plt.legend(['train', 'test'], loc='upper left')\n",
        "plt.show()"
      ],
      "metadata": {
        "colab": {
          "base_uri": "https://localhost:8080/",
          "height": 489
        },
        "id": "wJAp0odeh44A",
        "outputId": "316ba76a-b4e1-43f3-c102-4e4617d586de"
      },
      "execution_count": null,
      "outputs": [
        {
          "output_type": "stream",
          "name": "stdout",
          "text": [
            "dict_keys(['loss', 'accuracy', 'val_loss', 'val_accuracy'])\n"
          ]
        },
        {
          "output_type": "display_data",
          "data": {
            "text/plain": [
              "<Figure size 640x480 with 1 Axes>"
            ],
            "image/png": "[encoded data removed]"
          },
          "metadata": {}
        }
      ]
    },
    {
      "cell_type": "code",
      "source": [
        "plt.plot(training.history['loss'])\n",
        "plt.plot(training.history['val_loss'])\n",
        "plt.title('model loss')\n",
        "plt.ylabel('loss')\n",
        "plt.xlabel('epoch')\n",
        "plt.legend(['train', 'test'], loc='upper left')\n",
        "plt.show()"
      ],
      "metadata": {
        "colab": {
          "base_uri": "https://localhost:8080/",
          "height": 472
        },
        "id": "qp7KDPVliPAj",
        "outputId": "7843be1b-7941-419c-9750-2a474aa7ccfe"
      },
      "execution_count": null,
      "outputs": [
        {
          "output_type": "display_data",
          "data": {
            "text/plain": [
              "<Figure size 640x480 with 1 Axes>"
            ],
            "image/png": "[encoded data removed]"
          },
          "metadata": {}
        }
      ]
    },
    {
      "cell_type": "code",
      "source": [
        "test_loss, test_acc = model_0.evaluate(X_test, Y_test)\n",
        "print('Test accuracy:', test_acc)"
      ],
      "metadata": {
        "colab": {
          "base_uri": "https://localhost:8080/"
        },
        "id": "qa-0vVCDibCI",
        "outputId": "f0c79289-da52-4e19-f1b1-9a3d73622dcc"
      },
      "execution_count": null,
      "outputs": [
        {
          "output_type": "stream",
          "name": "stdout",
          "text": [
            "313/313 [==============================] - 1s 2ms/step - loss: 0.3266 - accuracy: 0.9119\n",
            "Test accuracy: 0.911899983882904\n"
          ]
        }
      ]
    },
    {
      "cell_type": "code",
      "source": [
        "model_0.summary()"
      ],
      "metadata": {
        "colab": {
          "base_uri": "https://localhost:8080/"
        },
        "id": "_QVd7bvjiedq",
        "outputId": "1c338d58-4464-4290-f66d-e6540df02155"
      },
      "execution_count": null,
      "outputs": [
        {
          "output_type": "stream",
          "name": "stdout",
          "text": [
            "Model: \"sequential_1\"\n",
            "_________________________________________________________________\n",
            " Layer (type)                Output Shape              Param #   \n",
            "=================================================================\n",
            " dense_layer (Dense)         (None, 10)                7850      \n",
            "                                                                 \n",
            "=================================================================\n",
            "Total params: 7850 (30.66 KB)\n",
            "Trainable params: 7850 (30.66 KB)\n",
            "Non-trainable params: 0 (0.00 Byte)\n",
            "_________________________________________________________________\n"
          ]
        }
      ]
    },
    {
      "cell_type": "code",
      "source": [
        "model_0.weights"
      ],
      "metadata": {
        "colab": {
          "base_uri": "https://localhost:8080/"
        },
        "id": "N77_-ALXipTu",
        "outputId": "744deb81-7323-4a81-ed79-4d2b7cf9ff58"
      },
      "execution_count": null,
      "outputs": [
        {
          "output_type": "execute_result",
          "data": {
            "text/plain": [
              "[<tf.Variable 'dense_layer/kernel:0' shape=(784, 10) dtype=float32, numpy=\n",
              " array([[ 0.05471002, -0.01340253,  0.0222557 , ...,  0.00289065,\n",
              "          0.01621824,  0.05887317],\n",
              "        [-0.00706695,  0.06877834,  0.05534288, ..., -0.05099688,\n",
              "          0.02217423,  0.00891598],\n",
              "        [-0.06220017, -0.04388009, -0.06662268, ...,  0.05370579,\n",
              "         -0.00087321,  0.05298258],\n",
              "        ...,\n",
              "        [ 0.00123439,  0.04737226, -0.05519598, ...,  0.05603043,\n",
              "          0.05073603, -0.07342652],\n",
              "        [ 0.04950617,  0.02111102, -0.03767452, ..., -0.02230787,\n",
              "          0.06632876,  0.05753506],\n",
              "        [-0.02096683, -0.08173157, -0.04943026, ...,  0.03091276,\n",
              "          0.05887582, -0.07249793]], dtype=float32)>,\n",
              " <tf.Variable 'dense_layer/bias:0' shape=(10,) dtype=float32, numpy=\n",
              " array([-0.15216696,  0.25219008, -0.01612777, -0.12385391,  0.07418706,\n",
              "         0.46848813, -0.01894405,  0.25201243, -0.63821477, -0.09757163],\n",
              "       dtype=float32)>]"
            ]
          },
          "metadata": {},
          "execution_count": 46
        }
      ]
    },
    {
      "cell_type": "code",
      "source": [
        "model_1 = tf.keras.Sequential()\n",
        "N_hidden = 64\n",
        "model_1.add(Dense(N_hidden, name='dense_layer', input_shape=(784,), activation = 'relu'))\n",
        "model_1.add(Dense(N_hidden, name='dense_layer_2', activation='relu'))\n",
        "model_1.add(Dense(10, name='dense_layer_3', activation = 'softmax'))"
      ],
      "metadata": {
        "id": "Qj1gl7LXi1PH"
      },
      "execution_count": null,
      "outputs": []
    },
    {
      "cell_type": "code",
      "source": [
        "model_1.compile(optimizer='SGD',\n",
        "              loss='categorical_crossentropy',\n",
        "              metrics=['accuracy'])"
      ],
      "metadata": {
        "id": "9jQhZi75jghw"
      },
      "execution_count": null,
      "outputs": []
    },
    {
      "cell_type": "code",
      "source": [
        "log_dir = \"logs/fit/model1\"\n",
        "tensorboard_callback = tf.keras.callbacks.TensorBoard(log_dir=log_dir, histogram_freq=1)\n",
        "training = model_1.fit(X_train, Y_train, batch_size=128, epochs=30, validation_split=0.2,callbacks=tensorboard_callback)"
      ],
      "metadata": {
        "colab": {
          "base_uri": "https://localhost:8080/"
        },
        "id": "HPPTPOeNjmeU",
        "outputId": "ecd6a378-7d6e-4aad-82cc-654fb6f4736f"
      },
      "execution_count": null,
      "outputs": [
        {
          "output_type": "stream",
          "name": "stdout",
          "text": [
            "Epoch 1/30\n",
            "375/375 [==============================] - 2s 5ms/step - loss: 1.6001 - accuracy: 0.5432 - val_loss: 0.8733 - val_accuracy: 0.8073\n",
            "Epoch 2/30\n",
            "375/375 [==============================] - 2s 6ms/step - loss: 0.6811 - accuracy: 0.8279 - val_loss: 0.5102 - val_accuracy: 0.8684\n",
            "Epoch 3/30\n",
            "375/375 [==============================] - 2s 5ms/step - loss: 0.4853 - accuracy: 0.8698 - val_loss: 0.4071 - val_accuracy: 0.8905\n",
            "Epoch 4/30\n",
            "375/375 [==============================] - 2s 4ms/step - loss: 0.4108 - accuracy: 0.8873 - val_loss: 0.3611 - val_accuracy: 0.8994\n",
            "Epoch 5/30\n",
            "375/375 [==============================] - 2s 4ms/step - loss: 0.3723 - accuracy: 0.8959 - val_loss: 0.3331 - val_accuracy: 0.9053\n",
            "Epoch 6/30\n",
            "375/375 [==============================] - 2s 5ms/step - loss: 0.3478 - accuracy: 0.9019 - val_loss: 0.3159 - val_accuracy: 0.9097\n",
            "Epoch 7/30\n",
            "375/375 [==============================] - 2s 4ms/step - loss: 0.3301 - accuracy: 0.9064 - val_loss: 0.3017 - val_accuracy: 0.9134\n",
            "Epoch 8/30\n",
            "375/375 [==============================] - 2s 5ms/step - loss: 0.3159 - accuracy: 0.9101 - val_loss: 0.2921 - val_accuracy: 0.9163\n",
            "Epoch 9/30\n",
            "375/375 [==============================] - 2s 7ms/step - loss: 0.3042 - accuracy: 0.9131 - val_loss: 0.2818 - val_accuracy: 0.9204\n",
            "Epoch 10/30\n",
            "375/375 [==============================] - 2s 5ms/step - loss: 0.2938 - accuracy: 0.9163 - val_loss: 0.2733 - val_accuracy: 0.9228\n",
            "Epoch 11/30\n",
            "375/375 [==============================] - 2s 4ms/step - loss: 0.2841 - accuracy: 0.9188 - val_loss: 0.2661 - val_accuracy: 0.9232\n",
            "Epoch 12/30\n",
            "375/375 [==============================] - 2s 4ms/step - loss: 0.2762 - accuracy: 0.9207 - val_loss: 0.2582 - val_accuracy: 0.9249\n",
            "Epoch 13/30\n",
            "375/375 [==============================] - 2s 5ms/step - loss: 0.2683 - accuracy: 0.9234 - val_loss: 0.2563 - val_accuracy: 0.9250\n",
            "Epoch 14/30\n",
            "375/375 [==============================] - 2s 5ms/step - loss: 0.2614 - accuracy: 0.9250 - val_loss: 0.2475 - val_accuracy: 0.9276\n",
            "Epoch 15/30\n",
            "375/375 [==============================] - 2s 4ms/step - loss: 0.2544 - accuracy: 0.9271 - val_loss: 0.2409 - val_accuracy: 0.9317\n",
            "Epoch 16/30\n",
            "375/375 [==============================] - 2s 6ms/step - loss: 0.2485 - accuracy: 0.9285 - val_loss: 0.2362 - val_accuracy: 0.9320\n",
            "Epoch 17/30\n",
            "375/375 [==============================] - 2s 5ms/step - loss: 0.2422 - accuracy: 0.9307 - val_loss: 0.2314 - val_accuracy: 0.9342\n",
            "Epoch 18/30\n",
            "375/375 [==============================] - 2s 4ms/step - loss: 0.2364 - accuracy: 0.9326 - val_loss: 0.2258 - val_accuracy: 0.9364\n",
            "Epoch 19/30\n",
            "375/375 [==============================] - 2s 5ms/step - loss: 0.2311 - accuracy: 0.9340 - val_loss: 0.2225 - val_accuracy: 0.9370\n",
            "Epoch 20/30\n",
            "375/375 [==============================] - 2s 4ms/step - loss: 0.2258 - accuracy: 0.9357 - val_loss: 0.2172 - val_accuracy: 0.9378\n",
            "Epoch 21/30\n",
            "375/375 [==============================] - 2s 4ms/step - loss: 0.2208 - accuracy: 0.9370 - val_loss: 0.2129 - val_accuracy: 0.9405\n",
            "Epoch 22/30\n",
            "375/375 [==============================] - 2s 5ms/step - loss: 0.2159 - accuracy: 0.9385 - val_loss: 0.2101 - val_accuracy: 0.9417\n",
            "Epoch 23/30\n",
            "375/375 [==============================] - 2s 6ms/step - loss: 0.2112 - accuracy: 0.9396 - val_loss: 0.2068 - val_accuracy: 0.9409\n",
            "Epoch 24/30\n",
            "375/375 [==============================] - 2s 6ms/step - loss: 0.2068 - accuracy: 0.9413 - val_loss: 0.2026 - val_accuracy: 0.9439\n",
            "Epoch 25/30\n",
            "375/375 [==============================] - 2s 4ms/step - loss: 0.2025 - accuracy: 0.9427 - val_loss: 0.1986 - val_accuracy: 0.9444\n",
            "Epoch 26/30\n",
            "375/375 [==============================] - 2s 5ms/step - loss: 0.1984 - accuracy: 0.9437 - val_loss: 0.1948 - val_accuracy: 0.9446\n",
            "Epoch 27/30\n",
            "375/375 [==============================] - 2s 5ms/step - loss: 0.1943 - accuracy: 0.9446 - val_loss: 0.1918 - val_accuracy: 0.9469\n",
            "Epoch 28/30\n",
            "375/375 [==============================] - 2s 5ms/step - loss: 0.1905 - accuracy: 0.9460 - val_loss: 0.1890 - val_accuracy: 0.9482\n",
            "Epoch 29/30\n",
            "375/375 [==============================] - 2s 5ms/step - loss: 0.1870 - accuracy: 0.9472 - val_loss: 0.1862 - val_accuracy: 0.9494\n",
            "Epoch 30/30\n",
            "375/375 [==============================] - 2s 6ms/step - loss: 0.1834 - accuracy: 0.9480 - val_loss: 0.1832 - val_accuracy: 0.9491\n"
          ]
        }
      ]
    },
    {
      "cell_type": "code",
      "source": [
        "import matplotlib.pyplot as plt\n",
        "%matplotlib inline\n",
        "print(training.history.keys())\n",
        "plt.plot(training.history['accuracy'])\n",
        "plt.plot(training.history['val_accuracy'])\n",
        "plt.title('model accuracy')\n",
        "plt.ylabel('accuracy')\n",
        "plt.xlabel('epoch')\n",
        "plt.legend(['train', 'test'], loc='upper left')\n",
        "plt.show()\n",
        "plt.plot(training.history['loss'])\n",
        "plt.plot(training.history['val_loss'])\n",
        "plt.title('model loss')\n",
        "plt.ylabel('loss')\n",
        "plt.xlabel('epoch')\n",
        "plt.legend(['train', 'test'], loc='upper left')\n",
        "plt.show()"
      ],
      "metadata": {
        "colab": {
          "base_uri": "https://localhost:8080/",
          "height": 944
        },
        "id": "j6VZjpU4kIxP",
        "outputId": "aeefca86-74ed-44f2-d4d6-5058567f78f0"
      },
      "execution_count": null,
      "outputs": [
        {
          "output_type": "stream",
          "name": "stdout",
          "text": [
            "dict_keys(['loss', 'accuracy', 'val_loss', 'val_accuracy'])\n"
          ]
        },
        {
          "output_type": "display_data",
          "data": {
            "text/plain": [
              "<Figure size 640x480 with 1 Axes>"
            ],
            "image/png": "[encoded data removed]"
          },
          "metadata": {}
        },
        {
          "output_type": "display_data",
          "data": {
            "text/plain": [
              "<Figure size 640x480 with 1 Axes>"
            ],
            "image/png": "[encoded data removed]"
          },
          "metadata": {}
        }
      ]
    },
    {
      "cell_type": "code",
      "source": [
        "plt.plot(training.history['loss'])\n",
        "plt.plot(training.history['val_loss'])\n",
        "plt.title('model loss')\n",
        "plt.ylabel('loss')\n",
        "plt.xlabel('epoch')\n",
        "plt.legend(['train', 'test'], loc='upper left')\n",
        "plt.show()"
      ],
      "metadata": {
        "colab": {
          "base_uri": "https://localhost:8080/",
          "height": 472
        },
        "id": "ctM05MPykvMo",
        "outputId": "9b450c8d-0fd3-42a8-f2a0-63ee5eb4f3e9"
      },
      "execution_count": null,
      "outputs": [
        {
          "output_type": "display_data",
          "data": {
            "text/plain": [
              "<Figure size 640x480 with 1 Axes>"
            ],
            "image/png": "[encoded data removed]"
          },
          "metadata": {}
        }
      ]
    },
    {
      "cell_type": "code",
      "source": [
        "test_loss, test_acc = model_0.evaluate(X_test, Y_test)\n",
        "print('Test accuracy:', test_acc)"
      ],
      "metadata": {
        "colab": {
          "base_uri": "https://localhost:8080/"
        },
        "id": "bMaBtVLJlEgh",
        "outputId": "67f5d6a8-9225-479b-bc1e-11dddab2ec16"
      },
      "execution_count": null,
      "outputs": [
        {
          "output_type": "stream",
          "name": "stdout",
          "text": [
            "313/313 [==============================] - 1s 4ms/step - loss: 0.3266 - accuracy: 0.9119\n",
            "Test accuracy: 0.911899983882904\n"
          ]
        }
      ]
    },
    {
      "cell_type": "code",
      "source": [
        "model_0.summary()"
      ],
      "metadata": {
        "colab": {
          "base_uri": "https://localhost:8080/"
        },
        "id": "aBI9bFXClJGK",
        "outputId": "68575705-d21b-4fa8-9d89-af3b274767dc"
      },
      "execution_count": null,
      "outputs": [
        {
          "output_type": "stream",
          "name": "stdout",
          "text": [
            "Model: \"sequential_1\"\n",
            "_________________________________________________________________\n",
            " Layer (type)                Output Shape              Param #   \n",
            "=================================================================\n",
            " dense_layer (Dense)         (None, 10)                7850      \n",
            "                                                                 \n",
            "=================================================================\n",
            "Total params: 7850 (30.66 KB)\n",
            "Trainable params: 7850 (30.66 KB)\n",
            "Non-trainable params: 0 (0.00 Byte)\n",
            "_________________________________________________________________\n"
          ]
        }
      ]
    },
    {
      "cell_type": "code",
      "source": [
        "model_0.weights"
      ],
      "metadata": {
        "colab": {
          "base_uri": "https://localhost:8080/"
        },
        "id": "f5SEFdSllL8A",
        "outputId": "e80aa92d-e68c-430b-f692-abe9317130de"
      },
      "execution_count": null,
      "outputs": [
        {
          "output_type": "execute_result",
          "data": {
            "text/plain": [
              "[<tf.Variable 'dense_layer/kernel:0' shape=(784, 10) dtype=float32, numpy=\n",
              " array([[ 0.05471002, -0.01340253,  0.0222557 , ...,  0.00289065,\n",
              "          0.01621824,  0.05887317],\n",
              "        [-0.00706695,  0.06877834,  0.05534288, ..., -0.05099688,\n",
              "          0.02217423,  0.00891598],\n",
              "        [-0.06220017, -0.04388009, -0.06662268, ...,  0.05370579,\n",
              "         -0.00087321,  0.05298258],\n",
              "        ...,\n",
              "        [ 0.00123439,  0.04737226, -0.05519598, ...,  0.05603043,\n",
              "          0.05073603, -0.07342652],\n",
              "        [ 0.04950617,  0.02111102, -0.03767452, ..., -0.02230787,\n",
              "          0.06632876,  0.05753506],\n",
              "        [-0.02096683, -0.08173157, -0.04943026, ...,  0.03091276,\n",
              "          0.05887582, -0.07249793]], dtype=float32)>,\n",
              " <tf.Variable 'dense_layer/bias:0' shape=(10,) dtype=float32, numpy=\n",
              " array([-0.15216696,  0.25219008, -0.01612777, -0.12385391,  0.07418706,\n",
              "         0.46848813, -0.01894405,  0.25201243, -0.63821477, -0.09757163],\n",
              "       dtype=float32)>]"
            ]
          },
          "metadata": {},
          "execution_count": 60
        }
      ]
    },
    {
      "cell_type": "code",
      "source": [
        "model_1 = tf.keras.Sequential()\n",
        "N_hidden = 64\n",
        "model_1.add(Dense(N_hidden, name='dense_layer', input_shape=(784,), activation = 'relu'))\n",
        "model_1.add(Dense(N_hidden, name='dense_layer_2', activation='relu'))\n",
        "model_1.add(Dense(10, name='dense_layer_3', activation = 'softmax'))"
      ],
      "metadata": {
        "id": "kQ_T_UZSlTfc"
      },
      "execution_count": null,
      "outputs": []
    },
    {
      "cell_type": "code",
      "source": [
        "model_1.compile(optimizer='SGD',\n",
        "              loss='categorical_crossentropy',\n",
        "              metrics=['accuracy'])"
      ],
      "metadata": {
        "id": "635XeFYulkln"
      },
      "execution_count": null,
      "outputs": []
    },
    {
      "cell_type": "code",
      "source": [
        "log_dir = \"logs/fit/model1\"\n",
        "tensorboard_callback = tf.keras.callbacks.TensorBoard(log_dir=log_dir, histogram_freq=1)\n",
        "training = model_1.fit(X_train, Y_train, batch_size=128, epochs=30, validation_split=0.2,callbacks=tensorboard_callback)"
      ],
      "metadata": {
        "colab": {
          "base_uri": "https://localhost:8080/"
        },
        "id": "g3EfnaTDlkyA",
        "outputId": "c7f877ec-04cc-44b5-c65d-ac1201fc83de"
      },
      "execution_count": null,
      "outputs": [
        {
          "output_type": "stream",
          "name": "stdout",
          "text": [
            "Epoch 1/30\n",
            "375/375 [==============================] - 2s 5ms/step - loss: 1.6039 - accuracy: 0.5696 - val_loss: 0.8824 - val_accuracy: 0.8069\n",
            "Epoch 2/30\n",
            "375/375 [==============================] - 2s 5ms/step - loss: 0.6712 - accuracy: 0.8383 - val_loss: 0.4921 - val_accuracy: 0.8764\n",
            "Epoch 3/30\n",
            "375/375 [==============================] - 2s 4ms/step - loss: 0.4666 - accuracy: 0.8772 - val_loss: 0.3947 - val_accuracy: 0.8957\n",
            "Epoch 4/30\n",
            "375/375 [==============================] - 2s 6ms/step - loss: 0.3967 - accuracy: 0.8920 - val_loss: 0.3511 - val_accuracy: 0.9020\n",
            "Epoch 5/30\n",
            "375/375 [==============================] - 2s 6ms/step - loss: 0.3605 - accuracy: 0.8993 - val_loss: 0.3244 - val_accuracy: 0.9078\n",
            "Epoch 6/30\n",
            "375/375 [==============================] - 2s 4ms/step - loss: 0.3364 - accuracy: 0.9051 - val_loss: 0.3075 - val_accuracy: 0.9127\n",
            "Epoch 7/30\n",
            "375/375 [==============================] - 2s 4ms/step - loss: 0.3184 - accuracy: 0.9101 - val_loss: 0.2931 - val_accuracy: 0.9181\n",
            "Epoch 8/30\n",
            "375/375 [==============================] - 2s 5ms/step - loss: 0.3037 - accuracy: 0.9140 - val_loss: 0.2806 - val_accuracy: 0.9205\n",
            "Epoch 9/30\n",
            "375/375 [==============================] - 2s 5ms/step - loss: 0.2916 - accuracy: 0.9183 - val_loss: 0.2702 - val_accuracy: 0.9233\n",
            "Epoch 10/30\n",
            "375/375 [==============================] - 2s 4ms/step - loss: 0.2806 - accuracy: 0.9212 - val_loss: 0.2630 - val_accuracy: 0.9263\n",
            "Epoch 11/30\n",
            "375/375 [==============================] - 2s 6ms/step - loss: 0.2708 - accuracy: 0.9233 - val_loss: 0.2544 - val_accuracy: 0.9283\n",
            "Epoch 12/30\n",
            "375/375 [==============================] - 3s 7ms/step - loss: 0.2618 - accuracy: 0.9263 - val_loss: 0.2473 - val_accuracy: 0.9306\n",
            "Epoch 13/30\n",
            "375/375 [==============================] - 2s 4ms/step - loss: 0.2537 - accuracy: 0.9284 - val_loss: 0.2419 - val_accuracy: 0.9317\n",
            "Epoch 14/30\n",
            "375/375 [==============================] - 2s 4ms/step - loss: 0.2463 - accuracy: 0.9304 - val_loss: 0.2354 - val_accuracy: 0.9332\n",
            "Epoch 15/30\n",
            "375/375 [==============================] - 2s 4ms/step - loss: 0.2395 - accuracy: 0.9320 - val_loss: 0.2304 - val_accuracy: 0.9356\n",
            "Epoch 16/30\n",
            "375/375 [==============================] - 2s 5ms/step - loss: 0.2332 - accuracy: 0.9336 - val_loss: 0.2243 - val_accuracy: 0.9364\n",
            "Epoch 17/30\n",
            "375/375 [==============================] - 2s 5ms/step - loss: 0.2273 - accuracy: 0.9361 - val_loss: 0.2191 - val_accuracy: 0.9380\n",
            "Epoch 18/30\n",
            "375/375 [==============================] - 3s 7ms/step - loss: 0.2214 - accuracy: 0.9379 - val_loss: 0.2151 - val_accuracy: 0.9388\n",
            "Epoch 19/30\n",
            "375/375 [==============================] - 2s 5ms/step - loss: 0.2164 - accuracy: 0.9389 - val_loss: 0.2111 - val_accuracy: 0.9400\n",
            "Epoch 20/30\n",
            "375/375 [==============================] - 2s 4ms/step - loss: 0.2114 - accuracy: 0.9402 - val_loss: 0.2066 - val_accuracy: 0.9417\n",
            "Epoch 21/30\n",
            "375/375 [==============================] - 2s 5ms/step - loss: 0.2065 - accuracy: 0.9411 - val_loss: 0.2050 - val_accuracy: 0.9423\n",
            "Epoch 22/30\n",
            "375/375 [==============================] - 2s 4ms/step - loss: 0.2021 - accuracy: 0.9426 - val_loss: 0.1996 - val_accuracy: 0.9445\n",
            "Epoch 23/30\n",
            "375/375 [==============================] - 2s 4ms/step - loss: 0.1977 - accuracy: 0.9436 - val_loss: 0.1970 - val_accuracy: 0.9450\n",
            "Epoch 24/30\n",
            "375/375 [==============================] - 2s 4ms/step - loss: 0.1938 - accuracy: 0.9450 - val_loss: 0.1943 - val_accuracy: 0.9454\n",
            "Epoch 25/30\n",
            "375/375 [==============================] - 3s 7ms/step - loss: 0.1900 - accuracy: 0.9461 - val_loss: 0.1918 - val_accuracy: 0.9461\n",
            "Epoch 26/30\n",
            "375/375 [==============================] - 2s 4ms/step - loss: 0.1863 - accuracy: 0.9474 - val_loss: 0.1878 - val_accuracy: 0.9473\n",
            "Epoch 27/30\n",
            "375/375 [==============================] - 2s 4ms/step - loss: 0.1824 - accuracy: 0.9479 - val_loss: 0.1859 - val_accuracy: 0.9473\n",
            "Epoch 28/30\n",
            "375/375 [==============================] - 2s 4ms/step - loss: 0.1789 - accuracy: 0.9488 - val_loss: 0.1827 - val_accuracy: 0.9482\n",
            "Epoch 29/30\n",
            "375/375 [==============================] - 2s 5ms/step - loss: 0.1758 - accuracy: 0.9496 - val_loss: 0.1808 - val_accuracy: 0.9489\n",
            "Epoch 30/30\n",
            "375/375 [==============================] - 2s 5ms/step - loss: 0.1725 - accuracy: 0.9501 - val_loss: 0.1782 - val_accuracy: 0.9501\n"
          ]
        }
      ]
    },
    {
      "cell_type": "code",
      "source": [
        "import matplotlib.pyplot as plt\n",
        "%matplotlib inline\n",
        "print(training.history.keys())\n",
        "plt.plot(training.history['accuracy'])\n",
        "plt.plot(training.history['val_accuracy'])\n",
        "plt.title('model accuracy')\n",
        "plt.ylabel('accuracy')\n",
        "plt.xlabel('epoch')\n",
        "plt.legend(['train', 'test'], loc='upper left')\n",
        "plt.show()\n",
        "plt.plot(training.history['loss'])\n",
        "plt.plot(training.history['val_loss'])\n",
        "plt.title('model loss')\n",
        "plt.ylabel('loss')\n",
        "plt.xlabel('epoch')\n",
        "plt.legend(['train', 'test'], loc='upper left')\n",
        "plt.show()"
      ],
      "metadata": {
        "colab": {
          "base_uri": "https://localhost:8080/",
          "height": 944
        },
        "id": "7lbbM2MTm7iQ",
        "outputId": "c6b1d899-5433-41da-cc84-438e5c3732bc"
      },
      "execution_count": null,
      "outputs": [
        {
          "output_type": "stream",
          "name": "stdout",
          "text": [
            "dict_keys(['loss', 'accuracy', 'val_loss', 'val_accuracy'])\n"
          ]
        },
        {
          "output_type": "display_data",
          "data": {
            "text/plain": [
              "<Figure size 640x480 with 1 Axes>"
            ],
            "image/png": "[encoded data removed]"
          },
          "metadata": {}
        },
        {
          "output_type": "display_data",
          "data": {
            "text/plain": [
              "<Figure size 640x480 with 1 Axes>"
            ],
            "image/png": "[encoded data removed]"
          },
          "metadata": {}
        }
      ]
    },
    {
      "cell_type": "code",
      "source": [
        "test_loss, test_acc = model_1.evaluate(X_test, Y_test)\n",
        "print('Test accuracy:', test_acc)"
      ],
      "metadata": {
        "colab": {
          "base_uri": "https://localhost:8080/"
        },
        "id": "ECLW9woCno48",
        "outputId": "2f7abfcb-a1eb-4988-8323-afbf4ccf18da"
      },
      "execution_count": null,
      "outputs": [
        {
          "output_type": "stream",
          "name": "stdout",
          "text": [
            "313/313 [==============================] - 2s 6ms/step - loss: 0.1769 - accuracy: 0.9472\n",
            "Test accuracy: 0.9472000002861023\n"
          ]
        }
      ]
    },
    {
      "cell_type": "code",
      "source": [
        "model_1.summary()"
      ],
      "metadata": {
        "colab": {
          "base_uri": "https://localhost:8080/"
        },
        "id": "DZ33hSX4nv4-",
        "outputId": "2a0ee47f-a4d4-42d7-e694-dadb15183db2"
      },
      "execution_count": null,
      "outputs": [
        {
          "output_type": "stream",
          "name": "stdout",
          "text": [
            "Model: \"sequential_7\"\n",
            "_________________________________________________________________\n",
            " Layer (type)                Output Shape              Param #   \n",
            "=================================================================\n",
            " dense_layer (Dense)         (None, 64)                50240     \n",
            "                                                                 \n",
            " dense_layer_2 (Dense)       (None, 64)                4160      \n",
            "                                                                 \n",
            " dense_layer_3 (Dense)       (None, 10)                650       \n",
            "                                                                 \n",
            "=================================================================\n",
            "Total params: 55050 (215.04 KB)\n",
            "Trainable params: 55050 (215.04 KB)\n",
            "Non-trainable params: 0 (0.00 Byte)\n",
            "_________________________________________________________________\n"
          ]
        }
      ]
    },
    {
      "cell_type": "code",
      "source": [
        "model_1.weights"
      ],
      "metadata": {
        "colab": {
          "base_uri": "https://localhost:8080/"
        },
        "id": "7rUSR8F-nysr",
        "outputId": "13fd97b7-4265-49f2-aadf-88f7c670047a"
      },
      "execution_count": null,
      "outputs": [
        {
          "output_type": "execute_result",
          "data": {
            "text/plain": [
              "[<tf.Variable 'dense_layer/kernel:0' shape=(784, 64) dtype=float32, numpy=\n",
              " array([[ 0.05796687,  0.02266952,  0.06459377, ...,  0.08078829,\n",
              "          0.04470701, -0.02582441],\n",
              "        [ 0.06735206, -0.07789087, -0.06927664, ..., -0.02179756,\n",
              "          0.07407921,  0.00986206],\n",
              "        [ 0.03247658,  0.02528881,  0.00045779, ...,  0.06679987,\n",
              "         -0.04780188,  0.02421532],\n",
              "        ...,\n",
              "        [-0.05504298, -0.06836063,  0.05414657, ...,  0.04509778,\n",
              "         -0.048393  , -0.03826425],\n",
              "        [ 0.07997089, -0.0643438 , -0.07993443, ..., -0.01256931,\n",
              "         -0.06365997, -0.0688023 ],\n",
              "        [-0.07045794,  0.07598845, -0.02364568, ..., -0.06751731,\n",
              "          0.01898066, -0.01267704]], dtype=float32)>,\n",
              " <tf.Variable 'dense_layer/bias:0' shape=(64,) dtype=float32, numpy=\n",
              " array([ 7.68498657e-03, -1.28900511e-02,  4.33725193e-02,  6.03756914e-03,\n",
              "         1.42855337e-02,  2.27789488e-02,  6.16930798e-02,  1.45030785e-02,\n",
              "         1.22333974e-01, -5.89302815e-02,  8.38808045e-02, -8.94619748e-02,\n",
              "        -4.13085185e-02,  5.88508835e-03,  4.21282463e-02,  1.02181230e-02,\n",
              "        -1.68714970e-02,  1.11209109e-01, -6.63138879e-03, -2.77898069e-02,\n",
              "         1.50248185e-02,  7.70408139e-02, -6.66017458e-03, -4.09626495e-03,\n",
              "         1.03553160e-04,  1.48550436e-01, -1.52061647e-02,  9.38130729e-03,\n",
              "         1.40163332e-01, -3.70768756e-02, -3.98289645e-03, -1.26531618e-02,\n",
              "         2.17851270e-02,  2.54197866e-02,  1.44009337e-01, -6.21850975e-03,\n",
              "        -3.41568589e-02,  1.93801206e-02,  5.53090274e-02,  1.94253307e-02,\n",
              "         9.83543247e-02,  9.58295688e-02,  1.93118099e-02, -1.30928811e-02,\n",
              "         1.06384344e-02,  1.07376622e-02,  9.51937586e-02, -5.48015721e-03,\n",
              "         1.13468044e-01,  1.28767163e-01, -2.77802497e-02,  4.16106209e-02,\n",
              "         4.46038283e-02,  2.17504185e-02,  3.65980305e-02, -6.55443743e-02,\n",
              "        -5.66156730e-02, -1.89634543e-02,  6.51440173e-02,  3.46832573e-02,\n",
              "        -2.63599157e-02,  7.65558779e-02,  8.77490416e-02, -1.38922082e-03],\n",
              "       dtype=float32)>,\n",
              " <tf.Variable 'dense_layer_2/kernel:0' shape=(64, 64) dtype=float32, numpy=\n",
              " array([[ 0.00059812,  0.16027232,  0.19118086, ..., -0.11026821,\n",
              "         -0.03036653, -0.21236955],\n",
              "        [-0.09643624, -0.14299746, -0.02022827, ..., -0.06770815,\n",
              "         -0.06777583,  0.13507523],\n",
              "        [ 0.16727796,  0.20717666,  0.00564968, ...,  0.11661761,\n",
              "          0.16936895, -0.01258214],\n",
              "        ...,\n",
              "        [-0.03645473, -0.10814268, -0.02708608, ..., -0.12670387,\n",
              "          0.21942623,  0.09532544],\n",
              "        [-0.04925153, -0.01397758,  0.1321867 , ...,  0.20934002,\n",
              "         -0.25081098,  0.12248858],\n",
              "        [ 0.05973511, -0.01740307,  0.04011224, ..., -0.12940189,\n",
              "         -0.14107999, -0.07350931]], dtype=float32)>,\n",
              " <tf.Variable 'dense_layer_2/bias:0' shape=(64,) dtype=float32, numpy=\n",
              " array([ 1.42233968e-02,  1.71937246e-03,  1.13783088e-02,  3.92945968e-02,\n",
              "         6.09430037e-02,  3.70675847e-02, -4.40809829e-03, -1.53974909e-03,\n",
              "        -1.86949875e-03,  1.16004031e-02, -4.63412516e-03,  1.18973143e-01,\n",
              "         5.81876598e-02, -4.04713117e-02, -4.34592329e-02,  6.08852617e-02,\n",
              "        -5.21145910e-02,  1.36927664e-01, -2.18255613e-02, -1.74512826e-02,\n",
              "         2.29643025e-02, -3.54421064e-02, -4.49311435e-02,  8.02369639e-02,\n",
              "         5.98842688e-02,  1.02100961e-01,  8.46229717e-02,  4.64910865e-02,\n",
              "        -1.71182156e-02, -8.99092702e-05,  1.48442079e-04,  2.14672908e-02,\n",
              "        -8.20285305e-02,  1.36706885e-03, -2.10618805e-02, -2.72639040e-02,\n",
              "         3.30714621e-02, -2.03715201e-04,  3.83364372e-02,  2.47826986e-02,\n",
              "        -2.67794356e-02,  6.52420713e-05, -6.09980850e-03,  2.99443491e-02,\n",
              "         1.35135222e-02, -1.11023355e-02,  4.74202670e-02,  1.29970565e-01,\n",
              "         3.39267813e-02,  7.45740486e-03,  2.71456763e-02, -6.26918441e-03,\n",
              "         5.57097010e-05,  5.66079691e-02,  6.48965016e-02, -3.12288273e-02,\n",
              "         1.00674048e-01,  1.18030615e-01, -6.42646179e-02,  3.88785452e-02,\n",
              "         4.44087014e-02,  6.74908981e-02,  9.29161441e-03, -9.24055837e-03],\n",
              "       dtype=float32)>,\n",
              " <tf.Variable 'dense_layer_3/kernel:0' shape=(64, 10) dtype=float32, numpy=\n",
              " array([[ 1.13881297e-01,  2.86271155e-01,  1.87110007e-01,\n",
              "         -3.71725895e-02,  2.31797084e-01, -8.01614299e-02,\n",
              "         -2.63826489e-01, -2.63981849e-01, -2.61074211e-02,\n",
              "          1.90489724e-01],\n",
              "        [-2.81653196e-01,  1.96153894e-01, -2.33078584e-01,\n",
              "         -4.45888698e-01,  1.47290111e-01, -3.26354265e-01,\n",
              "          1.72668248e-01,  2.71820009e-01,  1.90042350e-02,\n",
              "          1.20414048e-01],\n",
              "        [-2.93774568e-02,  2.36519147e-02,  3.48273814e-01,\n",
              "          1.44155032e-03,  7.40027502e-02, -1.23089701e-01,\n",
              "         -3.70817721e-01, -1.08234458e-01,  3.75776440e-02,\n",
              "          1.55413285e-01],\n",
              "        [ 2.60870248e-01,  1.80219803e-02,  4.21743274e-01,\n",
              "          2.64861047e-01, -2.30334014e-01,  5.46701312e-01,\n",
              "          2.33086839e-01, -3.41383606e-01, -4.03046757e-01,\n",
              "          1.49647772e-01],\n",
              "        [-1.63366869e-01, -4.49851185e-01,  3.15104455e-01,\n",
              "         -5.99784404e-02,  1.10078499e-01,  7.24659339e-02,\n",
              "         -5.02393484e-01,  1.08217224e-02, -2.08291970e-02,\n",
              "          2.65378028e-01],\n",
              "        [-2.30852619e-01,  3.86559784e-01,  1.52569283e-02,\n",
              "          3.98788184e-01, -5.46913408e-02,  1.55829266e-01,\n",
              "         -2.83305973e-01, -4.80402797e-01, -2.49738261e-01,\n",
              "          1.87677488e-01],\n",
              "        [-1.34951338e-01,  4.39898558e-02,  1.11466058e-01,\n",
              "          9.01411772e-02,  2.61597127e-01,  5.85690513e-02,\n",
              "          7.84204081e-02, -1.57249849e-02,  2.45229676e-02,\n",
              "          2.42301852e-01],\n",
              "        [ 9.97504368e-02, -2.54007708e-03, -9.29182768e-02,\n",
              "         -5.96527494e-02, -2.35226497e-01, -1.28431156e-01,\n",
              "          3.62652361e-01,  2.12163195e-01, -2.78982192e-01,\n",
              "          1.89674310e-02],\n",
              "        [ 5.71019724e-02, -2.70562500e-01, -4.40117270e-02,\n",
              "         -1.75224826e-01,  1.74791902e-01, -2.74027050e-01,\n",
              "          2.49690652e-01,  1.98951557e-01,  2.49015510e-01,\n",
              "          1.30324647e-01],\n",
              "        [-2.20588714e-01, -2.49333575e-01, -1.57716200e-01,\n",
              "          2.70288229e-01, -1.52063683e-01,  5.70982337e-01,\n",
              "          5.67128696e-02, -1.92444012e-01, -1.99066520e-01,\n",
              "         -1.51813701e-01],\n",
              "        [ 4.69855033e-02,  8.94021913e-02,  2.19282269e-01,\n",
              "          1.35300741e-01,  2.46798262e-01, -9.29669961e-02,\n",
              "         -8.12823996e-02, -1.37762800e-01, -2.08525151e-01,\n",
              "         -1.69475839e-01],\n",
              "        [-4.73602772e-01,  2.76856069e-02,  5.89735769e-02,\n",
              "         -3.27683613e-02, -2.69472659e-01, -3.09504539e-01,\n",
              "         -2.61815667e-01,  3.63329977e-01, -4.84206915e-01,\n",
              "          4.82936382e-01],\n",
              "        [-2.93108020e-02,  1.37473211e-01,  2.89512217e-01,\n",
              "         -2.77351767e-01,  5.37753813e-02,  2.57450372e-01,\n",
              "         -1.47455141e-01,  1.14259489e-01, -3.70469540e-01,\n",
              "         -3.62593859e-01],\n",
              "        [ 4.34636503e-01, -4.91023868e-01,  3.12396325e-02,\n",
              "          3.49767745e-01, -1.72619253e-01, -6.39792740e-01,\n",
              "          4.30367980e-03,  5.06518841e-01,  1.04558639e-01,\n",
              "          3.59713435e-01],\n",
              "        [-2.08868206e-01, -5.21344505e-02,  3.36565882e-01,\n",
              "         -1.15969613e-01, -1.81368768e-01, -2.17911571e-01,\n",
              "         -2.00526863e-01, -2.90154964e-01,  1.58706099e-01,\n",
              "         -1.69111878e-01],\n",
              "        [-1.11063451e-01,  4.53279078e-01,  2.20690876e-01,\n",
              "         -4.02269214e-01,  1.46046683e-01,  2.86438078e-01,\n",
              "         -2.92826034e-02,  2.66674370e-01, -4.59405780e-01,\n",
              "         -3.49065244e-01],\n",
              "        [-4.89004225e-01,  1.17017530e-01,  4.68832225e-01,\n",
              "          3.59750211e-01, -4.18525964e-01, -1.25783980e-01,\n",
              "          3.63661021e-01,  2.54998118e-01,  3.52133550e-02,\n",
              "         -2.88827628e-01],\n",
              "        [-2.59130120e-01, -3.53133440e-01, -3.62415612e-01,\n",
              "         -4.20720756e-01,  8.13521743e-02,  3.69388998e-01,\n",
              "         -3.88654023e-01,  4.66928899e-01,  2.28166863e-01,\n",
              "         -1.93019301e-01],\n",
              "        [-1.07964739e-01,  1.67658553e-01,  2.50039816e-01,\n",
              "         -7.13581741e-02, -2.47866228e-01, -3.64810944e-01,\n",
              "         -1.45608723e-01,  9.70470458e-02, -3.81122380e-02,\n",
              "         -3.61661911e-01],\n",
              "        [ 2.91844666e-01,  1.68867424e-01, -1.90504100e-02,\n",
              "          1.79713562e-01, -3.15806806e-01, -3.70465279e-01,\n",
              "          2.18617037e-01,  9.05187875e-02, -1.72974870e-01,\n",
              "          1.03508480e-01],\n",
              "        [ 3.78677517e-01, -2.29214698e-01,  4.02515121e-02,\n",
              "          4.01943594e-01, -1.91228747e-01, -3.15392315e-01,\n",
              "         -1.29389800e-02,  2.87036121e-01, -2.85052001e-01,\n",
              "         -2.02485807e-02],\n",
              "        [-4.18090582e-01,  4.01749015e-02, -4.90672261e-01,\n",
              "         -2.06143484e-01,  3.65480065e-01, -3.99872780e-01,\n",
              "         -1.24472938e-01, -1.97225943e-01,  3.79060119e-01,\n",
              "          2.64624238e-01],\n",
              "        [ 3.72068912e-01, -2.24771500e-01,  4.93517995e-01,\n",
              "         -1.34902969e-01, -3.92953247e-01,  3.93355578e-01,\n",
              "          1.76410586e-01, -1.99334741e-01,  5.44857562e-01,\n",
              "          9.47130620e-02],\n",
              "        [ 3.23891729e-01,  1.06489256e-01, -3.45428795e-01,\n",
              "         -4.65058655e-01,  4.06726003e-01,  4.36847776e-01,\n",
              "          9.97574851e-02, -3.62169385e-01,  9.04352143e-02,\n",
              "          2.48712614e-01],\n",
              "        [-1.81513160e-01,  3.59182321e-02, -3.50825340e-01,\n",
              "          1.24208108e-01, -1.51755854e-01,  4.52832490e-01,\n",
              "          6.58589974e-02,  8.92428979e-02, -3.05373907e-01,\n",
              "         -1.90016150e-01],\n",
              "        [ 9.85336751e-02,  1.90770149e-01, -3.48659128e-01,\n",
              "         -8.30607116e-02,  1.94560379e-01,  4.01846588e-01,\n",
              "         -2.48691589e-01,  3.67263079e-01, -2.75280118e-01,\n",
              "         -1.66208848e-01],\n",
              "        [-2.11880803e-01, -4.27199811e-01, -1.06872663e-01,\n",
              "          1.39453098e-01,  3.13527048e-01,  3.31445992e-01,\n",
              "          2.74932951e-01, -1.53876096e-01, -3.14910471e-01,\n",
              "          1.39728948e-01],\n",
              "        [-2.48851538e-01, -1.96770236e-01,  3.73096168e-01,\n",
              "         -2.83812672e-01,  4.23793107e-01, -9.85212345e-03,\n",
              "         -1.71342090e-01,  1.38911232e-01,  6.78389445e-02,\n",
              "         -2.18317717e-01],\n",
              "        [ 4.33267280e-02, -2.19059497e-01, -1.78215086e-01,\n",
              "          2.37380743e-01,  6.55985847e-02,  1.17262051e-01,\n",
              "          1.16736621e-01,  2.54495919e-01, -1.17211342e-01,\n",
              "         -9.86301675e-02],\n",
              "        [ 2.11602040e-02,  4.01087627e-02, -1.75017402e-01,\n",
              "          1.73941091e-01,  2.72309512e-01,  5.05400933e-02,\n",
              "         -3.23983356e-02, -3.98086980e-02,  1.72211647e-01,\n",
              "         -2.82961965e-01],\n",
              "        [ 5.46851903e-02,  4.47430788e-03, -2.58498520e-01,\n",
              "          3.23641337e-02, -1.42671213e-01,  1.74474940e-01,\n",
              "          2.64482766e-01, -4.13548984e-02, -1.02177508e-01,\n",
              "          9.75505188e-02],\n",
              "        [ 4.36393827e-01, -1.27523437e-01,  1.62965488e-02,\n",
              "          1.00015067e-01, -2.13011518e-01,  2.69623250e-02,\n",
              "          4.44068581e-01, -2.37755641e-01, -2.51576275e-01,\n",
              "         -1.47690341e-01],\n",
              "        [-5.43374456e-02,  1.87034294e-01,  9.56472605e-02,\n",
              "         -9.77052599e-02, -3.89318317e-01, -6.28798783e-01,\n",
              "          6.38289377e-02, -1.67279821e-02,  4.10788178e-01,\n",
              "          1.58502221e-01],\n",
              "        [-1.74257725e-01, -1.73325554e-01, -2.82883286e-01,\n",
              "          2.33179688e-01,  2.07270950e-01, -2.30337813e-01,\n",
              "         -6.44231066e-02, -1.25379294e-01, -2.49881983e-01,\n",
              "         -2.63154954e-01],\n",
              "        [-1.09460719e-01, -2.01516703e-01, -5.21915793e-01,\n",
              "          1.95970729e-01,  3.06976318e-01, -1.63553461e-01,\n",
              "         -2.88187653e-01,  2.45197490e-01,  3.58514130e-01,\n",
              "         -2.09825501e-01],\n",
              "        [-1.66296080e-01,  4.38327789e-02, -2.53125370e-01,\n",
              "          4.23897244e-02,  1.55328393e-01, -2.29526237e-01,\n",
              "          1.71326026e-01, -1.58757508e-01, -3.19672190e-02,\n",
              "          2.44919479e-01],\n",
              "        [-1.95433259e-01,  1.67778820e-01, -2.30442241e-01,\n",
              "         -4.29459631e-01, -1.95943266e-01, -1.87099159e-01,\n",
              "         -1.62117541e-01,  2.79697984e-01,  7.78751299e-02,\n",
              "         -3.88552636e-01],\n",
              "        [ 1.77967250e-01,  1.24953352e-01, -1.65714189e-01,\n",
              "          1.44118108e-02, -1.89009815e-01,  1.06714778e-01,\n",
              "          2.78997540e-01,  2.83935636e-01,  1.17689803e-01,\n",
              "         -5.66283092e-02],\n",
              "        [ 1.67826086e-01,  1.62733257e-01, -3.92980635e-01,\n",
              "          3.23435009e-01,  2.42195264e-01, -2.46074483e-01,\n",
              "         -2.68925905e-01, -4.87757958e-02, -1.98007643e-01,\n",
              "          3.43878530e-02],\n",
              "        [-3.34671922e-02,  8.75449404e-02, -7.01656044e-02,\n",
              "         -1.51997954e-01,  8.43704864e-02,  4.43592034e-02,\n",
              "          2.06633896e-01, -1.94295406e-01, -3.94755691e-01,\n",
              "         -1.02368779e-01],\n",
              "        [-2.47293264e-02, -2.30565131e-01,  5.87233305e-01,\n",
              "          1.71888411e-01, -2.51351058e-01, -1.81026056e-01,\n",
              "         -1.26253173e-01,  4.49177772e-01, -5.22221588e-02,\n",
              "         -3.37838084e-01],\n",
              "        [ 2.89621241e-02,  3.49553600e-02, -1.33222058e-01,\n",
              "         -4.02289769e-03, -8.76079649e-02, -2.27612063e-01,\n",
              "         -6.82492107e-02,  2.37927541e-01, -2.55220622e-01,\n",
              "         -5.01781665e-02],\n",
              "        [ 1.06899664e-01, -1.26107529e-01, -2.50729084e-01,\n",
              "         -2.60822356e-01,  1.04098320e-01, -2.75095612e-01,\n",
              "          3.14932205e-02,  2.25946262e-01, -1.77125286e-04,\n",
              "          7.36387745e-02],\n",
              "        [ 4.63116497e-01, -4.80628721e-02,  1.38528589e-02,\n",
              "         -5.63037097e-02, -3.05732917e-02,  4.28207159e-01,\n",
              "         -2.15768978e-01, -3.71232390e-01,  9.92485583e-02,\n",
              "          1.41536295e-01],\n",
              "        [-3.84728312e-01,  3.78269792e-01, -2.42562681e-01,\n",
              "          3.52375388e-01, -3.52643967e-01, -1.78475708e-01,\n",
              "          3.60918082e-02,  2.09044203e-01,  1.73020080e-01,\n",
              "         -2.35168397e-01],\n",
              "        [ 2.13366002e-01,  1.03436895e-01, -2.51425922e-01,\n",
              "         -8.47606659e-02, -8.85418877e-02,  2.63773531e-01,\n",
              "          3.42575051e-02,  6.17362894e-02,  2.00111791e-01,\n",
              "          1.44605398e-01],\n",
              "        [-2.98838317e-01,  3.50534655e-02, -3.29923593e-02,\n",
              "         -2.02189803e-01,  2.70675451e-01,  9.96644273e-02,\n",
              "         -3.86350192e-02, -3.24023008e-01, -1.53887972e-01,\n",
              "          9.77799892e-02],\n",
              "        [-9.80844647e-02,  2.33221039e-01,  2.05243722e-01,\n",
              "          3.12688686e-02, -1.99906155e-01,  4.06603724e-01,\n",
              "         -4.00551617e-01,  4.77781355e-01, -4.05284464e-01,\n",
              "          3.76790613e-01],\n",
              "        [-2.06973508e-01, -2.26163827e-02, -2.44814008e-01,\n",
              "          6.99716434e-02,  3.81022304e-01, -3.01435769e-01,\n",
              "         -2.84542084e-01, -1.61371961e-01, -3.30889523e-01,\n",
              "          5.17473340e-01],\n",
              "        [ 7.63535127e-02,  1.21699139e-01, -1.62423521e-01,\n",
              "          3.37370306e-01,  3.03959727e-01,  1.26466304e-01,\n",
              "         -2.36941472e-01, -3.85953307e-01,  1.79176643e-01,\n",
              "          3.66121382e-01],\n",
              "        [ 2.47314479e-02,  1.74162477e-01, -9.21685323e-02,\n",
              "          4.48273391e-01,  3.26780006e-02, -3.24740916e-01,\n",
              "          5.54024428e-02, -2.08601221e-01, -3.02554220e-01,\n",
              "         -2.26049021e-01],\n",
              "        [-5.67291342e-02,  1.32730126e-01, -1.32218659e-01,\n",
              "          1.30778670e-01, -2.81578094e-01,  5.66028878e-02,\n",
              "          1.72251314e-01, -1.39318436e-01, -2.50780191e-02,\n",
              "          4.50415820e-01],\n",
              "        [ 2.35203445e-01, -2.73045033e-01,  1.24181159e-01,\n",
              "          1.91297844e-01, -4.54468243e-02,  9.16278288e-02,\n",
              "         -1.59704164e-01, -7.50904530e-02,  1.19701633e-02,\n",
              "          1.48681089e-01],\n",
              "        [-4.39725280e-01, -1.01965792e-01, -1.64810002e-01,\n",
              "         -3.24075192e-01,  1.13006365e-02,  2.62318850e-01,\n",
              "          5.49529910e-01, -3.91005367e-01,  2.96247393e-01,\n",
              "         -4.86727320e-02],\n",
              "        [ 1.38252020e-01, -2.52701640e-01, -1.14291623e-01,\n",
              "          2.00812206e-01, -1.61088362e-01,  3.19316506e-01,\n",
              "         -4.03142393e-01,  2.18643263e-01,  2.65190870e-01,\n",
              "         -3.99438739e-02],\n",
              "        [ 2.45403662e-01, -2.44305164e-01,  1.80246055e-01,\n",
              "          1.19436435e-01,  3.65030497e-01, -2.14079633e-01,\n",
              "          2.07919940e-01, -1.06979631e-01, -2.61567026e-01,\n",
              "          1.55678347e-01],\n",
              "        [ 2.30542049e-01,  2.58310735e-01,  1.26289085e-01,\n",
              "         -3.96421790e-01, -3.37679237e-01,  3.50470930e-01,\n",
              "         -1.00032903e-01,  4.63037491e-01, -2.54197776e-01,\n",
              "          2.81962693e-01],\n",
              "        [-1.04648225e-01,  2.61195540e-01, -7.27230534e-02,\n",
              "          2.37256229e-01, -4.71492440e-01,  3.85416359e-01,\n",
              "         -4.17066485e-01, -3.65368128e-01, -1.26598716e-01,\n",
              "         -1.63135633e-01],\n",
              "        [ 1.75972030e-01,  1.64713934e-01,  2.37155706e-01,\n",
              "          2.84261763e-01, -5.10171831e-01,  3.57145779e-02,\n",
              "         -2.30790153e-01, -1.08142123e-01,  3.75498235e-01,\n",
              "         -2.93278009e-01],\n",
              "        [ 5.54667413e-01, -1.26817688e-01,  2.41308242e-01,\n",
              "         -3.16698194e-01, -5.04448339e-02, -7.54941851e-02,\n",
              "          4.52055633e-01, -1.08897306e-01, -1.79865986e-01,\n",
              "         -7.18610827e-04],\n",
              "        [ 2.65158147e-01, -2.90550232e-01,  1.92234308e-01,\n",
              "         -1.04271010e-01,  4.52662319e-01, -4.05580074e-01,\n",
              "         -4.82557863e-02,  7.54217356e-02, -3.49914074e-01,\n",
              "         -3.86783957e-01],\n",
              "        [ 3.98892134e-01, -2.38244236e-01,  1.30567821e-02,\n",
              "          3.07297617e-01, -3.95423353e-01,  5.10590255e-01,\n",
              "         -4.16874513e-02, -4.85934243e-02, -2.03407869e-01,\n",
              "         -2.15352982e-01],\n",
              "        [-2.52518654e-01, -3.38630378e-02,  3.21615785e-01,\n",
              "         -1.77938640e-01,  5.35882175e-01, -2.79210418e-01,\n",
              "          5.72985291e-01, -2.20031142e-01, -2.64154911e-01,\n",
              "         -5.79643011e-01],\n",
              "        [-8.88657793e-02,  2.65610367e-01,  8.47191811e-02,\n",
              "         -2.15964228e-01, -9.52110812e-02, -1.44237857e-02,\n",
              "          2.40571916e-01, -2.85202026e-01,  1.38944939e-01,\n",
              "         -2.42098704e-01]], dtype=float32)>,\n",
              " <tf.Variable 'dense_layer_3/bias:0' shape=(10,) dtype=float32, numpy=\n",
              " array([-0.08936694,  0.12443446, -0.01546279, -0.07268716,  0.04232995,\n",
              "         0.16846442, -0.02097627,  0.04261373, -0.16158868, -0.017761  ],\n",
              "       dtype=float32)>]"
            ]
          },
          "metadata": {},
          "execution_count": 67
        }
      ]
    },
    {
      "cell_type": "code",
      "source": [
        "from tensorflow.keras.layers import Dropout\n",
        "model_2 = tf.keras.Sequential()\n",
        "N_hidden = 128\n",
        "model_2.add(Dense(N_hidden, name='dense_layer', input_shape=(784,), activation = 'relu'))\n",
        "model_2.add(Dropout(0.3))\n",
        "model_2.add(Dense(N_hidden, name='dense_layer_2', activation='relu'))\n",
        "model_2.add(Dropout(0.3))\n",
        "model_2.add(Dense(10, name='dense_layer_3', activation = 'softmax'))\n"
      ],
      "metadata": {
        "id": "BWxWoFrUpQze"
      },
      "execution_count": null,
      "outputs": []
    },
    {
      "cell_type": "code",
      "source": [
        "model_2.summary()"
      ],
      "metadata": {
        "colab": {
          "base_uri": "https://localhost:8080/"
        },
        "id": "0WIoMgTyqmcv",
        "outputId": "2074ada4-71ad-4050-9f1a-7d10fbb054bc"
      },
      "execution_count": null,
      "outputs": [
        {
          "output_type": "stream",
          "name": "stdout",
          "text": [
            "Model: \"sequential_10\"\n",
            "_________________________________________________________________\n",
            " Layer (type)                Output Shape              Param #   \n",
            "=================================================================\n",
            " dense_layer (Dense)         (None, 128)               100480    \n",
            "                                                                 \n",
            " dropout_2 (Dropout)         (None, 128)               0         \n",
            "                                                                 \n",
            " dense_layer_2 (Dense)       (None, 128)               16512     \n",
            "                                                                 \n",
            " dropout_3 (Dropout)         (None, 128)               0         \n",
            "                                                                 \n",
            " dense_layer_3 (Dense)       (None, 10)                1290      \n",
            "                                                                 \n",
            "=================================================================\n",
            "Total params: 118282 (462.04 KB)\n",
            "Trainable params: 118282 (462.04 KB)\n",
            "Non-trainable params: 0 (0.00 Byte)\n",
            "_________________________________________________________________\n"
          ]
        }
      ]
    },
    {
      "cell_type": "code",
      "source": [
        "model_2.compile(optimizer='SGD',\n",
        "              loss='categorical_crossentropy',\n",
        "              metrics=['accuracy'])"
      ],
      "metadata": {
        "id": "KvMtW8lOq4hl"
      },
      "execution_count": null,
      "outputs": []
    },
    {
      "cell_type": "code",
      "source": [
        "log_dir = \"logs/fit/model2\"\n",
        "tensorboard_callback = tf.keras.callbacks.TensorBoard(log_dir=log_dir, histogram_freq=1)\n",
        "training = model_2.fit(X_train, Y_train, batch_size=128, epochs=30, validation_split=0.2,callbacks=tensorboard_callback)"
      ],
      "metadata": {
        "colab": {
          "base_uri": "https://localhost:8080/"
        },
        "id": "E5-MUteBq4nd",
        "outputId": "1fdd1f65-8c99-4d49-fea2-e7e1f1631fcc"
      },
      "execution_count": null,
      "outputs": [
        {
          "output_type": "stream",
          "name": "stdout",
          "text": [
            "Epoch 1/30\n",
            "375/375 [==============================] - 4s 8ms/step - loss: 1.7102 - accuracy: 0.4616 - val_loss: 0.8925 - val_accuracy: 0.8055\n",
            "Epoch 2/30\n",
            "375/375 [==============================] - 3s 7ms/step - loss: 0.9152 - accuracy: 0.7172 - val_loss: 0.5289 - val_accuracy: 0.8706\n",
            "Epoch 3/30\n",
            "375/375 [==============================] - 2s 6ms/step - loss: 0.6997 - accuracy: 0.7831 - val_loss: 0.4263 - val_accuracy: 0.8882\n",
            "Epoch 4/30\n",
            "375/375 [==============================] - 2s 6ms/step - loss: 0.5994 - accuracy: 0.8170 - val_loss: 0.3722 - val_accuracy: 0.8996\n",
            "Epoch 5/30\n",
            "375/375 [==============================] - 2s 6ms/step - loss: 0.5347 - accuracy: 0.8386 - val_loss: 0.3380 - val_accuracy: 0.9069\n",
            "Epoch 6/30\n",
            "375/375 [==============================] - 3s 7ms/step - loss: 0.4923 - accuracy: 0.8547 - val_loss: 0.3136 - val_accuracy: 0.9109\n",
            "Epoch 7/30\n",
            "375/375 [==============================] - 3s 8ms/step - loss: 0.4612 - accuracy: 0.8624 - val_loss: 0.2959 - val_accuracy: 0.9159\n",
            "Epoch 8/30\n",
            "375/375 [==============================] - 2s 6ms/step - loss: 0.4331 - accuracy: 0.8721 - val_loss: 0.2796 - val_accuracy: 0.9203\n",
            "Epoch 9/30\n",
            "375/375 [==============================] - 3s 7ms/step - loss: 0.4110 - accuracy: 0.8780 - val_loss: 0.2667 - val_accuracy: 0.9238\n",
            "Epoch 10/30\n",
            "375/375 [==============================] - 2s 6ms/step - loss: 0.3898 - accuracy: 0.8856 - val_loss: 0.2561 - val_accuracy: 0.9261\n",
            "Epoch 11/30\n",
            "375/375 [==============================] - 3s 7ms/step - loss: 0.3752 - accuracy: 0.8885 - val_loss: 0.2450 - val_accuracy: 0.9299\n",
            "Epoch 12/30\n",
            "375/375 [==============================] - 3s 8ms/step - loss: 0.3613 - accuracy: 0.8938 - val_loss: 0.2369 - val_accuracy: 0.9320\n",
            "Epoch 13/30\n",
            "375/375 [==============================] - 2s 6ms/step - loss: 0.3501 - accuracy: 0.8967 - val_loss: 0.2295 - val_accuracy: 0.9337\n",
            "Epoch 14/30\n",
            "375/375 [==============================] - 2s 6ms/step - loss: 0.3395 - accuracy: 0.9015 - val_loss: 0.2234 - val_accuracy: 0.9362\n",
            "Epoch 15/30\n",
            "375/375 [==============================] - 2s 6ms/step - loss: 0.3288 - accuracy: 0.9030 - val_loss: 0.2146 - val_accuracy: 0.9381\n",
            "Epoch 16/30\n",
            "375/375 [==============================] - 3s 7ms/step - loss: 0.3193 - accuracy: 0.9057 - val_loss: 0.2086 - val_accuracy: 0.9393\n",
            "Epoch 17/30\n",
            "375/375 [==============================] - 3s 8ms/step - loss: 0.3096 - accuracy: 0.9091 - val_loss: 0.2044 - val_accuracy: 0.9402\n",
            "Epoch 18/30\n",
            "375/375 [==============================] - 2s 6ms/step - loss: 0.3047 - accuracy: 0.9103 - val_loss: 0.1985 - val_accuracy: 0.9412\n",
            "Epoch 19/30\n",
            "375/375 [==============================] - 2s 6ms/step - loss: 0.2918 - accuracy: 0.9138 - val_loss: 0.1934 - val_accuracy: 0.9433\n",
            "Epoch 20/30\n",
            "375/375 [==============================] - 2s 6ms/step - loss: 0.2890 - accuracy: 0.9149 - val_loss: 0.1898 - val_accuracy: 0.9436\n",
            "Epoch 21/30\n",
            "375/375 [==============================] - 2s 6ms/step - loss: 0.2798 - accuracy: 0.9178 - val_loss: 0.1852 - val_accuracy: 0.9453\n",
            "Epoch 22/30\n",
            "375/375 [==============================] - 3s 9ms/step - loss: 0.2759 - accuracy: 0.9197 - val_loss: 0.1817 - val_accuracy: 0.9465\n",
            "Epoch 23/30\n",
            "375/375 [==============================] - 2s 6ms/step - loss: 0.2688 - accuracy: 0.9211 - val_loss: 0.1774 - val_accuracy: 0.9469\n",
            "Epoch 24/30\n",
            "375/375 [==============================] - 2s 6ms/step - loss: 0.2647 - accuracy: 0.9214 - val_loss: 0.1737 - val_accuracy: 0.9480\n",
            "Epoch 25/30\n",
            "375/375 [==============================] - 2s 6ms/step - loss: 0.2561 - accuracy: 0.9246 - val_loss: 0.1703 - val_accuracy: 0.9490\n",
            "Epoch 26/30\n",
            "375/375 [==============================] - 2s 6ms/step - loss: 0.2545 - accuracy: 0.9252 - val_loss: 0.1669 - val_accuracy: 0.9498\n",
            "Epoch 27/30\n",
            "375/375 [==============================] - 3s 9ms/step - loss: 0.2478 - accuracy: 0.9273 - val_loss: 0.1648 - val_accuracy: 0.9508\n",
            "Epoch 28/30\n",
            "375/375 [==============================] - 2s 6ms/step - loss: 0.2453 - accuracy: 0.9276 - val_loss: 0.1617 - val_accuracy: 0.9515\n",
            "Epoch 29/30\n",
            "375/375 [==============================] - 2s 6ms/step - loss: 0.2378 - accuracy: 0.9296 - val_loss: 0.1589 - val_accuracy: 0.9523\n",
            "Epoch 30/30\n",
            "375/375 [==============================] - 2s 6ms/step - loss: 0.2363 - accuracy: 0.9305 - val_loss: 0.1568 - val_accuracy: 0.9528\n"
          ]
        }
      ]
    },
    {
      "cell_type": "code",
      "source": [
        "import matplotlib.pyplot as plt\n",
        "%matplotlib inline\n",
        "print(training.history.keys())\n",
        "plt.plot(training.history['accuracy'])\n",
        "plt.plot(training.history['val_accuracy'])\n",
        "plt.title('model accuracy')\n",
        "plt.ylabel('accuracy')\n",
        "plt.xlabel('epoch')\n",
        "plt.legend(['train', 'test'], loc='upper left')\n",
        "plt.show()\n",
        "plt.plot(training.history['loss'])\n",
        "plt.plot(training.history['val_loss'])\n",
        "plt.title('model loss')\n",
        "plt.ylabel('loss')\n",
        "plt.xlabel('epoch')\n",
        "plt.legend(['train', 'test'], loc='upper left')\n",
        "plt.show()"
      ],
      "metadata": {
        "colab": {
          "base_uri": "https://localhost:8080/",
          "height": 944
        },
        "id": "NNyb4iNGsaAs",
        "outputId": "f62fb076-12dc-47d3-82d0-7b8ae4653b18"
      },
      "execution_count": null,
      "outputs": [
        {
          "output_type": "stream",
          "name": "stdout",
          "text": [
            "dict_keys(['loss', 'accuracy', 'val_loss', 'val_accuracy'])\n"
          ]
        },
        {
          "output_type": "display_data",
          "data": {
            "text/plain": [
              "<Figure size 640x480 with 1 Axes>"
            ],
            "image/png": "[encoded data removed]"
          },
          "metadata": {}
        },
        {
          "output_type": "display_data",
          "data": {
            "text/plain": [
              "<Figure size 640x480 with 1 Axes>"
            ],
            "image/png": "[encoded data removed]"
          },
          "metadata": {}
        }
      ]
    },
    {
      "cell_type": "code",
      "source": [
        "test_loss, test_acc = model_2.evaluate(X_test, Y_test)\n",
        "print('Test accuracy:', test_acc)"
      ],
      "metadata": {
        "colab": {
          "base_uri": "https://localhost:8080/"
        },
        "id": "uRwf8d8ossl9",
        "outputId": "6648f3a7-d9f4-4ff3-814e-cb3befe1ce15"
      },
      "execution_count": null,
      "outputs": [
        {
          "output_type": "stream",
          "name": "stdout",
          "text": [
            "313/313 [==============================] - 1s 2ms/step - loss: 0.1558 - accuracy: 0.9524\n",
            "Test accuracy: 0.9524000287055969\n"
          ]
        }
      ]
    },
    {
      "cell_type": "code",
      "source": [
        "model_2.summary()"
      ],
      "metadata": {
        "colab": {
          "base_uri": "https://localhost:8080/"
        },
        "id": "ul8Bp3YPsvMi",
        "outputId": "1b5c2ba9-a8e9-4b1b-b9d6-d51b07ebdea9"
      },
      "execution_count": null,
      "outputs": [
        {
          "output_type": "stream",
          "name": "stdout",
          "text": [
            "Model: \"sequential_10\"\n",
            "_________________________________________________________________\n",
            " Layer (type)                Output Shape              Param #   \n",
            "=================================================================\n",
            " dense_layer (Dense)         (None, 128)               100480    \n",
            "                                                                 \n",
            " dropout_2 (Dropout)         (None, 128)               0         \n",
            "                                                                 \n",
            " dense_layer_2 (Dense)       (None, 128)               16512     \n",
            "                                                                 \n",
            " dropout_3 (Dropout)         (None, 128)               0         \n",
            "                                                                 \n",
            " dense_layer_3 (Dense)       (None, 10)                1290      \n",
            "                                                                 \n",
            "=================================================================\n",
            "Total params: 118282 (462.04 KB)\n",
            "Trainable params: 118282 (462.04 KB)\n",
            "Non-trainable params: 0 (0.00 Byte)\n",
            "_________________________________________________________________\n"
          ]
        }
      ]
    },
    {
      "cell_type": "code",
      "source": [
        "model_2.weights"
      ],
      "metadata": {
        "colab": {
          "base_uri": "https://localhost:8080/"
        },
        "id": "Na6OkqSqsxyn",
        "outputId": "ff499f46-b4d5-4025-f89b-c8cd2c7646ad"
      },
      "execution_count": null,
      "outputs": [
        {
          "output_type": "execute_result",
          "data": {
            "text/plain": [
              "[<tf.Variable 'dense_layer/kernel:0' shape=(784, 128) dtype=float32, numpy=\n",
              " array([[ 0.01967306,  0.01280565, -0.05639661, ..., -0.02838787,\n",
              "          0.06769734,  0.04392911],\n",
              "        [ 0.01533367, -0.05107521,  0.01743528, ..., -0.0717003 ,\n",
              "          0.01833261,  0.01599331],\n",
              "        [ 0.00968249,  0.05820826,  0.0243925 , ...,  0.0231176 ,\n",
              "          0.01228025, -0.01087145],\n",
              "        ...,\n",
              "        [ 0.01991806,  0.01063767, -0.02736806, ..., -0.02158466,\n",
              "          0.01262134,  0.06174206],\n",
              "        [ 0.01527078, -0.0287686 ,  0.01306308, ...,  0.06771845,\n",
              "         -0.03420433, -0.01109646],\n",
              "        [-0.07113433,  0.03954406, -0.00604171, ...,  0.03553034,\n",
              "         -0.00979193,  0.03273736]], dtype=float32)>,\n",
              " <tf.Variable 'dense_layer/bias:0' shape=(128,) dtype=float32, numpy=\n",
              " array([ 0.02269375,  0.03946382,  0.00881394,  0.0471803 ,  0.07069769,\n",
              "         0.000714  ,  0.00910003, -0.02039509,  0.02540578, -0.01486391,\n",
              "        -0.00479837,  0.0245015 ,  0.02266556,  0.10562661, -0.13290417,\n",
              "         0.00734616, -0.00943426, -0.01326644,  0.04910922,  0.00355679,\n",
              "        -0.02586056,  0.05277684,  0.07640563,  0.03380462, -0.12826015,\n",
              "         0.07262367,  0.05425206, -0.07292163, -0.04695094, -0.03103473,\n",
              "        -0.0150554 ,  0.00694193,  0.01885479,  0.07235449,  0.05102532,\n",
              "        -0.00409337,  0.00236785,  0.02745091,  0.06488639,  0.03807425,\n",
              "        -0.01283911,  0.01324556,  0.03455853,  0.00015853,  0.01639978,\n",
              "         0.03440867,  0.06434133,  0.03692148, -0.08739682, -0.0161133 ,\n",
              "         0.07989169,  0.09789398, -0.01553904, -0.08397457,  0.09589457,\n",
              "         0.03118829, -0.00459223,  0.00588654, -0.00136488, -0.03144316,\n",
              "        -0.00856998,  0.02308165,  0.04240455,  0.04914765, -0.03937654,\n",
              "        -0.07220837,  0.01495406, -0.00832548,  0.02539394,  0.02426815,\n",
              "         0.04026867,  0.13985142,  0.09391902, -0.07915115,  0.05803128,\n",
              "         0.01571973,  0.0260197 ,  0.04693005,  0.05121104, -0.01337689,\n",
              "        -0.06844047,  0.04259143, -0.00793506, -0.00991618,  0.03059658,\n",
              "        -0.09430306, -0.07113322,  0.02976818, -0.0548339 , -0.0112064 ,\n",
              "        -0.01022014, -0.05468264, -0.03157576,  0.03281819, -0.03063212,\n",
              "         0.01785913, -0.01494139, -0.02356689,  0.03050251, -0.00390577,\n",
              "         0.00337632, -0.00803015,  0.08763943,  0.02041469, -0.01431069,\n",
              "        -0.00418362,  0.01437158,  0.03190119, -0.00648026, -0.0170005 ,\n",
              "         0.06252349, -0.02200222, -0.01175602, -0.05889814,  0.00290073,\n",
              "         0.10226968,  0.08273232,  0.03929994,  0.04680952,  0.00935546,\n",
              "        -0.02695621,  0.00392385,  0.0777491 ,  0.00463473, -0.00993587,\n",
              "         0.00875259,  0.0566994 , -0.0042546 ], dtype=float32)>,\n",
              " <tf.Variable 'dense_layer_2/kernel:0' shape=(128, 128) dtype=float32, numpy=\n",
              " array([[ 0.08434798, -0.05351564, -0.15119621, ...,  0.05021599,\n",
              "         -0.01457001, -0.0993257 ],\n",
              "        [-0.21546572, -0.03793627,  0.16433614, ...,  0.07648193,\n",
              "          0.18225494,  0.06164967],\n",
              "        [ 0.03724352,  0.01533583, -0.10135472, ...,  0.10096158,\n",
              "          0.04525927,  0.06237963],\n",
              "        ...,\n",
              "        [-0.11904907, -0.12868331,  0.00109063, ...,  0.16939998,\n",
              "         -0.0237519 ,  0.15471412],\n",
              "        [ 0.09598453,  0.06737641, -0.00105357, ...,  0.15280052,\n",
              "          0.01215443,  0.1306485 ],\n",
              "        [ 0.10320864, -0.12853378, -0.12296768, ...,  0.03149952,\n",
              "          0.03776051,  0.1267499 ]], dtype=float32)>,\n",
              " <tf.Variable 'dense_layer_2/bias:0' shape=(128,) dtype=float32, numpy=\n",
              " array([ 4.5537174e-02,  5.5829793e-02,  8.8941351e-02,  5.8940943e-02,\n",
              "         6.9978856e-02,  4.8486352e-02,  4.3474948e-03,  3.1780943e-02,\n",
              "         5.9229534e-02, -1.1586017e-02, -2.6570376e-02, -7.3745212e-04,\n",
              "         2.0040864e-02,  1.0185546e-02,  1.0838620e-02,  7.0383713e-02,\n",
              "         3.4734882e-02, -4.9328222e-03,  9.3088578e-03,  5.9469412e-03,\n",
              "         9.0723811e-03,  4.9143355e-02,  1.9103456e-02,  7.5660177e-02,\n",
              "         8.3374821e-02,  6.6832416e-02,  4.1799955e-02,  6.4882054e-03,\n",
              "         1.1041546e-03,  6.3698133e-03,  3.0586023e-03,  3.4602273e-02,\n",
              "         4.2696286e-02, -9.0331146e-03,  4.0086471e-02,  3.2486245e-02,\n",
              "         5.3482648e-02,  1.2023547e-02, -1.3393867e-02,  2.1807194e-02,\n",
              "         8.1783719e-02, -3.5573603e-03, -1.0276122e-03, -1.2713056e-02,\n",
              "         3.9119575e-02, -1.1607837e-02,  4.9141139e-02,  5.7733290e-02,\n",
              "         7.7430494e-02,  4.4787779e-02, -7.9780220e-05,  5.7503995e-02,\n",
              "         4.2384371e-02,  2.5914758e-02,  3.1898137e-02,  5.0848510e-02,\n",
              "         2.2723630e-02,  4.8552271e-02,  5.6156650e-02,  4.5825001e-02,\n",
              "         2.2296300e-02,  1.0435265e-01,  1.9564344e-02,  4.3440249e-02,\n",
              "        -1.8693715e-02,  3.9500266e-02,  1.8713010e-02,  5.2560020e-02,\n",
              "         1.1552962e-02, -4.2538778e-03,  9.0715550e-03,  3.6229279e-02,\n",
              "         6.1541706e-02,  1.6175441e-02,  6.5447301e-02, -1.6654003e-02,\n",
              "         2.7275858e-02,  7.1342918e-03,  1.5494068e-02, -1.9393384e-03,\n",
              "         2.4752198e-02,  2.3543648e-02,  4.4195842e-02, -2.8694533e-02,\n",
              "         4.6174139e-02,  4.1207276e-02,  7.7571817e-02,  5.2744020e-02,\n",
              "         1.6101465e-02,  2.6950849e-02,  1.0818129e-02,  7.0642360e-02,\n",
              "        -2.6076408e-02,  6.4772279e-03,  3.4333587e-02,  1.3600721e-02,\n",
              "         6.5279886e-02,  6.5498099e-02,  8.9428917e-02,  9.7083766e-03,\n",
              "         8.2095467e-02,  7.6823607e-02,  5.8528889e-02,  8.6016059e-02,\n",
              "         2.3869162e-02,  5.6433331e-02,  7.6687261e-02,  3.1375818e-02,\n",
              "         2.8268902e-02,  7.0699334e-02,  9.8694144e-03, -2.2749556e-03,\n",
              "         5.3670596e-02,  3.9851427e-02,  6.3521639e-02,  1.5646236e-02,\n",
              "         2.9828897e-02,  2.2211267e-02,  2.7036499e-02,  3.0908616e-02,\n",
              "         3.5066031e-02, -2.5041837e-02,  4.4930454e-02, -2.5383111e-02,\n",
              "         8.4567025e-02,  6.3372709e-02,  3.9896257e-02,  2.4986524e-02],\n",
              "       dtype=float32)>,\n",
              " <tf.Variable 'dense_layer_3/kernel:0' shape=(128, 10) dtype=float32, numpy=\n",
              " array([[-0.04870877,  0.34070012,  0.30109262, ...,  0.03536114,\n",
              "         -0.24398986,  0.0532092 ],\n",
              "        [-0.10592526,  0.135824  , -0.19807018, ...,  0.01809634,\n",
              "          0.12926856,  0.22974251],\n",
              "        [-0.0954658 ,  0.04427946, -0.21626146, ...,  0.28904384,\n",
              "         -0.14209087,  0.2664856 ],\n",
              "        ...,\n",
              "        [-0.28108668,  0.24525858, -0.03259776, ..., -0.14055881,\n",
              "          0.1415951 ,  0.23096325],\n",
              "        [-0.12798807, -0.24426468,  0.21031623, ...,  0.26587307,\n",
              "         -0.23116836,  0.2391729 ],\n",
              "        [-0.259364  ,  0.03810521, -0.00266745, ...,  0.03076679,\n",
              "         -0.18818448, -0.10193612]], dtype=float32)>,\n",
              " <tf.Variable 'dense_layer_3/bias:0' shape=(10,) dtype=float32, numpy=\n",
              " array([-0.05080844,  0.06913019, -0.11695981, -0.01459065,  0.07103853,\n",
              "         0.13216822, -0.01622199,  0.01056125, -0.0746502 , -0.00966696],\n",
              "       dtype=float32)>]"
            ]
          },
          "metadata": {},
          "execution_count": 77
        }
      ]
    },
    {
      "cell_type": "code",
      "source": [
        "model_3 = tf.keras.Sequential()\n",
        "N_hidden = 64\n",
        "model_3.add(Dense(N_hidden, name='dense_layer', input_shape=(784,), activation = 'relu'))\n",
        "model_3.add(Dropout(0.3))\n",
        "model_3.add(Dense(N_hidden, name='dense_layer_2', activation='relu'))\n",
        "model_3.add(Dropout(0.3))\n",
        "model_3.add(Dense(10, name='dense_layer_3', activation = 'softmax'))"
      ],
      "metadata": {
        "id": "lFueWx_ms1qf"
      },
      "execution_count": null,
      "outputs": []
    },
    {
      "cell_type": "code",
      "source": [
        "model_3.compile(optimizer='Adam',\n",
        "              loss='categorical_crossentropy',\n",
        "              metrics=['accuracy'])"
      ],
      "metadata": {
        "id": "ZvxRGc88tCvq"
      },
      "execution_count": null,
      "outputs": []
    },
    {
      "cell_type": "code",
      "source": [
        "log_dir = \"logs/fit/model3\"\n",
        "tensorboard_callback = tf.keras.callbacks.TensorBoard(log_dir=log_dir, histogram_freq=1)\n",
        "training = model_3.fit(X_train, Y_train, batch_size=128, epochs=30, validation_split=0.2,callbacks=tensorboard_callback)"
      ],
      "metadata": {
        "colab": {
          "base_uri": "https://localhost:8080/"
        },
        "id": "l0wpNV5ltGod",
        "outputId": "b230a134-323f-4382-a537-4fcdf6321c7d"
      },
      "execution_count": null,
      "outputs": [
        {
          "output_type": "stream",
          "name": "stdout",
          "text": [
            "Epoch 1/30\n",
            "375/375 [==============================] - 3s 6ms/step - loss: 0.7292 - accuracy: 0.7717 - val_loss: 0.2526 - val_accuracy: 0.9259\n",
            "Epoch 2/30\n",
            "375/375 [==============================] - 2s 5ms/step - loss: 0.3563 - accuracy: 0.8959 - val_loss: 0.1905 - val_accuracy: 0.9431\n",
            "Epoch 3/30\n",
            "375/375 [==============================] - 2s 6ms/step - loss: 0.2853 - accuracy: 0.9161 - val_loss: 0.1590 - val_accuracy: 0.9536\n",
            "Epoch 4/30\n",
            "375/375 [==============================] - 4s 10ms/step - loss: 0.2480 - accuracy: 0.9273 - val_loss: 0.1430 - val_accuracy: 0.9588\n",
            "Epoch 5/30\n",
            "375/375 [==============================] - 2s 5ms/step - loss: 0.2254 - accuracy: 0.9335 - val_loss: 0.1353 - val_accuracy: 0.9608\n",
            "Epoch 6/30\n",
            "375/375 [==============================] - 2s 5ms/step - loss: 0.2009 - accuracy: 0.9399 - val_loss: 0.1257 - val_accuracy: 0.9637\n",
            "Epoch 7/30\n",
            "375/375 [==============================] - 2s 5ms/step - loss: 0.1866 - accuracy: 0.9441 - val_loss: 0.1194 - val_accuracy: 0.9660\n",
            "Epoch 8/30\n",
            "375/375 [==============================] - 2s 5ms/step - loss: 0.1797 - accuracy: 0.9459 - val_loss: 0.1129 - val_accuracy: 0.9693\n",
            "Epoch 9/30\n",
            "375/375 [==============================] - 3s 8ms/step - loss: 0.1656 - accuracy: 0.9506 - val_loss: 0.1145 - val_accuracy: 0.9666\n",
            "Epoch 10/30\n",
            "375/375 [==============================] - 2s 6ms/step - loss: 0.1597 - accuracy: 0.9524 - val_loss: 0.1042 - val_accuracy: 0.9697\n",
            "Epoch 11/30\n",
            "375/375 [==============================] - 2s 5ms/step - loss: 0.1540 - accuracy: 0.9538 - val_loss: 0.1070 - val_accuracy: 0.9690\n",
            "Epoch 12/30\n",
            "375/375 [==============================] - 2s 5ms/step - loss: 0.1462 - accuracy: 0.9565 - val_loss: 0.1072 - val_accuracy: 0.9691\n",
            "Epoch 13/30\n",
            "375/375 [==============================] - 2s 5ms/step - loss: 0.1436 - accuracy: 0.9569 - val_loss: 0.1025 - val_accuracy: 0.9704\n",
            "Epoch 14/30\n",
            "375/375 [==============================] - 2s 5ms/step - loss: 0.1401 - accuracy: 0.9578 - val_loss: 0.1048 - val_accuracy: 0.9712\n",
            "Epoch 15/30\n",
            "375/375 [==============================] - 3s 8ms/step - loss: 0.1368 - accuracy: 0.9585 - val_loss: 0.0973 - val_accuracy: 0.9729\n",
            "Epoch 16/30\n",
            "375/375 [==============================] - 2s 6ms/step - loss: 0.1296 - accuracy: 0.9607 - val_loss: 0.1020 - val_accuracy: 0.9711\n",
            "Epoch 17/30\n",
            "375/375 [==============================] - 2s 5ms/step - loss: 0.1285 - accuracy: 0.9597 - val_loss: 0.0996 - val_accuracy: 0.9721\n",
            "Epoch 18/30\n",
            "375/375 [==============================] - 2s 5ms/step - loss: 0.1228 - accuracy: 0.9625 - val_loss: 0.1000 - val_accuracy: 0.9724\n",
            "Epoch 19/30\n",
            "375/375 [==============================] - 2s 5ms/step - loss: 0.1232 - accuracy: 0.9616 - val_loss: 0.1005 - val_accuracy: 0.9716\n",
            "Epoch 20/30\n",
            "375/375 [==============================] - 2s 6ms/step - loss: 0.1195 - accuracy: 0.9624 - val_loss: 0.1006 - val_accuracy: 0.9722\n",
            "Epoch 21/30\n",
            "375/375 [==============================] - 3s 8ms/step - loss: 0.1201 - accuracy: 0.9626 - val_loss: 0.0961 - val_accuracy: 0.9728\n",
            "Epoch 22/30\n",
            "375/375 [==============================] - 2s 5ms/step - loss: 0.1164 - accuracy: 0.9643 - val_loss: 0.0962 - val_accuracy: 0.9730\n",
            "Epoch 23/30\n",
            "375/375 [==============================] - 2s 5ms/step - loss: 0.1120 - accuracy: 0.9660 - val_loss: 0.0943 - val_accuracy: 0.9745\n",
            "Epoch 24/30\n",
            "375/375 [==============================] - 2s 6ms/step - loss: 0.1112 - accuracy: 0.9646 - val_loss: 0.0957 - val_accuracy: 0.9725\n",
            "Epoch 25/30\n",
            "375/375 [==============================] - 2s 5ms/step - loss: 0.1118 - accuracy: 0.9660 - val_loss: 0.0953 - val_accuracy: 0.9739\n",
            "Epoch 26/30\n",
            "375/375 [==============================] - 3s 7ms/step - loss: 0.1097 - accuracy: 0.9664 - val_loss: 0.0956 - val_accuracy: 0.9754\n",
            "Epoch 27/30\n",
            "375/375 [==============================] - 2s 7ms/step - loss: 0.1047 - accuracy: 0.9676 - val_loss: 0.0934 - val_accuracy: 0.9736\n",
            "Epoch 28/30\n",
            "375/375 [==============================] - 2s 5ms/step - loss: 0.1031 - accuracy: 0.9679 - val_loss: 0.0965 - val_accuracy: 0.9738\n",
            "Epoch 29/30\n",
            "375/375 [==============================] - 2s 5ms/step - loss: 0.1033 - accuracy: 0.9664 - val_loss: 0.0947 - val_accuracy: 0.9740\n",
            "Epoch 30/30\n",
            "375/375 [==============================] - 2s 6ms/step - loss: 0.0991 - accuracy: 0.9688 - val_loss: 0.0956 - val_accuracy: 0.9745\n"
          ]
        }
      ]
    },
    {
      "cell_type": "code",
      "source": [
        "import matplotlib.pyplot as plt\n",
        "%matplotlib inline\n",
        "print(training.history.keys())\n",
        "plt.plot(training.history['accuracy'])\n",
        "plt.plot(training.history['val_accuracy'])\n",
        "plt.title('model accuracy')\n",
        "plt.ylabel('accuracy')\n",
        "plt.xlabel('epoch')\n",
        "plt.legend(['train', 'test'], loc='upper left')\n",
        "plt.show()\n",
        "plt.plot(training.history['loss'])\n",
        "plt.plot(training.history['val_loss'])\n",
        "plt.title('model loss')\n",
        "plt.ylabel('loss')\n",
        "plt.xlabel('epoch')\n",
        "plt.legend(['train', 'test'], loc='upper left')\n",
        "plt.show()"
      ],
      "metadata": {
        "colab": {
          "base_uri": "https://localhost:8080/",
          "height": 944
        },
        "id": "qXlY-QggtGy3",
        "outputId": "1ce1e600-9b9c-4566-caef-a2b549f95c2a"
      },
      "execution_count": null,
      "outputs": [
        {
          "output_type": "stream",
          "name": "stdout",
          "text": [
            "dict_keys(['loss', 'accuracy', 'val_loss', 'val_accuracy'])\n"
          ]
        },
        {
          "output_type": "display_data",
          "data": {
            "text/plain": [
              "<Figure size 640x480 with 1 Axes>"
            ],
            "image/png": "[encoded data removed]"
          },
          "metadata": {}
        },
        {
          "output_type": "display_data",
          "data": {
            "text/plain": [
              "<Figure size 640x480 with 1 Axes>"
            ],
            "image/png": "[encoded data removed]"
          },
          "metadata": {}
        }
      ]
    },
    {
      "cell_type": "code",
      "source": [
        "test_loss, test_acc = model_3.evaluate(X_test, Y_test)\n",
        "print('Test accuracy:', test_acc)"
      ],
      "metadata": {
        "colab": {
          "base_uri": "https://localhost:8080/"
        },
        "id": "6e3S3M3-tmm6",
        "outputId": "06b438ad-c51a-4bda-8cd0-7f61283c7cdf"
      },
      "execution_count": null,
      "outputs": [
        {
          "output_type": "stream",
          "name": "stdout",
          "text": [
            "313/313 [==============================] - 1s 3ms/step - loss: 0.0996 - accuracy: 0.9712\n",
            "Test accuracy: 0.9711999893188477\n"
          ]
        }
      ]
    },
    {
      "cell_type": "code",
      "source": [
        "model_3.summary()"
      ],
      "metadata": {
        "colab": {
          "base_uri": "https://localhost:8080/"
        },
        "id": "vNBRM_untq8x",
        "outputId": "814fe35c-c2d9-47a4-d766-afdedc53c2b7"
      },
      "execution_count": null,
      "outputs": [
        {
          "output_type": "stream",
          "name": "stdout",
          "text": [
            "Model: \"sequential_11\"\n",
            "_________________________________________________________________\n",
            " Layer (type)                Output Shape              Param #   \n",
            "=================================================================\n",
            " dense_layer (Dense)         (None, 64)                50240     \n",
            "                                                                 \n",
            " dropout_4 (Dropout)         (None, 64)                0         \n",
            "                                                                 \n",
            " dense_layer_2 (Dense)       (None, 64)                4160      \n",
            "                                                                 \n",
            " dropout_5 (Dropout)         (None, 64)                0         \n",
            "                                                                 \n",
            " dense_layer_3 (Dense)       (None, 10)                650       \n",
            "                                                                 \n",
            "=================================================================\n",
            "Total params: 55050 (215.04 KB)\n",
            "Trainable params: 55050 (215.04 KB)\n",
            "Non-trainable params: 0 (0.00 Byte)\n",
            "_________________________________________________________________\n"
          ]
        }
      ]
    },
    {
      "cell_type": "code",
      "source": [
        "model_3.weights"
      ],
      "metadata": {
        "colab": {
          "base_uri": "https://localhost:8080/"
        },
        "id": "CYSTVDXItsrz",
        "outputId": "756b4792-e198-4bb2-f8d6-1760c1f5256c"
      },
      "execution_count": null,
      "outputs": [
        {
          "output_type": "execute_result",
          "data": {
            "text/plain": [
              "[<tf.Variable 'dense_layer/kernel:0' shape=(784, 64) dtype=float32, numpy=\n",
              " array([[ 0.06313995,  0.07440624,  0.07331113, ...,  0.01357409,\n",
              "          0.02133036,  0.08400606],\n",
              "        [ 0.04290495,  0.06698254,  0.03928979, ...,  0.06932578,\n",
              "          0.07413562,  0.03587585],\n",
              "        [ 0.0506243 , -0.03544619, -0.05990925, ..., -0.06964448,\n",
              "         -0.00681702, -0.0200346 ],\n",
              "        ...,\n",
              "        [ 0.03150296, -0.04032566, -0.0320953 , ...,  0.00178395,\n",
              "          0.07631285,  0.02580374],\n",
              "        [-0.06727067,  0.01592907, -0.01451049, ..., -0.04460437,\n",
              "          0.02445074,  0.02988398],\n",
              "        [-0.03332434, -0.04291445, -0.03635349, ...,  0.01065187,\n",
              "         -0.05893194,  0.05316658]], dtype=float32)>,\n",
              " <tf.Variable 'dense_layer/bias:0' shape=(64,) dtype=float32, numpy=\n",
              " array([-0.07457961, -0.02619569, -0.09181261, -0.09426496, -0.03252967,\n",
              "         0.04109914, -0.18381202,  0.2028907 ,  0.11690788,  0.09934548,\n",
              "         0.20888641,  0.06822995, -0.05923465, -0.08304228,  0.06607265,\n",
              "         0.33466282,  0.14289857,  0.19038744, -0.05019788, -0.03629963,\n",
              "         0.02417961, -0.15292443, -0.3199868 ,  0.14598005,  0.18152565,\n",
              "        -0.07079127,  0.33745387,  0.1101801 ,  0.08317474, -0.41421124,\n",
              "         0.03464407,  0.12637793,  0.08169615, -0.00732424, -0.04361125,\n",
              "        -0.05758451, -0.22070816, -0.1579575 ,  0.06587873,  0.00342207,\n",
              "        -0.04079186, -0.02097803, -0.04010426,  0.06779193,  0.04745258,\n",
              "         0.11957718, -0.05967893,  0.21216483,  0.12490981, -0.04167589,\n",
              "         0.24304798, -0.25276497, -0.05205413, -0.13243526, -0.03680021,\n",
              "        -0.04679779, -0.38389286,  0.10901761,  0.11817183,  0.2365729 ,\n",
              "        -0.21829997,  0.00968695, -0.08903389, -0.1500748 ], dtype=float32)>,\n",
              " <tf.Variable 'dense_layer_2/kernel:0' shape=(64, 64) dtype=float32, numpy=\n",
              " array([[ 0.28161636, -0.06163193, -0.129283  , ...,  0.20085716,\n",
              "          0.05871634, -0.04811877],\n",
              "        [ 1.039947  , -0.0915881 ,  0.04217484, ...,  0.12005348,\n",
              "          0.577177  , -0.19131431],\n",
              "        [-0.01582484,  0.52569366, -0.02426942, ..., -0.22336742,\n",
              "         -0.11765358, -0.06007619],\n",
              "        ...,\n",
              "        [ 0.1582324 ,  0.19952574,  0.01905323, ...,  0.13174047,\n",
              "          0.28048554,  0.07224616],\n",
              "        [-0.00300323, -0.22549865, -0.1842418 , ..., -0.02072545,\n",
              "         -0.37454244,  0.42231277],\n",
              "        [-0.06380092, -0.25638393,  0.03370223, ..., -0.04093733,\n",
              "          0.14494939,  0.05122909]], dtype=float32)>,\n",
              " <tf.Variable 'dense_layer_2/bias:0' shape=(64,) dtype=float32, numpy=\n",
              " array([ 0.00656263,  0.31835234,  0.11047944, -0.26161528,  0.536655  ,\n",
              "         0.10032501,  0.35093376, -0.14745557, -0.12164164,  0.25666174,\n",
              "         0.15049191,  0.17892049,  0.03509939,  0.02445613,  0.06061912,\n",
              "         0.34353122,  0.09712568, -0.12594385,  0.18611705,  0.43531534,\n",
              "        -0.13601151,  0.17336996,  0.13846149,  0.07502715,  0.15200797,\n",
              "         0.45137516,  0.2142866 , -0.03020132,  0.3315031 ,  0.17879571,\n",
              "         0.22668122, -0.18108252,  0.12010005,  0.37110925,  0.29108322,\n",
              "         0.4716231 ,  0.45056614,  0.19652013,  0.13891053,  0.31573996,\n",
              "         0.2012047 ,  0.23191783,  0.5943369 ,  0.04849138,  0.21627337,\n",
              "         0.08819995,  0.04248678,  0.021525  , -0.05888502,  0.00201585,\n",
              "        -0.1336482 ,  0.2669161 , -0.0007762 ,  0.05897827,  0.22486721,\n",
              "         0.00881428, -0.10606191,  0.14515616,  0.12133268,  0.00153047,\n",
              "         0.05608591, -0.02210672,  0.41861868,  0.5003579 ], dtype=float32)>,\n",
              " <tf.Variable 'dense_layer_3/kernel:0' shape=(64, 10) dtype=float32, numpy=\n",
              " array([[-9.44015205e-01, -2.12782919e-01,  1.94032341e-01,\n",
              "          2.50329852e-01,  3.08203608e-01,  2.54455239e-01,\n",
              "         -8.40416670e-01, -4.56557333e-01, -6.81745857e-02,\n",
              "          2.40545109e-01],\n",
              "        [-5.27106365e-03, -6.72591686e-01, -6.01507947e-02,\n",
              "         -3.16401981e-02,  2.88804084e-01,  2.43878514e-01,\n",
              "          2.47686386e-01, -3.80881786e-01,  2.07097709e-01,\n",
              "         -6.01536155e-01],\n",
              "        [ 1.91783071e-01, -3.85288447e-01, -5.32449663e-01,\n",
              "          3.14210325e-01, -5.07757246e-01,  3.64050686e-01,\n",
              "         -1.83140282e-02,  2.01949179e-01, -6.01282656e-01,\n",
              "         -3.76509428e-01],\n",
              "        [-2.74185240e-01,  3.50462079e-01,  3.25955361e-01,\n",
              "         -2.27593690e-01, -1.66037586e-02, -2.20181525e-01,\n",
              "          2.07556620e-01,  3.41980964e-01, -5.30471146e-01,\n",
              "         -3.17432642e-01],\n",
              "        [ 3.22004586e-01, -3.02131206e-01, -1.49063885e-01,\n",
              "         -3.71880233e-01,  7.95375481e-02, -4.33707505e-01,\n",
              "          1.46435559e-01, -7.05029130e-01,  2.59902775e-01,\n",
              "          3.41726452e-01],\n",
              "        [-4.85807031e-01,  4.84826118e-01, -1.03250921e-01,\n",
              "         -2.65429616e-01, -3.53092611e-01, -3.36495489e-02,\n",
              "          4.43360776e-01, -4.84205276e-01, -3.47384699e-02,\n",
              "         -6.29552186e-01],\n",
              "        [-3.61179709e-01,  3.17061841e-01,  3.87389362e-01,\n",
              "         -9.01330635e-02,  3.57905179e-01, -6.79063618e-01,\n",
              "         -6.72424912e-01, -1.31068766e-01,  2.74490148e-01,\n",
              "          3.17578614e-01],\n",
              "        [-5.58346570e-01,  3.03103060e-01,  2.38440812e-01,\n",
              "          1.86859950e-01, -2.01832891e-01, -1.47420004e-01,\n",
              "         -4.47750926e-01,  2.33495221e-01, -4.24360186e-01,\n",
              "         -9.84425187e-01],\n",
              "        [-6.23046756e-01, -2.36034334e-01,  2.95628369e-01,\n",
              "          2.54366398e-01, -2.67876079e-04, -3.71884972e-01,\n",
              "         -4.25731629e-01,  2.42223948e-01, -4.63655174e-01,\n",
              "         -5.10162771e-01],\n",
              "        [-4.61598068e-01,  4.02943343e-01, -6.73243403e-01,\n",
              "          8.49946067e-02,  2.43337601e-01, -2.63756335e-01,\n",
              "         -1.63209334e-01,  2.64479816e-01,  1.97112605e-01,\n",
              "          2.04453412e-02],\n",
              "        [-2.15966791e-01, -1.95507392e-01,  2.61381656e-01,\n",
              "          1.93212181e-01,  1.13781273e-01, -6.18406296e-01,\n",
              "         -4.87966210e-01,  2.47529253e-01,  1.92524269e-01,\n",
              "          1.92546844e-01],\n",
              "        [ 3.21436077e-01, -8.67345154e-01,  1.68227240e-01,\n",
              "         -1.44652262e-01,  2.17405140e-01, -1.43127948e-01,\n",
              "          2.77325273e-01,  1.17557943e-01, -7.76633382e-01,\n",
              "         -3.90704572e-01],\n",
              "        [-8.63181055e-02,  5.71656711e-02, -6.18771315e-01,\n",
              "          2.56488293e-01, -7.43855238e-01,  2.68125147e-01,\n",
              "         -2.73254067e-01,  2.40183190e-01,  5.13736680e-02,\n",
              "          2.41589531e-01],\n",
              "        [-6.60924539e-02,  3.36608887e-01, -5.57443872e-02,\n",
              "          5.09308372e-03, -1.44576058e-01,  1.80215627e-01,\n",
              "         -9.94458199e-01,  4.25310194e-01, -2.23702163e-01,\n",
              "          3.59828532e-01],\n",
              "        [ 5.71865976e-01, -4.80813712e-01, -2.80975960e-02,\n",
              "         -3.03631514e-01,  1.93181429e-02, -2.71011174e-01,\n",
              "          2.61294600e-02,  4.81996208e-01, -2.32807577e-01,\n",
              "         -9.73653123e-02],\n",
              "        [ 2.70292103e-01, -2.24051028e-01,  2.12331131e-01,\n",
              "          1.99203968e-01, -6.48086905e-01,  2.46639669e-01,\n",
              "          1.16149798e-01, -6.75457895e-01,  2.27590665e-01,\n",
              "         -2.87426382e-01],\n",
              "        [ 5.18948324e-02, -5.31524122e-01,  5.54276221e-02,\n",
              "          7.06872046e-02, -5.63740790e-01, -3.79840225e-01,\n",
              "          5.24542749e-01,  1.54494271e-01,  5.63828014e-02,\n",
              "          1.72937170e-01],\n",
              "        [-6.35963976e-02, -5.14875829e-01,  2.56704360e-01,\n",
              "          3.57334852e-01, -2.78912395e-01, -2.25461408e-01,\n",
              "         -3.87275487e-01,  8.74064639e-02, -9.78787616e-02,\n",
              "         -2.25654945e-01],\n",
              "        [-5.40995479e-01,  8.56824890e-02,  4.45721656e-01,\n",
              "         -2.62605667e-01, -2.80085683e-01, -2.45131463e-01,\n",
              "          3.27343494e-01, -3.63146216e-01,  3.63352150e-01,\n",
              "         -3.05764496e-01],\n",
              "        [-1.42040133e-01,  4.93281126e-01, -5.11506081e-01,\n",
              "         -7.34183371e-01,  3.36698502e-01, -1.05420135e-01,\n",
              "          2.54162610e-01, -4.75757957e-01,  3.04365724e-01,\n",
              "         -4.94345993e-01],\n",
              "        [-4.69314665e-01, -1.62180781e-01,  2.53440678e-01,\n",
              "          2.29670033e-01,  1.83850899e-01, -2.55760252e-01,\n",
              "         -4.13725406e-01,  2.63273001e-01, -5.64862609e-01,\n",
              "          2.36868486e-01],\n",
              "        [ 2.07167208e-01, -3.81183445e-01,  1.99598745e-01,\n",
              "          1.21208765e-01, -4.01056230e-01, -2.92639248e-02,\n",
              "         -1.00672245e+00,  2.00072885e-01,  2.09964037e-01,\n",
              "          1.73386887e-01],\n",
              "        [ 1.59742594e-01, -2.30585873e-01, -2.64356226e-01,\n",
              "          7.04271436e-01,  3.70732471e-02, -6.39087707e-02,\n",
              "          4.00541611e-02,  5.94816916e-02, -9.44067314e-02,\n",
              "         -1.03095122e-01],\n",
              "        [-2.79718131e-01,  8.61766785e-02,  1.81468710e-01,\n",
              "         -4.63762209e-02,  1.42237097e-01,  1.49040684e-01,\n",
              "          1.88194782e-01, -6.86755419e-01,  1.83602348e-02,\n",
              "         -5.05400419e-01],\n",
              "        [-6.77986383e-01,  2.74200756e-02, -5.52719831e-01,\n",
              "          2.76344746e-01, -1.99830711e-01,  2.96605825e-01,\n",
              "         -6.32730246e-01,  3.60796750e-02,  1.79823995e-01,\n",
              "          8.16858858e-02],\n",
              "        [-6.69996962e-02,  3.19900692e-01, -4.71160352e-01,\n",
              "         -3.56289417e-01,  3.00207019e-01,  7.33259991e-02,\n",
              "         -6.77745342e-01,  2.79654831e-01,  2.28913397e-01,\n",
              "          2.76073068e-01],\n",
              "        [-8.34074616e-01,  6.17727488e-02, -5.00876009e-01,\n",
              "         -3.53997111e-01,  1.81607381e-01,  1.28351659e-01,\n",
              "         -2.55791873e-01,  1.11403525e-01,  1.73523739e-01,\n",
              "          1.92059100e-01],\n",
              "        [-3.74292195e-01,  2.99172312e-01,  2.36162335e-01,\n",
              "          2.54420191e-02, -8.50531086e-02, -5.04762650e-01,\n",
              "          1.79622829e-01, -2.84664184e-01, -3.80373061e-01,\n",
              "         -6.93073452e-01],\n",
              "        [ 1.90963566e-01, -9.80220258e-01,  3.50707269e-04,\n",
              "         -4.04413432e-01,  3.08985800e-01,  2.10325867e-01,\n",
              "          1.99412018e-01, -2.11844891e-01,  1.22367345e-01,\n",
              "          3.32349122e-01],\n",
              "        [-7.17673361e-01,  1.56661361e-01, -6.32075012e-01,\n",
              "          3.36357236e-01, -2.89845437e-01,  7.73777813e-02,\n",
              "         -8.89037788e-01, -4.97539062e-03,  1.03082821e-01,\n",
              "          4.18643206e-01],\n",
              "        [-3.73595148e-01, -5.56547284e-01,  4.44516493e-03,\n",
              "          2.23888800e-01, -4.51427847e-01,  2.78388798e-01,\n",
              "         -5.90317026e-02, -4.70127940e-01,  2.13135988e-01,\n",
              "          7.79167116e-02],\n",
              "        [ 6.68179765e-02,  2.37267107e-01,  8.32582787e-02,\n",
              "          1.01568736e-01, -6.57079756e-01,  1.39223933e-01,\n",
              "         -2.45135114e-01,  1.98303759e-01, -6.50845587e-01,\n",
              "          1.03184015e-01],\n",
              "        [ 2.80773848e-01, -5.82393765e-01,  9.77999941e-02,\n",
              "         -1.42469913e-01, -6.02629721e-01,  2.82645710e-02,\n",
              "          2.32870832e-01,  2.17095718e-01, -5.73478699e-01,\n",
              "         -1.83545783e-01],\n",
              "        [ 4.72733945e-01, -4.85408962e-01,  3.40784550e-01,\n",
              "          3.00349563e-01,  2.58797616e-01, -5.13324678e-01,\n",
              "         -1.09303601e-01, -5.29477298e-01,  2.37568080e-01,\n",
              "          2.84006298e-01],\n",
              "        [ 5.77486157e-01, -4.35494721e-01, -4.31291252e-01,\n",
              "         -3.03785771e-01,  2.77283102e-01, -5.46652734e-01,\n",
              "          3.49959195e-01, -1.65022895e-01, -5.96599638e-01,\n",
              "          1.18211173e-01],\n",
              "        [ 1.24430675e-02, -1.65843278e-01,  3.88186537e-02,\n",
              "          4.55722094e-01, -4.70827997e-01, -5.22777677e-01,\n",
              "          1.61968395e-02, -5.07151663e-01,  5.29563069e-01,\n",
              "         -4.26766574e-01],\n",
              "        [ 3.40182126e-01, -3.00482810e-01, -6.78958833e-01,\n",
              "         -6.48263931e-01, -1.76599279e-01,  2.37084001e-01,\n",
              "          2.84680098e-01, -2.51097172e-01,  3.07907045e-01,\n",
              "         -3.76242161e-01],\n",
              "        [ 2.11766556e-01, -5.81561029e-01,  2.77231783e-01,\n",
              "          3.25187072e-02, -6.25823066e-02, -2.04700559e-01,\n",
              "          1.71785817e-01, -7.34807104e-02,  2.83634096e-01,\n",
              "         -6.61391020e-01],\n",
              "        [-8.40512574e-01,  8.07451010e-02, -5.63755274e-01,\n",
              "          3.09439421e-01,  2.70639747e-01,  3.24613661e-01,\n",
              "         -6.93457425e-01, -1.96415514e-01,  1.28869385e-01,\n",
              "          2.78780907e-01],\n",
              "        [-3.63239765e-01,  2.60088235e-01, -3.57495636e-01,\n",
              "          1.60890296e-01, -4.82939065e-01,  2.77615935e-01,\n",
              "         -1.65964141e-01, -7.22659409e-01,  3.86320025e-01,\n",
              "          4.21688884e-01],\n",
              "        [ 2.09684726e-02,  2.65889168e-01, -7.61443615e-01,\n",
              "         -5.02551258e-01, -4.66202110e-01,  3.50564331e-01,\n",
              "          2.85902202e-01,  6.17280677e-02,  3.02316993e-01,\n",
              "         -2.23831743e-01],\n",
              "        [-4.91239838e-02,  3.15673023e-01,  3.00935805e-01,\n",
              "          2.50100076e-01, -4.97055620e-01, -7.25887239e-01,\n",
              "         -4.40531641e-01,  3.03178459e-01,  9.42514688e-02,\n",
              "         -9.19407010e-02],\n",
              "        [ 4.34390128e-01, -4.75744754e-01,  1.46415144e-01,\n",
              "         -3.02842379e-01, -7.04899788e-01, -4.74328518e-01,\n",
              "         -2.41203681e-01, -5.64744651e-01,  4.42898929e-01,\n",
              "         -1.36445731e-01],\n",
              "        [-3.80152702e-01,  3.84060740e-01, -1.56058237e-01,\n",
              "         -1.80490971e-01,  3.09872001e-01,  2.15227023e-01,\n",
              "          3.38831127e-01, -1.93767041e-01, -5.05546212e-01,\n",
              "          3.47589701e-01],\n",
              "        [ 3.83605629e-01, -3.58726323e-01, -3.59945536e-01,\n",
              "         -3.19438487e-01,  4.03172702e-01, -1.12377979e-01,\n",
              "          3.49474788e-01,  2.64341444e-01, -6.23596013e-01,\n",
              "          3.71858686e-01],\n",
              "        [ 2.78844357e-01, -4.94470179e-01,  9.42296013e-02,\n",
              "         -4.58507657e-01,  1.29990250e-01, -5.97323030e-02,\n",
              "         -4.28281426e-01,  2.15465650e-01, -3.70945275e-01,\n",
              "         -1.47485897e-01],\n",
              "        [-2.94132084e-01,  3.49516541e-01, -4.75704581e-01,\n",
              "          1.34522647e-01,  4.79287505e-01,  1.01110041e-01,\n",
              "         -4.16755304e-02, -3.86191696e-01, -4.22779888e-01,\n",
              "         -2.62513787e-01],\n",
              "        [-6.51031554e-01,  2.01939955e-01,  2.51387805e-01,\n",
              "          2.00207099e-01, -3.14442933e-01, -5.07342577e-01,\n",
              "         -4.75954153e-02,  2.11250797e-01,  1.62243471e-01,\n",
              "         -6.29038751e-01],\n",
              "        [-3.01241636e-01, -3.38736773e-01,  2.41743885e-02,\n",
              "         -2.77122676e-01,  2.76306659e-01, -1.10957198e-01,\n",
              "          5.01652248e-02,  2.80506402e-01, -6.71875775e-01,\n",
              "          2.72088110e-01],\n",
              "        [-1.50306985e-01, -1.98718578e-01, -1.34648019e-02,\n",
              "          2.63113648e-01,  2.73147434e-01,  2.88825214e-01,\n",
              "         -1.12068392e-01,  3.02679092e-01, -8.01338792e-01,\n",
              "         -3.94769818e-01],\n",
              "        [-2.16184676e-01,  1.75912157e-01,  3.28173637e-01,\n",
              "         -5.29236555e-01,  2.42718652e-01,  1.27707049e-01,\n",
              "          2.45341435e-01, -3.71276349e-01, -8.16226229e-02,\n",
              "         -5.93867898e-03],\n",
              "        [-1.21588737e-01, -8.56455982e-01, -7.46709332e-02,\n",
              "         -3.66534263e-01, -2.61184633e-01, -2.86225975e-01,\n",
              "         -6.69459641e-01, -6.19677424e-01, -5.85967349e-03,\n",
              "          7.03009486e-01],\n",
              "        [-4.76679280e-02, -5.28202593e-01,  3.78527828e-02,\n",
              "         -2.39698112e-01,  3.62179071e-01, -7.36140534e-02,\n",
              "          2.23594815e-01,  3.70248139e-01, -7.78915212e-02,\n",
              "         -6.68847203e-01],\n",
              "        [-5.93237102e-01, -5.89128315e-01, -4.64579284e-01,\n",
              "          1.02060057e-01, -1.42950326e-01,  4.78739887e-01,\n",
              "          4.95004565e-01, -4.86547291e-01, -3.23338509e-01,\n",
              "         -1.75855532e-01],\n",
              "        [-3.98059726e-01, -4.24203753e-01,  2.88312316e-01,\n",
              "         -4.51401591e-01, -1.71472102e-01,  9.21255909e-03,\n",
              "          2.85027653e-01, -4.27503586e-01,  3.04987043e-01,\n",
              "         -3.79955918e-01],\n",
              "        [ 3.04070175e-01,  2.46243954e-01,  2.73492992e-01,\n",
              "          1.69796541e-01, -1.93016663e-01,  2.33693168e-01,\n",
              "          2.72908926e-01, -6.58122361e-01, -4.13309157e-01,\n",
              "         -1.98320329e-01],\n",
              "        [ 3.13538134e-01, -4.65708792e-01, -1.12563506e-01,\n",
              "         -3.83784324e-01, -6.72927558e-01,  3.28751773e-01,\n",
              "          2.98732400e-01,  2.54741341e-01,  3.90104651e-02,\n",
              "         -1.01333417e-01],\n",
              "        [-4.04706299e-02, -7.51699269e-01, -2.04063967e-01,\n",
              "          4.17549163e-02, -6.98613152e-02,  3.75882676e-03,\n",
              "          7.10415184e-01, -5.32895863e-01, -5.76158762e-02,\n",
              "         -9.24545079e-02],\n",
              "        [-1.24028139e-01,  4.42592084e-01,  4.90304753e-02,\n",
              "         -4.32861686e-01,  3.18392813e-01, -3.69603664e-01,\n",
              "          3.75120789e-01, -2.24405006e-01, -2.09040493e-01,\n",
              "         -4.03043509e-01],\n",
              "        [ 1.89240143e-01, -6.40034229e-02, -8.07465333e-03,\n",
              "          1.81212589e-01, -6.32090509e-01,  2.31401384e-01,\n",
              "          1.23427480e-01, -4.07694399e-01, -5.56647837e-01,\n",
              "          1.74410697e-02],\n",
              "        [-9.35262382e-01,  1.38854012e-01,  1.61653250e-01,\n",
              "          1.27598703e-01, -1.14807975e+00,  1.76112652e-01,\n",
              "         -3.44421297e-01,  1.50252223e-01,  9.55834389e-02,\n",
              "         -2.10678250e-01],\n",
              "        [-4.24520373e-01, -2.29576938e-02, -3.49685401e-01,\n",
              "          1.24221407e-01,  3.83632571e-01, -3.08945894e-01,\n",
              "         -4.38018471e-01,  3.58880758e-01, -2.92100608e-01,\n",
              "          3.60435456e-01],\n",
              "        [ 1.20654806e-01, -5.28380156e-01, -7.82220960e-01,\n",
              "          1.84673145e-01,  5.62296174e-02,  2.21649170e-01,\n",
              "         -1.45433918e-01, -2.83706635e-01,  1.76458895e-01,\n",
              "          1.63042948e-01],\n",
              "        [ 3.31377178e-01,  1.52451307e-01,  2.20231712e-01,\n",
              "          2.44287550e-02, -1.04258025e+00,  1.06724493e-01,\n",
              "         -9.35632139e-02, -2.02785850e-01,  2.11189583e-01,\n",
              "         -8.11399043e-01]], dtype=float32)>,\n",
              " <tf.Variable 'dense_layer_3/bias:0' shape=(10,) dtype=float32, numpy=\n",
              " array([ 0.3894691 , -0.04473563, -0.2761657 , -0.35524452,  0.07164142,\n",
              "        -0.1960536 , -0.21797286, -0.21700938,  0.500669  ,  0.29687613],\n",
              "       dtype=float32)>]"
            ]
          },
          "metadata": {},
          "execution_count": 84
        }
      ]
    },
    {
      "cell_type": "code",
      "source": [
        "model_3.get_config()"
      ],
      "metadata": {
        "colab": {
          "base_uri": "https://localhost:8080/"
        },
        "id": "n0J1nERptxzi",
        "outputId": "1f9768b3-8876-4358-bc55-6ed6bf7ac13e"
      },
      "execution_count": null,
      "outputs": [
        {
          "output_type": "execute_result",
          "data": {
            "text/plain": [
              "{'name': 'sequential_11',\n",
              " 'layers': [{'module': 'keras.layers',\n",
              "   'class_name': 'InputLayer',\n",
              "   'config': {'batch_input_shape': (None, 784),\n",
              "    'dtype': 'float32',\n",
              "    'sparse': False,\n",
              "    'ragged': False,\n",
              "    'name': 'dense_layer_input'},\n",
              "   'registered_name': None},\n",
              "  {'module': 'keras.layers',\n",
              "   'class_name': 'Dense',\n",
              "   'config': {'name': 'dense_layer',\n",
              "    'trainable': True,\n",
              "    'dtype': 'float32',\n",
              "    'batch_input_shape': (None, 784),\n",
              "    'units': 64,\n",
              "    'activation': 'relu',\n",
              "    'use_bias': True,\n",
              "    'kernel_initializer': {'module': 'keras.initializers',\n",
              "     'class_name': 'GlorotUniform',\n",
              "     'config': {'seed': None},\n",
              "     'registered_name': None},\n",
              "    'bias_initializer': {'module': 'keras.initializers',\n",
              "     'class_name': 'Zeros',\n",
              "     'config': {},\n",
              "     'registered_name': None},\n",
              "    'kernel_regularizer': None,\n",
              "    'bias_regularizer': None,\n",
              "    'activity_regularizer': None,\n",
              "    'kernel_constraint': None,\n",
              "    'bias_constraint': None},\n",
              "   'registered_name': None,\n",
              "   'build_config': {'input_shape': (None, 784)}},\n",
              "  {'module': 'keras.layers',\n",
              "   'class_name': 'Dropout',\n",
              "   'config': {'name': 'dropout_4',\n",
              "    'trainable': True,\n",
              "    'dtype': 'float32',\n",
              "    'rate': 0.3,\n",
              "    'noise_shape': None,\n",
              "    'seed': None},\n",
              "   'registered_name': None,\n",
              "   'build_config': {'input_shape': (None, 64)}},\n",
              "  {'module': 'keras.layers',\n",
              "   'class_name': 'Dense',\n",
              "   'config': {'name': 'dense_layer_2',\n",
              "    'trainable': True,\n",
              "    'dtype': 'float32',\n",
              "    'units': 64,\n",
              "    'activation': 'relu',\n",
              "    'use_bias': True,\n",
              "    'kernel_initializer': {'module': 'keras.initializers',\n",
              "     'class_name': 'GlorotUniform',\n",
              "     'config': {'seed': None},\n",
              "     'registered_name': None},\n",
              "    'bias_initializer': {'module': 'keras.initializers',\n",
              "     'class_name': 'Zeros',\n",
              "     'config': {},\n",
              "     'registered_name': None},\n",
              "    'kernel_regularizer': None,\n",
              "    'bias_regularizer': None,\n",
              "    'activity_regularizer': None,\n",
              "    'kernel_constraint': None,\n",
              "    'bias_constraint': None},\n",
              "   'registered_name': None,\n",
              "   'build_config': {'input_shape': (None, 64)}},\n",
              "  {'module': 'keras.layers',\n",
              "   'class_name': 'Dropout',\n",
              "   'config': {'name': 'dropout_5',\n",
              "    'trainable': True,\n",
              "    'dtype': 'float32',\n",
              "    'rate': 0.3,\n",
              "    'noise_shape': None,\n",
              "    'seed': None},\n",
              "   'registered_name': None,\n",
              "   'build_config': {'input_shape': (None, 64)}},\n",
              "  {'module': 'keras.layers',\n",
              "   'class_name': 'Dense',\n",
              "   'config': {'name': 'dense_layer_3',\n",
              "    'trainable': True,\n",
              "    'dtype': 'float32',\n",
              "    'units': 10,\n",
              "    'activation': 'softmax',\n",
              "    'use_bias': True,\n",
              "    'kernel_initializer': {'module': 'keras.initializers',\n",
              "     'class_name': 'GlorotUniform',\n",
              "     'config': {'seed': None},\n",
              "     'registered_name': None},\n",
              "    'bias_initializer': {'module': 'keras.initializers',\n",
              "     'class_name': 'Zeros',\n",
              "     'config': {},\n",
              "     'registered_name': None},\n",
              "    'kernel_regularizer': None,\n",
              "    'bias_regularizer': None,\n",
              "    'activity_regularizer': None,\n",
              "    'kernel_constraint': None,\n",
              "    'bias_constraint': None},\n",
              "   'registered_name': None,\n",
              "   'build_config': {'input_shape': (None, 64)}}]}"
            ]
          },
          "metadata": {},
          "execution_count": 85
        }
      ]
    },
    {
      "cell_type": "code",
      "source": [
        "model_4 = tf.keras.Sequential()\n",
        "N_hidden = 512\n",
        "model_4.add(Dense(N_hidden, name='dense_layer', input_shape=(784,), activation = 'relu'))\n",
        "model_4.add(Dropout(0.3))\n",
        "model_4.add(Dense(N_hidden, name='dense_layer_2', activation='relu'))\n",
        "model_4.add(Dropout(0.3))\n",
        "model_4.add(Dense(10, name='dense_layer_3', activation = 'softmax'))"
      ],
      "metadata": {
        "id": "vy9LHIgkt8fE"
      },
      "execution_count": null,
      "outputs": []
    },
    {
      "cell_type": "code",
      "source": [
        "model_4.compile(optimizer='Adam',\n",
        "              loss='categorical_crossentropy',\n",
        "              metrics=['accuracy'])"
      ],
      "metadata": {
        "id": "kONnCWeyuL0G"
      },
      "execution_count": null,
      "outputs": []
    },
    {
      "cell_type": "code",
      "source": [
        "log_dir = \"logs/fit/model4\"\n",
        "tensorboard_callback = tf.keras.callbacks.TensorBoard(log_dir=log_dir, histogram_freq=1)\n",
        "training = model_4.fit(X_train, Y_train, batch_size=128, epochs=30, validation_split=0.2,callbacks=tensorboard_callback)"
      ],
      "metadata": {
        "colab": {
          "base_uri": "https://localhost:8080/"
        },
        "id": "P-8rH8NNuUMC",
        "outputId": "302042c4-23bb-48d0-b531-c4e2d7b44d59"
      },
      "execution_count": null,
      "outputs": [
        {
          "output_type": "stream",
          "name": "stdout",
          "text": [
            "Epoch 1/30\n",
            "375/375 [==============================] - 11s 23ms/step - loss: 0.3086 - accuracy: 0.9069 - val_loss: 0.1292 - val_accuracy: 0.9611\n",
            "Epoch 2/30\n",
            "375/375 [==============================] - 8s 22ms/step - loss: 0.1271 - accuracy: 0.9617 - val_loss: 0.1000 - val_accuracy: 0.9686\n",
            "Epoch 3/30\n",
            "375/375 [==============================] - 8s 20ms/step - loss: 0.0919 - accuracy: 0.9715 - val_loss: 0.0887 - val_accuracy: 0.9726\n",
            "Epoch 4/30\n",
            "375/375 [==============================] - 9s 23ms/step - loss: 0.0740 - accuracy: 0.9762 - val_loss: 0.0857 - val_accuracy: 0.9747\n",
            "Epoch 5/30\n",
            "375/375 [==============================] - 7s 20ms/step - loss: 0.0613 - accuracy: 0.9804 - val_loss: 0.0803 - val_accuracy: 0.9775\n",
            "Epoch 6/30\n",
            "375/375 [==============================] - 9s 23ms/step - loss: 0.0496 - accuracy: 0.9836 - val_loss: 0.0811 - val_accuracy: 0.9783\n",
            "Epoch 7/30\n",
            "375/375 [==============================] - 9s 24ms/step - loss: 0.0454 - accuracy: 0.9849 - val_loss: 0.0807 - val_accuracy: 0.9783\n",
            "Epoch 8/30\n",
            "375/375 [==============================] - 8s 22ms/step - loss: 0.0421 - accuracy: 0.9861 - val_loss: 0.0864 - val_accuracy: 0.9764\n",
            "Epoch 9/30\n",
            "375/375 [==============================] - 9s 23ms/step - loss: 0.0384 - accuracy: 0.9879 - val_loss: 0.0750 - val_accuracy: 0.9795\n",
            "Epoch 10/30\n",
            "375/375 [==============================] - 9s 24ms/step - loss: 0.0330 - accuracy: 0.9884 - val_loss: 0.0850 - val_accuracy: 0.9791\n",
            "Epoch 11/30\n",
            "375/375 [==============================] - 8s 20ms/step - loss: 0.0342 - accuracy: 0.9890 - val_loss: 0.0820 - val_accuracy: 0.9801\n",
            "Epoch 12/30\n",
            "375/375 [==============================] - 8s 22ms/step - loss: 0.0276 - accuracy: 0.9906 - val_loss: 0.0790 - val_accuracy: 0.9812\n",
            "Epoch 13/30\n",
            "375/375 [==============================] - 8s 22ms/step - loss: 0.0287 - accuracy: 0.9901 - val_loss: 0.0822 - val_accuracy: 0.9797\n",
            "Epoch 14/30\n",
            "375/375 [==============================] - 7s 20ms/step - loss: 0.0305 - accuracy: 0.9899 - val_loss: 0.0831 - val_accuracy: 0.9806\n",
            "Epoch 15/30\n",
            "375/375 [==============================] - 8s 22ms/step - loss: 0.0263 - accuracy: 0.9911 - val_loss: 0.0801 - val_accuracy: 0.9812\n",
            "Epoch 16/30\n",
            "375/375 [==============================] - 7s 20ms/step - loss: 0.0229 - accuracy: 0.9924 - val_loss: 0.0876 - val_accuracy: 0.9816\n",
            "Epoch 17/30\n",
            "375/375 [==============================] - 9s 24ms/step - loss: 0.0242 - accuracy: 0.9918 - val_loss: 0.0966 - val_accuracy: 0.9795\n",
            "Epoch 18/30\n",
            "375/375 [==============================] - 8s 23ms/step - loss: 0.0224 - accuracy: 0.9928 - val_loss: 0.0841 - val_accuracy: 0.9812\n",
            "Epoch 19/30\n",
            "375/375 [==============================] - 7s 20ms/step - loss: 0.0229 - accuracy: 0.9927 - val_loss: 0.0935 - val_accuracy: 0.9805\n",
            "Epoch 20/30\n",
            "375/375 [==============================] - 8s 22ms/step - loss: 0.0244 - accuracy: 0.9918 - val_loss: 0.0917 - val_accuracy: 0.9808\n",
            "Epoch 21/30\n",
            "375/375 [==============================] - 8s 22ms/step - loss: 0.0233 - accuracy: 0.9923 - val_loss: 0.0878 - val_accuracy: 0.9811\n",
            "Epoch 22/30\n",
            "375/375 [==============================] - 8s 20ms/step - loss: 0.0185 - accuracy: 0.9937 - val_loss: 0.0908 - val_accuracy: 0.9816\n",
            "Epoch 23/30\n",
            "375/375 [==============================] - 9s 23ms/step - loss: 0.0163 - accuracy: 0.9945 - val_loss: 0.0994 - val_accuracy: 0.9818\n",
            "Epoch 24/30\n",
            "375/375 [==============================] - 7s 20ms/step - loss: 0.0205 - accuracy: 0.9935 - val_loss: 0.0983 - val_accuracy: 0.9803\n",
            "Epoch 25/30\n",
            "375/375 [==============================] - 8s 23ms/step - loss: 0.0175 - accuracy: 0.9939 - val_loss: 0.1045 - val_accuracy: 0.9799\n",
            "Epoch 26/30\n",
            "375/375 [==============================] - 9s 23ms/step - loss: 0.0163 - accuracy: 0.9949 - val_loss: 0.0895 - val_accuracy: 0.9832\n",
            "Epoch 27/30\n",
            "375/375 [==============================] - 7s 20ms/step - loss: 0.0177 - accuracy: 0.9943 - val_loss: 0.1011 - val_accuracy: 0.9811\n",
            "Epoch 28/30\n",
            "375/375 [==============================] - 8s 23ms/step - loss: 0.0207 - accuracy: 0.9931 - val_loss: 0.1015 - val_accuracy: 0.9801\n",
            "Epoch 29/30\n",
            "375/375 [==============================] - 8s 22ms/step - loss: 0.0162 - accuracy: 0.9946 - val_loss: 0.1010 - val_accuracy: 0.9809\n",
            "Epoch 30/30\n",
            "375/375 [==============================] - 8s 21ms/step - loss: 0.0163 - accuracy: 0.9948 - val_loss: 0.0993 - val_accuracy: 0.9807\n"
          ]
        }
      ]
    },
    {
      "cell_type": "code",
      "source": [
        "import matplotlib.pyplot as plt\n",
        "%matplotlib inline\n",
        "print(training.history.keys())\n",
        "plt.plot(training.history['accuracy'])\n",
        "plt.plot(training.history['val_accuracy'])\n",
        "plt.title('model accuracy')\n",
        "plt.ylabel('accuracy')\n",
        "plt.xlabel('epoch')\n",
        "plt.legend(['train', 'test'], loc='upper left')\n",
        "plt.show()\n",
        "plt.plot(training.history['loss'])\n",
        "plt.plot(training.history['val_loss'])\n",
        "plt.title('model loss')\n",
        "plt.ylabel('loss')\n",
        "plt.xlabel('epoch')\n",
        "plt.legend(['train', 'test'], loc='upper left')\n",
        "plt.show()"
      ],
      "metadata": {
        "colab": {
          "base_uri": "https://localhost:8080/",
          "height": 944
        },
        "id": "bk7pxqI_vfRP",
        "outputId": "b5567e11-fd75-42db-b815-066e31a443e0"
      },
      "execution_count": null,
      "outputs": [
        {
          "output_type": "stream",
          "name": "stdout",
          "text": [
            "dict_keys(['loss', 'accuracy', 'val_loss', 'val_accuracy'])\n"
          ]
        },
        {
          "output_type": "display_data",
          "data": {
            "text/plain": [
              "<Figure size 640x480 with 1 Axes>"
            ],
            "image/png": "[encoded data removed]"
          },
          "metadata": {}
        },
        {
          "output_type": "display_data",
          "data": {
            "text/plain": [
              "<Figure size 640x480 with 1 Axes>"
            ],
            "image/png": "[encoded data removed]"
          },
          "metadata": {}
        }
      ]
    },
    {
      "cell_type": "code",
      "source": [
        "model_4.summary()"
      ],
      "metadata": {
        "colab": {
          "base_uri": "https://localhost:8080/"
        },
        "id": "z-7B-baVvqSS",
        "outputId": "f745c7b1-7a74-4684-c522-d17c2b797dfb"
      },
      "execution_count": null,
      "outputs": [
        {
          "output_type": "stream",
          "name": "stdout",
          "text": [
            "Model: \"sequential_12\"\n",
            "_________________________________________________________________\n",
            " Layer (type)                Output Shape              Param #   \n",
            "=================================================================\n",
            " dense_layer (Dense)         (None, 512)               401920    \n",
            "                                                                 \n",
            " dropout_6 (Dropout)         (None, 512)               0         \n",
            "                                                                 \n",
            " dense_layer_2 (Dense)       (None, 512)               262656    \n",
            "                                                                 \n",
            " dropout_7 (Dropout)         (None, 512)               0         \n",
            "                                                                 \n",
            " dense_layer_3 (Dense)       (None, 10)                5130      \n",
            "                                                                 \n",
            "=================================================================\n",
            "Total params: 669706 (2.55 MB)\n",
            "Trainable params: 669706 (2.55 MB)\n",
            "Non-trainable params: 0 (0.00 Byte)\n",
            "_________________________________________________________________\n"
          ]
        }
      ]
    },
    {
      "cell_type": "code",
      "source": [
        "model_4.weights"
      ],
      "metadata": {
        "colab": {
          "base_uri": "https://localhost:8080/"
        },
        "id": "qa2p6QSAvreV",
        "outputId": "a2ce3043-e57e-47b2-a2f1-74f973d1a482"
      },
      "execution_count": null,
      "outputs": [
        {
          "output_type": "execute_result",
          "data": {
            "text/plain": [
              "[<tf.Variable 'dense_layer/kernel:0' shape=(784, 512) dtype=float32, numpy=\n",
              " array([[ 0.0374932 ,  0.02092566,  0.0421138 , ...,  0.04107775,\n",
              "          0.04582526,  0.05175348],\n",
              "        [ 0.06161602,  0.05076163,  0.00355829, ..., -0.00767373,\n",
              "         -0.02184429, -0.06019507],\n",
              "        [ 0.0288641 ,  0.05839875, -0.0132812 , ..., -0.0334739 ,\n",
              "          0.04631722, -0.02999416],\n",
              "        ...,\n",
              "        [ 0.06524712, -0.05082458, -0.04206711, ..., -0.06430378,\n",
              "          0.01090071,  0.04282676],\n",
              "        [-0.0432879 , -0.05003113, -0.02644499, ...,  0.06662422,\n",
              "          0.06524138,  0.06242953],\n",
              "        [-0.06129591, -0.01728604, -0.01066412, ..., -0.01743479,\n",
              "          0.05021804,  0.0242921 ]], dtype=float32)>,\n",
              " <tf.Variable 'dense_layer/bias:0' shape=(512,) dtype=float32, numpy=\n",
              " array([ 9.09864232e-02, -1.83976833e-02, -4.77225669e-02,  1.18783889e-02,\n",
              "         5.08681051e-02, -1.75407412e-03,  9.22880098e-02, -3.28143202e-02,\n",
              "        -1.19552433e-01, -4.79568616e-02, -9.51774195e-02, -4.22241315e-02,\n",
              "        -5.45053631e-02, -4.16567037e-03,  1.18381746e-01, -9.93760526e-02,\n",
              "        -7.25487843e-02,  7.22823590e-02,  9.22299325e-02, -4.04973440e-02,\n",
              "         3.94403338e-02, -1.88889802e-02, -1.39373735e-01, -3.36961374e-02,\n",
              "        -3.14995274e-02,  1.71164926e-02,  4.94864210e-03,  3.39311063e-02,\n",
              "        -5.80007061e-02, -1.54267158e-02, -1.29707724e-01, -9.91002545e-02,\n",
              "        -9.06215310e-02, -7.13557303e-02, -1.67808980e-02, -8.90650451e-02,\n",
              "        -2.30885446e-02, -1.43947601e-01,  4.68667410e-02, -9.56824422e-02,\n",
              "        -8.39954838e-02,  7.74581134e-02,  1.46563910e-02, -4.76232171e-02,\n",
              "        -6.25551445e-03, -5.32539859e-02,  1.08154736e-01,  9.01499949e-03,\n",
              "         1.13017438e-02,  6.92070723e-02,  6.94685243e-03, -8.27983115e-03,\n",
              "        -9.06382054e-02, -4.77216765e-02, -7.00151687e-03, -9.71015021e-02,\n",
              "        -7.58969337e-02, -4.25958000e-02, -8.98944885e-02, -4.33592163e-02,\n",
              "        -2.32915562e-02, -9.61444303e-02, -7.89814442e-02, -7.31940046e-02,\n",
              "        -1.21790287e-03, -9.32300016e-02, -5.63888438e-02, -2.83399411e-02,\n",
              "        -2.87259240e-02, -2.09134556e-02, -1.00822290e-02,  7.87005574e-02,\n",
              "         1.74152926e-02, -2.05841307e-02, -3.33441943e-02,  4.01779125e-03,\n",
              "        -8.28549936e-02,  7.07908487e-03, -5.78595512e-03,  3.04010813e-03,\n",
              "        -3.56134120e-03, -1.87668521e-02,  2.02950146e-02, -3.14119309e-02,\n",
              "        -1.23530932e-01, -8.08785670e-03, -1.19209379e-01, -4.32454906e-02,\n",
              "         1.19407717e-02, -1.28749147e-01,  4.66125533e-02,  2.97317840e-02,\n",
              "        -2.60958597e-02, -1.24988362e-01, -1.99590717e-02,  2.49258950e-02,\n",
              "        -9.22610387e-02, -3.00389770e-02,  2.30907425e-02,  7.79331848e-02,\n",
              "         5.50150909e-02,  3.39661166e-02,  4.06293944e-02, -6.46605268e-02,\n",
              "        -2.35692915e-02, -4.33934480e-02, -3.40485014e-02,  4.37331945e-02,\n",
              "         5.06564463e-03, -1.62167437e-02,  9.31234881e-02, -5.13544604e-02,\n",
              "        -1.42768249e-02, -8.28936994e-02, -3.25530916e-02,  1.60898883e-02,\n",
              "        -3.66742536e-02, -9.39148292e-02, -3.24019007e-02, -2.92201852e-03,\n",
              "        -7.98440427e-02, -2.51931269e-02,  7.99714774e-03,  5.17949238e-02,\n",
              "        -6.04806421e-03,  1.48437861e-02,  7.56965950e-02, -1.22087918e-01,\n",
              "        -2.17596367e-02, -2.32560541e-02, -8.49090591e-02, -6.96273446e-02,\n",
              "        -4.59538493e-03,  8.44420418e-02, -8.68934952e-03, -5.83871715e-02,\n",
              "        -1.43016368e-01,  3.24506275e-02, -8.64315256e-02,  6.12324215e-02,\n",
              "        -5.25169037e-02, -6.06020726e-02, -7.13027939e-02, -5.12001552e-02,\n",
              "        -5.52599914e-02,  6.00015298e-02, -2.00045612e-02, -6.30330965e-02,\n",
              "         1.63018517e-02,  7.98347071e-02, -2.81094736e-03, -4.76148799e-02,\n",
              "        -1.45413309e-01, -5.68542778e-02,  1.47316027e-02, -1.91879943e-02,\n",
              "         1.97941661e-02, -7.37383217e-02, -2.21446380e-02,  2.92966608e-02,\n",
              "        -1.32763088e-01, -3.02252825e-02, -1.22700639e-01,  1.10314697e-01,\n",
              "        -7.08037019e-02, -6.89279288e-03, -4.92106155e-02, -3.06119472e-02,\n",
              "        -4.79863063e-02,  3.17201130e-02, -1.27310921e-02, -3.14057022e-02,\n",
              "        -4.76014204e-02,  1.59746315e-02, -7.28595182e-02,  7.14651868e-03,\n",
              "         4.84872889e-03, -7.93289989e-02,  1.96168479e-02,  1.32897515e-02,\n",
              "        -2.53414720e-01, -2.09390111e-02, -5.63364513e-02, -9.85730812e-02,\n",
              "         9.82124060e-02, -4.61083185e-03, -1.42774850e-01,  5.32433093e-02,\n",
              "        -2.49906462e-02, -4.81771247e-04, -5.80114126e-02, -1.10997269e-02,\n",
              "        -1.00969248e-01, -4.60502729e-02, -5.53283058e-02, -8.19709823e-02,\n",
              "        -2.73510180e-02, -7.18531609e-02, -3.97065878e-02, -4.52661924e-02,\n",
              "        -1.36811480e-01,  2.16261949e-02,  3.40395160e-02,  6.99322075e-02,\n",
              "        -1.32869333e-01, -5.46895666e-03, -5.08980863e-02,  2.07895599e-02,\n",
              "        -9.77117345e-02,  3.56240273e-02, -5.89420870e-02, -4.38911356e-02,\n",
              "        -1.01903521e-01,  5.09744994e-02, -4.93446030e-02, -4.05946188e-02,\n",
              "        -5.45121692e-02, -4.78099138e-02, -2.44752802e-02, -5.74617870e-02,\n",
              "        -3.36702168e-02,  6.74176887e-02, -1.02798231e-01, -3.92804742e-02,\n",
              "         3.02116051e-02, -1.55462949e-02, -4.60825823e-02,  2.63829455e-02,\n",
              "        -4.28768136e-02, -1.34704396e-01, -7.03188553e-02, -3.24144326e-02,\n",
              "         5.98012889e-03, -9.94721707e-03,  4.06578369e-02, -3.76211964e-02,\n",
              "        -7.62770325e-02, -5.03364354e-02,  1.07272200e-01, -2.11654566e-02,\n",
              "        -2.16564965e-02, -2.37480029e-02, -8.64018574e-02, -7.29222596e-02,\n",
              "         7.50821754e-02, -1.66536830e-02, -7.77982874e-04, -2.03907806e-02,\n",
              "         3.50324530e-03,  7.41597638e-02, -7.41625056e-02, -1.22352012e-01,\n",
              "        -2.43176464e-02, -5.97173385e-02, -5.07712886e-02, -5.37326839e-03,\n",
              "        -5.30447811e-02, -2.23665877e-04, -1.26737371e-01, -8.76106229e-03,\n",
              "        -1.26637310e-01, -1.88977253e-02, -1.09284788e-01, -4.34761755e-02,\n",
              "        -1.29694700e-01, -1.81092918e-02, -7.63692260e-02, -1.49667589e-03,\n",
              "         1.29162595e-02,  1.75135452e-02,  2.69417930e-03, -3.92941013e-03,\n",
              "         1.11512765e-02, -2.52932347e-02,  3.37202437e-02, -1.39382286e-02,\n",
              "         1.47443032e-02, -3.62882577e-02, -7.86938965e-02, -9.68168452e-02,\n",
              "        -5.91059215e-02,  6.82571530e-02, -9.62981880e-02, -3.56977656e-02,\n",
              "        -2.31844503e-02, -1.18529971e-03,  6.95965067e-02,  2.53319517e-02,\n",
              "        -9.16805491e-02,  3.40445340e-02, -1.06961600e-01, -5.07055186e-02,\n",
              "        -3.26641388e-02,  5.75721776e-03,  6.57014847e-02,  2.33423058e-02,\n",
              "        -4.76833023e-02, -8.01486149e-02,  6.31374642e-02, -7.20044523e-02,\n",
              "        -1.15764126e-01, -1.15789950e-01, -1.88488234e-02,  5.56612797e-02,\n",
              "         4.00148667e-02,  2.56086476e-02,  7.56786242e-02,  8.45117345e-02,\n",
              "         1.03193775e-01, -1.03312619e-01, -3.18752751e-02, -3.55326347e-02,\n",
              "        -5.25686257e-02,  4.11428325e-02, -6.62142858e-02,  5.67934141e-02,\n",
              "        -5.85776493e-02, -1.83217078e-02, -1.05220964e-02, -9.26738381e-02,\n",
              "        -3.04121468e-02, -2.83673219e-02, -4.79772203e-02,  2.74213944e-02,\n",
              "         2.08734581e-03, -3.65657993e-02, -5.52930161e-02, -3.88584770e-02,\n",
              "        -1.23144891e-02, -8.73719230e-02, -5.62642477e-02, -3.50847580e-02,\n",
              "        -8.01500157e-02, -7.11754560e-02,  6.77961037e-02,  1.74889676e-02,\n",
              "        -3.87116242e-03,  6.16613775e-02, -5.42436168e-02, -1.00455657e-02,\n",
              "        -3.45600359e-02, -4.32720147e-02, -5.30464426e-02,  1.61085501e-02,\n",
              "        -8.86694342e-02, -6.48210943e-02, -6.24299571e-02, -7.84019008e-02,\n",
              "        -1.77102571e-03, -1.04081228e-01, -4.18778099e-02,  1.24715259e-02,\n",
              "        -5.59503697e-02, -7.18355477e-02, -2.96859313e-02, -1.99940559e-02,\n",
              "         1.44838681e-02, -8.05859789e-02,  1.59894757e-03, -3.95743351e-04,\n",
              "         4.60625812e-02, -1.51711088e-02,  2.03457288e-02,  7.91796856e-03,\n",
              "         6.20248690e-02, -7.93950036e-02,  1.64746419e-02,  4.16101255e-02,\n",
              "        -1.13247812e-01, -4.13803235e-02, -7.50782937e-02, -3.64442803e-02,\n",
              "        -1.10388368e-01, -4.67452146e-02, -1.22037999e-01, -3.81207988e-02,\n",
              "        -2.83830538e-02, -9.00927931e-02, -3.58616523e-02, -2.91724820e-02,\n",
              "        -7.47121722e-02, -1.23999983e-01, -1.18133575e-01, -7.99636021e-02,\n",
              "        -1.85585752e-01, -9.04152691e-02, -8.31940174e-02, -1.95203036e-01,\n",
              "        -1.70769151e-02,  4.05403320e-03, -8.54831859e-02,  2.08348013e-03,\n",
              "        -2.15045363e-02,  6.63126931e-02,  1.25138789e-01,  6.89556450e-02,\n",
              "        -1.26245094e-03, -1.65253133e-01, -1.33358194e-02,  5.04392711e-03,\n",
              "         2.03475961e-03,  2.60588285e-02, -1.20525904e-01,  4.47903872e-02,\n",
              "        -1.82142332e-02, -5.09922355e-02, -4.10815813e-02, -7.92703480e-02,\n",
              "        -3.17486115e-02, -1.04934096e-01, -8.17977116e-02, -1.29970074e-01,\n",
              "        -3.36830020e-02, -2.91332863e-02,  8.82222783e-03, -7.72247603e-03,\n",
              "         4.97370120e-03,  7.42657296e-03, -4.34865169e-02, -8.84687752e-02,\n",
              "        -6.79003447e-03, -7.84472227e-02, -4.84848209e-02, -1.05386369e-01,\n",
              "         1.96143109e-02, -8.42798948e-02,  3.16610262e-02,  1.83957051e-02,\n",
              "        -6.97679296e-02, -6.90535903e-02,  1.15453145e-02,  1.02736831e-01,\n",
              "        -9.59734917e-02, -2.36774869e-02, -5.06342798e-02,  1.13807261e-01,\n",
              "        -5.84323071e-02,  3.01477704e-02,  6.57026693e-02, -2.40485985e-02,\n",
              "        -1.11054234e-01,  7.21239299e-02, -1.46615580e-01,  1.15138493e-01,\n",
              "        -4.46191728e-02, -1.09175310e-01,  2.13451367e-02,  1.40464315e-02,\n",
              "         4.42000851e-02, -3.45037282e-02, -1.18569441e-01, -4.85405400e-02,\n",
              "         8.46507624e-02, -6.51788339e-02, -3.81778106e-02, -1.21018402e-01,\n",
              "        -2.19580941e-02, -4.62270416e-02,  1.34472167e-02,  6.56471699e-02,\n",
              "         1.36828542e-01, -4.30960432e-02, -2.67485175e-02, -5.31105921e-02,\n",
              "         2.36970596e-02, -1.24207390e-02, -2.68717185e-02,  4.24837368e-03,\n",
              "         4.22514677e-02, -8.85694567e-03,  6.26331195e-02, -7.20343962e-02,\n",
              "         2.17694119e-02, -3.57316136e-02,  5.70967421e-02, -1.98538136e-03,\n",
              "        -4.66449261e-02, -9.19729751e-03, -8.41550678e-02, -9.66371521e-02,\n",
              "        -7.81371519e-02, -3.64499763e-02,  1.78138798e-04, -2.97547271e-03,\n",
              "        -3.28493640e-02,  2.31128819e-02, -4.53521907e-02,  2.29385179e-02,\n",
              "        -1.25638731e-02, -1.19294442e-01,  3.56235988e-02, -1.16399620e-02,\n",
              "        -3.63760404e-02, -1.40328974e-01, -5.45676015e-02,  3.18554603e-02,\n",
              "        -2.45407932e-02,  2.27943771e-02, -9.77480635e-02, -5.33501792e-04,\n",
              "        -5.53909726e-02, -8.29985812e-02, -1.59579162e-02,  1.79801194e-03,\n",
              "         4.33788598e-02, -9.51586366e-02, -1.58364728e-01, -1.82486456e-02,\n",
              "        -4.20655198e-02, -1.14045240e-01,  6.53724791e-03, -1.16085082e-01],\n",
              "       dtype=float32)>,\n",
              " <tf.Variable 'dense_layer_2/kernel:0' shape=(512, 512) dtype=float32, numpy=\n",
              " array([[-0.04052103, -0.14281648, -0.12015939, ..., -0.12334797,\n",
              "          0.06045365,  0.03828334],\n",
              "        [-0.19252096, -0.04494901,  0.00077978, ..., -0.13404536,\n",
              "          0.08105666, -0.05918049],\n",
              "        [ 0.07038424,  0.00495134,  0.07207128, ...,  0.05610927,\n",
              "          0.01347953, -0.20305765],\n",
              "        ...,\n",
              "        [ 0.18956055, -0.09300397,  0.14315227, ...,  0.03797641,\n",
              "         -0.06722116, -0.02747173],\n",
              "        [-0.00415797,  0.02907316,  0.04867264, ..., -0.00489194,\n",
              "          0.10749011, -0.05972447],\n",
              "        [ 0.04053032, -0.04313974, -0.08486622, ...,  0.06423687,\n",
              "         -0.15848957, -0.15402016]], dtype=float32)>,\n",
              " <tf.Variable 'dense_layer_2/bias:0' shape=(512,) dtype=float32, numpy=\n",
              " array([ 2.13156128e-03,  9.88623500e-02,  2.33480543e-01,  4.36595157e-02,\n",
              "        -1.31141823e-02, -1.06922269e-01,  2.08988339e-02,  4.61591445e-02,\n",
              "        -1.47134379e-01, -5.79747092e-03,  2.24607170e-01, -1.11833420e-02,\n",
              "        -6.86067417e-02, -8.44408423e-02,  2.28520945e-01, -1.44924119e-01,\n",
              "        -1.76025614e-01, -8.09127698e-04, -1.75684001e-02,  2.16602653e-01,\n",
              "        -1.23347275e-01, -1.81712300e-01, -4.83546183e-02, -3.95065658e-02,\n",
              "         1.34043440e-01, -8.40038955e-02, -3.80659476e-02,  4.52854969e-02,\n",
              "        -3.35522182e-02, -8.38660449e-02,  9.46605057e-02, -2.24721894e-01,\n",
              "        -7.66541064e-02, -6.66667148e-02, -2.13237450e-01, -1.45507917e-01,\n",
              "         8.65165293e-02,  1.74375214e-02, -1.83659285e-01,  1.73415452e-01,\n",
              "         6.97238818e-02,  9.68156159e-02, -9.99014974e-02, -1.03432372e-01,\n",
              "         5.77519834e-02,  7.61595964e-02,  6.36873022e-02,  5.49583212e-02,\n",
              "         5.03040701e-02,  1.20710507e-02,  9.68215428e-03, -3.82089615e-02,\n",
              "        -1.12199016e-01,  3.79141495e-02,  3.74695100e-02,  3.56553011e-02,\n",
              "         1.01483226e-01, -1.57568753e-01, -1.09920986e-01,  1.06168054e-02,\n",
              "         4.15426232e-02, -1.30166588e-02, -8.92339945e-02, -1.24043219e-01,\n",
              "         8.67659673e-02, -1.41168409e-03,  1.74552485e-01,  4.97054905e-02,\n",
              "        -2.59415270e-03, -5.34662865e-02,  1.04645669e-01,  4.52681482e-02,\n",
              "         6.32356852e-02, -1.05933780e-02,  6.78098667e-03,  1.20807014e-01,\n",
              "         5.85868247e-02, -1.31199555e-03,  7.97296613e-02,  8.68451893e-02,\n",
              "        -1.16850771e-01,  3.14565077e-02, -5.25504760e-02,  4.74450253e-02,\n",
              "        -9.45892483e-02,  8.57549161e-02,  1.32174596e-01, -5.88225340e-03,\n",
              "         5.86509798e-03,  2.17423830e-02, -2.16204710e-02, -1.41666401e-02,\n",
              "         6.21031970e-02, -7.24989325e-02, -1.06106084e-02, -2.83057187e-02,\n",
              "        -7.03462884e-02, -1.75010234e-01, -1.73161626e-01,  7.27147534e-02,\n",
              "         2.20796689e-01,  6.12694882e-02, -1.22967072e-01, -1.41506210e-01,\n",
              "         1.44973502e-01,  7.74899051e-02, -9.86945704e-02, -6.22270852e-02,\n",
              "         4.35616337e-02,  1.45203784e-01,  8.26203600e-02, -5.42364530e-02,\n",
              "        -1.02712978e-02, -1.83173828e-02,  4.38837372e-02, -1.93823650e-02,\n",
              "         2.18055353e-01, -7.45507032e-02,  6.55412003e-02,  6.47272170e-02,\n",
              "        -5.21369614e-02,  8.89794230e-02,  4.60320748e-02, -9.84150171e-02,\n",
              "         1.92319348e-01,  4.97918278e-02, -9.89564285e-02, -9.37858969e-02,\n",
              "        -7.32170232e-03,  3.74849029e-02, -4.45773154e-02, -4.46586870e-02,\n",
              "        -2.10516915e-01, -1.11333266e-01, -1.24071755e-01,  1.58865333e-01,\n",
              "        -1.46957114e-01,  1.31307185e-01,  9.14872140e-02,  8.48494321e-02,\n",
              "        -2.83726435e-02, -4.55129258e-02,  1.10602126e-01, -1.04005784e-01,\n",
              "        -1.00874253e-01,  1.97454959e-01,  1.59396902e-01,  1.85915709e-01,\n",
              "         2.39085685e-02, -2.25301400e-01,  1.02677643e-01,  7.80616654e-03,\n",
              "         5.35865314e-02, -3.78189571e-02,  4.89873029e-02,  8.24676678e-02,\n",
              "         4.41011600e-03,  3.14362831e-02, -1.90090373e-01,  8.47040489e-02,\n",
              "        -2.49027591e-02, -5.48085617e-03, -5.12098186e-02, -1.07513152e-01,\n",
              "         4.96073849e-02,  1.44832417e-01, -1.79679781e-01,  1.03647493e-01,\n",
              "         1.73363183e-02,  8.67730286e-03, -5.46361320e-02, -2.07699444e-02,\n",
              "         1.80463597e-01,  8.87232125e-02, -1.65089831e-01, -5.16605750e-02,\n",
              "        -1.01794146e-01, -3.83626558e-02, -8.50051343e-02, -1.12508357e-01,\n",
              "        -6.74955994e-02,  1.47400334e-01, -5.51320501e-02,  2.78932881e-02,\n",
              "         2.46722978e-02,  8.49922374e-02, -1.86123282e-01,  1.04623817e-01,\n",
              "        -7.76247010e-02, -6.98047429e-02, -1.05830088e-01,  3.60562652e-02,\n",
              "         5.88021465e-02,  6.85820729e-02, -4.80413251e-02, -9.10161659e-02,\n",
              "        -1.09329164e-01,  6.10169582e-02, -1.83025181e-01, -1.96517438e-01,\n",
              "         2.02115476e-01,  1.55416317e-02, -4.62467000e-02,  4.54674736e-02,\n",
              "        -1.71009630e-01, -8.46293345e-02, -2.13589713e-01,  5.24323918e-02,\n",
              "        -1.31670266e-01,  1.45061180e-01,  1.08054519e-01,  1.00070827e-01,\n",
              "        -5.76744378e-02, -1.51558831e-01, -1.83787301e-01, -1.37415335e-01,\n",
              "        -2.01045930e-01, -2.57578492e-01, -1.65326849e-01, -1.52513906e-01,\n",
              "         1.09464318e-01, -9.22265425e-02,  1.78377479e-01, -1.33047268e-01,\n",
              "         7.19441399e-02,  1.13859452e-01, -6.99458970e-03,  1.57899976e-01,\n",
              "         3.82031575e-02, -1.21531226e-01, -1.01043724e-01, -1.08441412e-01,\n",
              "        -4.77795936e-02, -1.99052151e-02, -1.10323362e-01, -1.36113822e-01,\n",
              "         1.17417485e-01,  4.04360928e-02,  1.87350661e-01,  1.53092697e-01,\n",
              "        -2.58921329e-02,  1.84564456e-01,  1.52176246e-01, -1.66942880e-01,\n",
              "         8.84454511e-03, -8.50132294e-03, -1.26451284e-01, -1.37517508e-02,\n",
              "         1.06628284e-01,  1.80918410e-01, -5.52000850e-02, -8.02200139e-02,\n",
              "        -1.19066285e-02, -2.87763011e-02, -1.69750333e-01,  2.25602344e-05,\n",
              "        -1.27512753e-01, -1.26063332e-01, -6.86904490e-02,  5.23779318e-02,\n",
              "        -2.55034789e-02, -1.21392317e-01, -5.67047484e-03,  2.92857409e-01,\n",
              "        -1.20657891e-01,  1.98487435e-02, -1.26963509e-02, -8.46521780e-02,\n",
              "         1.17667645e-01, -1.09973013e-01, -1.67237043e-01, -2.14572653e-01,\n",
              "         1.18080758e-01,  1.32392794e-01, -7.97155872e-02, -3.55313979e-02,\n",
              "         8.14587101e-02, -6.60912544e-02,  1.67124510e-01,  1.27786830e-01,\n",
              "        -1.52438194e-01, -1.51053965e-01,  5.68546914e-03, -3.69276442e-02,\n",
              "         1.57167375e-01, -2.01619983e-01, -3.04949805e-02,  1.79105457e-02,\n",
              "         1.03530303e-01,  3.87235568e-03, -1.24588907e-01, -1.50432009e-02,\n",
              "        -1.44927472e-01, -5.47886230e-02,  1.62802711e-01, -1.07187063e-01,\n",
              "         1.28951678e-02, -1.04044065e-01, -4.81113084e-02,  2.20625754e-02,\n",
              "        -1.27608225e-01, -1.54764473e-01, -2.54118107e-02, -1.21302947e-01,\n",
              "        -1.41392592e-02, -1.70066617e-02, -6.88975006e-02,  1.35374784e-01,\n",
              "        -9.14619267e-02,  9.47291031e-02,  1.65542111e-01,  7.28707090e-02,\n",
              "        -1.23800807e-01,  2.03891516e-01, -1.28637925e-01, -6.34130314e-02,\n",
              "        -1.44920513e-01, -1.33151725e-01, -7.28834122e-02, -1.46383017e-01,\n",
              "        -6.79494888e-02, -3.61645743e-02,  1.23223707e-01, -7.72598535e-02,\n",
              "        -1.23652061e-02,  2.16238704e-02,  1.62067413e-01, -1.29633844e-01,\n",
              "         1.76639691e-01, -1.26688376e-01,  2.26382628e-01, -1.63155317e-01,\n",
              "        -6.77144229e-02, -1.27511784e-01, -8.13256130e-02,  1.26911908e-01,\n",
              "        -1.68674722e-01, -2.88897246e-01,  2.63707727e-01, -1.44880131e-01,\n",
              "        -3.62813249e-02,  3.04979198e-02, -1.13369644e-01,  2.02434272e-01,\n",
              "        -2.34342963e-01, -1.67553276e-01,  1.21867515e-01, -7.54942223e-02,\n",
              "        -1.07341051e-01, -1.52743831e-01,  1.38525208e-02, -6.40670508e-02,\n",
              "        -8.18034112e-02, -3.55888680e-02, -3.58387791e-02,  7.43782818e-02,\n",
              "        -4.49417047e-02, -6.32420778e-02,  1.12220325e-01, -6.48293644e-02,\n",
              "        -5.49004108e-05,  1.10649772e-01,  9.88985784e-03,  1.54159097e-02,\n",
              "        -2.19009388e-02, -3.67308557e-02, -6.80269524e-02,  1.87805481e-02,\n",
              "         2.54107565e-02,  1.25698447e-01, -1.30605564e-01, -3.22019868e-02,\n",
              "        -4.37836312e-02, -9.32018980e-02, -1.06494322e-01, -2.86475085e-02,\n",
              "         5.16022854e-02, -3.97112146e-02, -1.34638473e-01,  1.00198463e-02,\n",
              "        -8.71945918e-02, -4.25239094e-02, -2.24104691e-02, -3.78720276e-02,\n",
              "        -2.10717805e-02, -1.64583981e-01,  6.58161044e-02, -1.99793547e-01,\n",
              "         1.90425426e-01,  2.16097124e-02, -9.16401371e-02,  1.88567042e-01,\n",
              "        -8.14145431e-02,  1.57498121e-01,  5.45136444e-02, -1.01632848e-02,\n",
              "         2.24994286e-03,  2.01855823e-01, -1.08347051e-01, -1.19955063e-01,\n",
              "         7.28498101e-02, -4.06540465e-03, -1.08130742e-02,  2.77786497e-02,\n",
              "        -1.38457060e-01,  4.79546264e-02, -3.61301787e-02, -2.43614484e-02,\n",
              "         6.58023283e-02, -3.88499498e-02,  1.76735371e-01, -1.46601326e-03,\n",
              "        -9.18016061e-02, -1.05456553e-01,  6.56100586e-02,  2.02092811e-01,\n",
              "        -6.59172833e-02, -1.48986086e-01,  1.00854218e-01,  1.57626644e-01,\n",
              "         1.34325951e-01, -5.05915694e-02,  1.54499143e-01,  1.51740447e-01,\n",
              "         4.12621535e-02,  1.44064073e-02,  6.79890737e-02,  6.03315160e-02,\n",
              "         2.46824371e-03, -7.82403052e-02, -2.66267620e-02,  2.47233324e-02,\n",
              "        -8.47867653e-02, -3.62847000e-02, -1.82114244e-01,  7.60607272e-02,\n",
              "         9.61573198e-02, -9.91325476e-04,  2.12532096e-02, -2.67088503e-01,\n",
              "        -3.59803773e-02, -1.61018685e-01,  4.69534919e-02, -1.14167109e-01,\n",
              "        -4.76123905e-03, -1.40265748e-02,  7.68705234e-02, -1.12805828e-01,\n",
              "        -1.44341916e-01, -1.33812562e-01,  6.83586150e-02,  4.64420244e-02,\n",
              "         1.38379289e-02, -2.55555147e-03, -1.93019733e-01,  9.02421474e-02,\n",
              "        -1.87470004e-01, -1.36306882e-03,  6.26463220e-02,  1.29170984e-01,\n",
              "        -8.02901313e-02,  1.68575585e-01,  3.94574925e-02,  1.34793743e-01,\n",
              "        -5.08293100e-02,  1.13038463e-03,  7.17995092e-02, -1.44930137e-02,\n",
              "         2.29385361e-01, -1.91360548e-01, -3.77576128e-02,  9.45673361e-02,\n",
              "         1.47638708e-01, -1.52871966e-01,  3.04910690e-02, -1.79115385e-01,\n",
              "        -5.45481555e-02, -1.10924363e-01, -1.19334333e-01,  9.47308764e-02,\n",
              "        -5.65002337e-02,  1.28148437e-01,  5.14033698e-02, -1.37827083e-01,\n",
              "        -2.61831600e-02,  5.11213765e-02,  8.51699486e-02,  1.65873528e-01,\n",
              "        -2.45950092e-02, -6.73180521e-02,  6.16571680e-02, -1.72774076e-01,\n",
              "         1.59094289e-01,  1.18034095e-01, -1.23982675e-01,  3.26335989e-02,\n",
              "         1.04135238e-01, -6.25359789e-02, -7.25074951e-03, -1.37938142e-01,\n",
              "        -9.16011184e-02, -7.38690719e-02,  1.02445781e-01,  5.04998863e-03,\n",
              "         3.22329113e-04,  3.12147345e-02,  1.75203770e-01,  8.00474584e-02,\n",
              "        -2.25684997e-02,  1.78102218e-02, -1.23385057e-01, -1.00925870e-01],\n",
              "       dtype=float32)>,\n",
              " <tf.Variable 'dense_layer_3/kernel:0' shape=(512, 10) dtype=float32, numpy=\n",
              " array([[-0.21881497, -0.04410004,  0.07600792, ...,  0.10853017,\n",
              "          0.04180444, -0.32213137],\n",
              "        [ 0.07003436, -0.1787846 ,  0.06650797, ..., -0.23756386,\n",
              "          0.02871418,  0.04865425],\n",
              "        [ 0.14845923, -0.0580432 ,  0.02678693, ...,  0.08051577,\n",
              "          0.12098825,  0.07700595],\n",
              "        ...,\n",
              "        [ 0.07964861,  0.05525833, -0.07859401, ..., -0.16254084,\n",
              "         -0.00067473, -0.23100199],\n",
              "        [-0.17780097,  0.07907852, -0.05698413, ...,  0.10874148,\n",
              "          0.0887978 ,  0.04412716],\n",
              "        [ 0.11426464,  0.09856788,  0.06704794, ..., -0.15388793,\n",
              "         -0.2079217 , -0.00095502]], dtype=float32)>,\n",
              " <tf.Variable 'dense_layer_3/bias:0' shape=(10,) dtype=float32, numpy=\n",
              " array([ 0.0932453 , -0.12678084, -0.08390026, -0.03111237, -0.05358075,\n",
              "        -0.10002957, -0.1002327 , -0.13442369,  0.309028  ,  0.1088132 ],\n",
              "       dtype=float32)>]"
            ]
          },
          "metadata": {},
          "execution_count": 92
        }
      ]
    },
    {
      "cell_type": "code",
      "source": [
        "model_4.get_config()"
      ],
      "metadata": {
        "colab": {
          "base_uri": "https://localhost:8080/"
        },
        "id": "Jxj6aHROvund",
        "outputId": "27074ba7-3f11-4574-9143-c85ccdacf0c7"
      },
      "execution_count": null,
      "outputs": [
        {
          "output_type": "execute_result",
          "data": {
            "text/plain": [
              "{'name': 'sequential_12',\n",
              " 'layers': [{'module': 'keras.layers',\n",
              "   'class_name': 'InputLayer',\n",
              "   'config': {'batch_input_shape': (None, 784),\n",
              "    'dtype': 'float32',\n",
              "    'sparse': False,\n",
              "    'ragged': False,\n",
              "    'name': 'dense_layer_input'},\n",
              "   'registered_name': None},\n",
              "  {'module': 'keras.layers',\n",
              "   'class_name': 'Dense',\n",
              "   'config': {'name': 'dense_layer',\n",
              "    'trainable': True,\n",
              "    'dtype': 'float32',\n",
              "    'batch_input_shape': (None, 784),\n",
              "    'units': 512,\n",
              "    'activation': 'relu',\n",
              "    'use_bias': True,\n",
              "    'kernel_initializer': {'module': 'keras.initializers',\n",
              "     'class_name': 'GlorotUniform',\n",
              "     'config': {'seed': None},\n",
              "     'registered_name': None},\n",
              "    'bias_initializer': {'module': 'keras.initializers',\n",
              "     'class_name': 'Zeros',\n",
              "     'config': {},\n",
              "     'registered_name': None},\n",
              "    'kernel_regularizer': None,\n",
              "    'bias_regularizer': None,\n",
              "    'activity_regularizer': None,\n",
              "    'kernel_constraint': None,\n",
              "    'bias_constraint': None},\n",
              "   'registered_name': None,\n",
              "   'build_config': {'input_shape': (None, 784)}},\n",
              "  {'module': 'keras.layers',\n",
              "   'class_name': 'Dropout',\n",
              "   'config': {'name': 'dropout_6',\n",
              "    'trainable': True,\n",
              "    'dtype': 'float32',\n",
              "    'rate': 0.3,\n",
              "    'noise_shape': None,\n",
              "    'seed': None},\n",
              "   'registered_name': None,\n",
              "   'build_config': {'input_shape': (None, 512)}},\n",
              "  {'module': 'keras.layers',\n",
              "   'class_name': 'Dense',\n",
              "   'config': {'name': 'dense_layer_2',\n",
              "    'trainable': True,\n",
              "    'dtype': 'float32',\n",
              "    'units': 512,\n",
              "    'activation': 'relu',\n",
              "    'use_bias': True,\n",
              "    'kernel_initializer': {'module': 'keras.initializers',\n",
              "     'class_name': 'GlorotUniform',\n",
              "     'config': {'seed': None},\n",
              "     'registered_name': None},\n",
              "    'bias_initializer': {'module': 'keras.initializers',\n",
              "     'class_name': 'Zeros',\n",
              "     'config': {},\n",
              "     'registered_name': None},\n",
              "    'kernel_regularizer': None,\n",
              "    'bias_regularizer': None,\n",
              "    'activity_regularizer': None,\n",
              "    'kernel_constraint': None,\n",
              "    'bias_constraint': None},\n",
              "   'registered_name': None,\n",
              "   'build_config': {'input_shape': (None, 512)}},\n",
              "  {'module': 'keras.layers',\n",
              "   'class_name': 'Dropout',\n",
              "   'config': {'name': 'dropout_7',\n",
              "    'trainable': True,\n",
              "    'dtype': 'float32',\n",
              "    'rate': 0.3,\n",
              "    'noise_shape': None,\n",
              "    'seed': None},\n",
              "   'registered_name': None,\n",
              "   'build_config': {'input_shape': (None, 512)}},\n",
              "  {'module': 'keras.layers',\n",
              "   'class_name': 'Dense',\n",
              "   'config': {'name': 'dense_layer_3',\n",
              "    'trainable': True,\n",
              "    'dtype': 'float32',\n",
              "    'units': 10,\n",
              "    'activation': 'softmax',\n",
              "    'use_bias': True,\n",
              "    'kernel_initializer': {'module': 'keras.initializers',\n",
              "     'class_name': 'GlorotUniform',\n",
              "     'config': {'seed': None},\n",
              "     'registered_name': None},\n",
              "    'bias_initializer': {'module': 'keras.initializers',\n",
              "     'class_name': 'Zeros',\n",
              "     'config': {},\n",
              "     'registered_name': None},\n",
              "    'kernel_regularizer': None,\n",
              "    'bias_regularizer': None,\n",
              "    'activity_regularizer': None,\n",
              "    'kernel_constraint': None,\n",
              "    'bias_constraint': None},\n",
              "   'registered_name': None,\n",
              "   'build_config': {'input_shape': (None, 512)}}]}"
            ]
          },
          "metadata": {},
          "execution_count": 93
        }
      ]
    },
    {
      "cell_type": "code",
      "source": [
        "model_4.summary()"
      ],
      "metadata": {
        "colab": {
          "base_uri": "https://localhost:8080/"
        },
        "id": "m4Ao0EHrv1wk",
        "outputId": "79c5365d-7075-477f-ae71-7fcd715232f7"
      },
      "execution_count": null,
      "outputs": [
        {
          "output_type": "stream",
          "name": "stdout",
          "text": [
            "Model: \"sequential_12\"\n",
            "_________________________________________________________________\n",
            " Layer (type)                Output Shape              Param #   \n",
            "=================================================================\n",
            " dense_layer (Dense)         (None, 512)               401920    \n",
            "                                                                 \n",
            " dropout_6 (Dropout)         (None, 512)               0         \n",
            "                                                                 \n",
            " dense_layer_2 (Dense)       (None, 512)               262656    \n",
            "                                                                 \n",
            " dropout_7 (Dropout)         (None, 512)               0         \n",
            "                                                                 \n",
            " dense_layer_3 (Dense)       (None, 10)                5130      \n",
            "                                                                 \n",
            "=================================================================\n",
            "Total params: 669706 (2.55 MB)\n",
            "Trainable params: 669706 (2.55 MB)\n",
            "Non-trainable params: 0 (0.00 Byte)\n",
            "_________________________________________________________________\n"
          ]
        }
      ]
    },
    {
      "cell_type": "code",
      "source": [
        "model_5 = tf.keras.Sequential()\n",
        "N_hidden = 512\n",
        "model_5.add(Dense(N_hidden, name='dense_layer', input_shape=(784,), activation = 'relu'))\n",
        "model_5.add(Dropout(0.3))\n",
        "model_5.add(Dense(N_hidden, name='dense_layer_2', activation='relu'))\n",
        "model_5.add(Dropout(0.3))\n",
        "model_5.add(Dense(10, name='dense_layer_3', activation = 'softmax'))"
      ],
      "metadata": {
        "id": "wGxfPfMUv34b"
      },
      "execution_count": null,
      "outputs": []
    },
    {
      "cell_type": "code",
      "source": [
        "model_5.compile(optimizer='Adam',\n",
        "              loss='categorical_crossentropy',\n",
        "              metrics=['accuracy'])"
      ],
      "metadata": {
        "id": "zJYxCR3DwHGO"
      },
      "execution_count": null,
      "outputs": []
    },
    {
      "cell_type": "code",
      "source": [
        "log_dir = \"logs/fit/model5\"\n",
        "tensorboard_callback = tf.keras.callbacks.TensorBoard(log_dir=log_dir, histogram_freq=1)\n",
        "training = model_5.fit(X_train, Y_train, batch_size=256, epochs=30, validation_split=0.2,callbacks=tensorboard_callback)"
      ],
      "metadata": {
        "colab": {
          "base_uri": "https://localhost:8080/"
        },
        "id": "j_82yrjIwHyf",
        "outputId": "75c54896-8c2a-47d9-b113-f3e07eb4b35d"
      },
      "execution_count": null,
      "outputs": [
        {
          "output_type": "stream",
          "name": "stdout",
          "text": [
            "Epoch 1/30\n",
            "188/188 [==============================] - 8s 33ms/step - loss: 0.3639 - accuracy: 0.8905 - val_loss: 0.1493 - val_accuracy: 0.9552\n",
            "Epoch 2/30\n",
            "188/188 [==============================] - 7s 37ms/step - loss: 0.1394 - accuracy: 0.9575 - val_loss: 0.1045 - val_accuracy: 0.9672\n",
            "Epoch 3/30\n",
            "188/188 [==============================] - 6s 33ms/step - loss: 0.0977 - accuracy: 0.9697 - val_loss: 0.0873 - val_accuracy: 0.9740\n",
            "Epoch 4/30\n",
            "188/188 [==============================] - 7s 37ms/step - loss: 0.0784 - accuracy: 0.9757 - val_loss: 0.0825 - val_accuracy: 0.9758\n",
            "Epoch 5/30\n",
            "188/188 [==============================] - 6s 31ms/step - loss: 0.0633 - accuracy: 0.9798 - val_loss: 0.0831 - val_accuracy: 0.9760\n",
            "Epoch 6/30\n",
            "188/188 [==============================] - 7s 39ms/step - loss: 0.0516 - accuracy: 0.9836 - val_loss: 0.0795 - val_accuracy: 0.9768\n",
            "Epoch 7/30\n",
            "188/188 [==============================] - 6s 31ms/step - loss: 0.0441 - accuracy: 0.9852 - val_loss: 0.0779 - val_accuracy: 0.9779\n",
            "Epoch 8/30\n",
            "188/188 [==============================] - 7s 36ms/step - loss: 0.0394 - accuracy: 0.9869 - val_loss: 0.0752 - val_accuracy: 0.9802\n",
            "Epoch 9/30\n",
            "188/188 [==============================] - 6s 30ms/step - loss: 0.0357 - accuracy: 0.9881 - val_loss: 0.0786 - val_accuracy: 0.9787\n",
            "Epoch 10/30\n",
            "188/188 [==============================] - 7s 36ms/step - loss: 0.0301 - accuracy: 0.9898 - val_loss: 0.0824 - val_accuracy: 0.9783\n",
            "Epoch 11/30\n",
            "188/188 [==============================] - 6s 32ms/step - loss: 0.0291 - accuracy: 0.9899 - val_loss: 0.0805 - val_accuracy: 0.9793\n",
            "Epoch 12/30\n",
            "188/188 [==============================] - 6s 35ms/step - loss: 0.0270 - accuracy: 0.9909 - val_loss: 0.0831 - val_accuracy: 0.9789\n",
            "Epoch 13/30\n",
            "188/188 [==============================] - 6s 32ms/step - loss: 0.0246 - accuracy: 0.9917 - val_loss: 0.0770 - val_accuracy: 0.9808\n",
            "Epoch 14/30\n",
            "188/188 [==============================] - 6s 34ms/step - loss: 0.0230 - accuracy: 0.9925 - val_loss: 0.0782 - val_accuracy: 0.9808\n",
            "Epoch 15/30\n",
            "188/188 [==============================] - 6s 32ms/step - loss: 0.0223 - accuracy: 0.9924 - val_loss: 0.0804 - val_accuracy: 0.9801\n",
            "Epoch 16/30\n",
            "188/188 [==============================] - 7s 35ms/step - loss: 0.0221 - accuracy: 0.9925 - val_loss: 0.0751 - val_accuracy: 0.9824\n",
            "Epoch 17/30\n",
            "188/188 [==============================] - 6s 33ms/step - loss: 0.0178 - accuracy: 0.9938 - val_loss: 0.0880 - val_accuracy: 0.9803\n",
            "Epoch 18/30\n",
            "188/188 [==============================] - 7s 36ms/step - loss: 0.0205 - accuracy: 0.9931 - val_loss: 0.0800 - val_accuracy: 0.9814\n",
            "Epoch 19/30\n",
            "188/188 [==============================] - 6s 32ms/step - loss: 0.0179 - accuracy: 0.9941 - val_loss: 0.0833 - val_accuracy: 0.9817\n",
            "Epoch 20/30\n",
            "188/188 [==============================] - 7s 38ms/step - loss: 0.0148 - accuracy: 0.9949 - val_loss: 0.0845 - val_accuracy: 0.9823\n",
            "Epoch 21/30\n",
            "188/188 [==============================] - 6s 31ms/step - loss: 0.0170 - accuracy: 0.9941 - val_loss: 0.0961 - val_accuracy: 0.9789\n",
            "Epoch 22/30\n",
            "188/188 [==============================] - 6s 34ms/step - loss: 0.0198 - accuracy: 0.9930 - val_loss: 0.0798 - val_accuracy: 0.9837\n",
            "Epoch 23/30\n",
            "188/188 [==============================] - 6s 32ms/step - loss: 0.0187 - accuracy: 0.9935 - val_loss: 0.0874 - val_accuracy: 0.9803\n",
            "Epoch 24/30\n",
            "188/188 [==============================] - 7s 36ms/step - loss: 0.0149 - accuracy: 0.9952 - val_loss: 0.0883 - val_accuracy: 0.9812\n",
            "Epoch 25/30\n",
            "188/188 [==============================] - 6s 32ms/step - loss: 0.0139 - accuracy: 0.9953 - val_loss: 0.0848 - val_accuracy: 0.9812\n",
            "Epoch 26/30\n",
            "188/188 [==============================] - 7s 37ms/step - loss: 0.0159 - accuracy: 0.9948 - val_loss: 0.0889 - val_accuracy: 0.9817\n",
            "Epoch 27/30\n",
            "188/188 [==============================] - 6s 31ms/step - loss: 0.0140 - accuracy: 0.9950 - val_loss: 0.0856 - val_accuracy: 0.9827\n",
            "Epoch 28/30\n",
            "188/188 [==============================] - 7s 39ms/step - loss: 0.0104 - accuracy: 0.9962 - val_loss: 0.0936 - val_accuracy: 0.9827\n",
            "Epoch 29/30\n",
            "188/188 [==============================] - 6s 32ms/step - loss: 0.0153 - accuracy: 0.9946 - val_loss: 0.0968 - val_accuracy: 0.9796\n",
            "Epoch 30/30\n",
            "188/188 [==============================] - 7s 37ms/step - loss: 0.0142 - accuracy: 0.9956 - val_loss: 0.0902 - val_accuracy: 0.9832\n"
          ]
        }
      ]
    },
    {
      "cell_type": "code",
      "source": [
        "import matplotlib.pyplot as plt\n",
        "%matplotlib inline\n",
        "print(training.history.keys())\n",
        "plt.plot(training.history['accuracy'])\n",
        "plt.plot(training.history['val_accuracy'])\n",
        "plt.title('model accuracy')\n",
        "plt.ylabel('accuracy')\n",
        "plt.xlabel('epoch')\n",
        "plt.legend(['train', 'test'], loc='upper left')\n",
        "plt.show()\n",
        "plt.plot(training.history['loss'])\n",
        "plt.plot(training.history['val_loss'])\n",
        "plt.title('model loss')\n",
        "plt.ylabel('loss')\n",
        "plt.xlabel('epoch')\n",
        "plt.legend(['train', 'test'], loc='upper left')\n",
        "plt.show()"
      ],
      "metadata": {
        "colab": {
          "base_uri": "https://localhost:8080/",
          "height": 944
        },
        "id": "re2PCSgJwKSe",
        "outputId": "4c81ae3e-b389-424e-f349-677178cf76b4"
      },
      "execution_count": null,
      "outputs": [
        {
          "output_type": "stream",
          "name": "stdout",
          "text": [
            "dict_keys(['loss', 'accuracy', 'val_loss', 'val_accuracy'])\n"
          ]
        },
        {
          "output_type": "display_data",
          "data": {
            "text/plain": [
              "<Figure size 640x480 with 1 Axes>"
            ],
            "image/png": "[encoded data removed]"
          },
          "metadata": {}
        },
        {
          "output_type": "display_data",
          "data": {
            "text/plain": [
              "<Figure size 640x480 with 1 Axes>"
            ],
            "image/png": "[encoded data removed]"
          },
          "metadata": {}
        }
      ]
    },
    {
      "cell_type": "code",
      "source": [
        "test_loss, test_acc = model_5.evaluate(X_test, Y_test)\n",
        "print('Test accuracy:', test_acc)"
      ],
      "metadata": {
        "colab": {
          "base_uri": "https://localhost:8080/"
        },
        "id": "LJCJ6kZrxlFS",
        "outputId": "9e3c8407-c65b-488d-fb70-9b4d4145b03e"
      },
      "execution_count": null,
      "outputs": [
        {
          "output_type": "stream",
          "name": "stdout",
          "text": [
            "313/313 [==============================] - 1s 4ms/step - loss: 0.0860 - accuracy: 0.9829\n",
            "Test accuracy: 0.9829000234603882\n"
          ]
        }
      ]
    },
    {
      "cell_type": "code",
      "source": [
        "model_5.summary"
      ],
      "metadata": {
        "colab": {
          "base_uri": "https://localhost:8080/"
        },
        "id": "xczrY4QHxzOk",
        "outputId": "dbd97849-8164-421f-d105-a224bde4003e"
      },
      "execution_count": null,
      "outputs": [
        {
          "output_type": "execute_result",
          "data": {
            "text/plain": [
              "<bound method Model.summary of <keras.src.engine.sequential.Sequential object at 0x7ba63da321a0>>"
            ]
          },
          "metadata": {},
          "execution_count": 100
        }
      ]
    },
    {
      "cell_type": "code",
      "source": [
        "model_5.get_config()"
      ],
      "metadata": {
        "colab": {
          "base_uri": "https://localhost:8080/"
        },
        "id": "23jCseyGxzYg",
        "outputId": "91e3eb1c-7820-41aa-e242-ef3fd5843c7b"
      },
      "execution_count": null,
      "outputs": [
        {
          "output_type": "execute_result",
          "data": {
            "text/plain": [
              "{'name': 'sequential_13',\n",
              " 'layers': [{'module': 'keras.layers',\n",
              "   'class_name': 'InputLayer',\n",
              "   'config': {'batch_input_shape': (None, 784),\n",
              "    'dtype': 'float32',\n",
              "    'sparse': False,\n",
              "    'ragged': False,\n",
              "    'name': 'dense_layer_input'},\n",
              "   'registered_name': None},\n",
              "  {'module': 'keras.layers',\n",
              "   'class_name': 'Dense',\n",
              "   'config': {'name': 'dense_layer',\n",
              "    'trainable': True,\n",
              "    'dtype': 'float32',\n",
              "    'batch_input_shape': (None, 784),\n",
              "    'units': 512,\n",
              "    'activation': 'relu',\n",
              "    'use_bias': True,\n",
              "    'kernel_initializer': {'module': 'keras.initializers',\n",
              "     'class_name': 'GlorotUniform',\n",
              "     'config': {'seed': None},\n",
              "     'registered_name': None},\n",
              "    'bias_initializer': {'module': 'keras.initializers',\n",
              "     'class_name': 'Zeros',\n",
              "     'config': {},\n",
              "     'registered_name': None},\n",
              "    'kernel_regularizer': None,\n",
              "    'bias_regularizer': None,\n",
              "    'activity_regularizer': None,\n",
              "    'kernel_constraint': None,\n",
              "    'bias_constraint': None},\n",
              "   'registered_name': None,\n",
              "   'build_config': {'input_shape': (None, 784)}},\n",
              "  {'module': 'keras.layers',\n",
              "   'class_name': 'Dropout',\n",
              "   'config': {'name': 'dropout_8',\n",
              "    'trainable': True,\n",
              "    'dtype': 'float32',\n",
              "    'rate': 0.3,\n",
              "    'noise_shape': None,\n",
              "    'seed': None},\n",
              "   'registered_name': None,\n",
              "   'build_config': {'input_shape': (None, 512)}},\n",
              "  {'module': 'keras.layers',\n",
              "   'class_name': 'Dense',\n",
              "   'config': {'name': 'dense_layer_2',\n",
              "    'trainable': True,\n",
              "    'dtype': 'float32',\n",
              "    'units': 512,\n",
              "    'activation': 'relu',\n",
              "    'use_bias': True,\n",
              "    'kernel_initializer': {'module': 'keras.initializers',\n",
              "     'class_name': 'GlorotUniform',\n",
              "     'config': {'seed': None},\n",
              "     'registered_name': None},\n",
              "    'bias_initializer': {'module': 'keras.initializers',\n",
              "     'class_name': 'Zeros',\n",
              "     'config': {},\n",
              "     'registered_name': None},\n",
              "    'kernel_regularizer': None,\n",
              "    'bias_regularizer': None,\n",
              "    'activity_regularizer': None,\n",
              "    'kernel_constraint': None,\n",
              "    'bias_constraint': None},\n",
              "   'registered_name': None,\n",
              "   'build_config': {'input_shape': (None, 512)}},\n",
              "  {'module': 'keras.layers',\n",
              "   'class_name': 'Dropout',\n",
              "   'config': {'name': 'dropout_9',\n",
              "    'trainable': True,\n",
              "    'dtype': 'float32',\n",
              "    'rate': 0.3,\n",
              "    'noise_shape': None,\n",
              "    'seed': None},\n",
              "   'registered_name': None,\n",
              "   'build_config': {'input_shape': (None, 512)}},\n",
              "  {'module': 'keras.layers',\n",
              "   'class_name': 'Dense',\n",
              "   'config': {'name': 'dense_layer_3',\n",
              "    'trainable': True,\n",
              "    'dtype': 'float32',\n",
              "    'units': 10,\n",
              "    'activation': 'softmax',\n",
              "    'use_bias': True,\n",
              "    'kernel_initializer': {'module': 'keras.initializers',\n",
              "     'class_name': 'GlorotUniform',\n",
              "     'config': {'seed': None},\n",
              "     'registered_name': None},\n",
              "    'bias_initializer': {'module': 'keras.initializers',\n",
              "     'class_name': 'Zeros',\n",
              "     'config': {},\n",
              "     'registered_name': None},\n",
              "    'kernel_regularizer': None,\n",
              "    'bias_regularizer': None,\n",
              "    'activity_regularizer': None,\n",
              "    'kernel_constraint': None,\n",
              "    'bias_constraint': None},\n",
              "   'registered_name': None,\n",
              "   'build_config': {'input_shape': (None, 512)}}]}"
            ]
          },
          "metadata": {},
          "execution_count": 101
        }
      ]
    },
    {
      "cell_type": "code",
      "source": [
        "from tensorflow.keras.layers import Dense\n",
        "from tensorflow.keras.layers import Dropout\n",
        "\n",
        "model_6 = tf.keras.Sequential()\n",
        "N_hidden = 512\n",
        "model_6.add(Dense(N_hidden, name='dense_layer', input_shape=(784,), activation = 'relu'))\n",
        "model_6.add(Dropout(0.3))\n",
        "model_6.add(Dense(N_hidden, name='dense_layer_2', activation='relu'))\n",
        "model_6.add(Dropout(0.3))\n",
        "\n",
        "model_6.add(Dense(N_hidden, name='dense_layer_3', activation='relu'))\n",
        "model_6.add(Dropout(0.3))\n",
        "model_6.add(Dense(10, name='dense_layer_4', activation = 'softmax'))\n"
      ],
      "metadata": {
        "id": "ywaDcgKJx6AG"
      },
      "execution_count": null,
      "outputs": []
    },
    {
      "cell_type": "code",
      "source": [
        "model_6.compile(optimizer='Adam',\n",
        "              loss='categorical_crossentropy',\n",
        "              metrics=['accuracy'])"
      ],
      "metadata": {
        "id": "wfvPHpIoyMM5"
      },
      "execution_count": null,
      "outputs": []
    },
    {
      "cell_type": "code",
      "source": [
        "log_dir = \"logs/fit/model6\"\n",
        "tensorboard_callback = tf.keras.callbacks.TensorBoard(log_dir=log_dir, histogram_freq=1)\n",
        "training = model_6.fit(X_train, Y_train, batch_size=128, epochs=30, validation_split=0.2,callbacks=tensorboard_callback)"
      ],
      "metadata": {
        "colab": {
          "base_uri": "https://localhost:8080/"
        },
        "id": "5ggqPvn-yMtl",
        "outputId": "2a76b491-415c-4e62-fc4f-261ca98e563c"
      },
      "execution_count": null,
      "outputs": [
        {
          "output_type": "stream",
          "name": "stdout",
          "text": [
            "Epoch 1/30\n",
            "375/375 [==============================] - 13s 29ms/step - loss: 0.3301 - accuracy: 0.8991 - val_loss: 0.1230 - val_accuracy: 0.9632\n",
            "Epoch 2/30\n",
            "375/375 [==============================] - 11s 29ms/step - loss: 0.1413 - accuracy: 0.9569 - val_loss: 0.1114 - val_accuracy: 0.9674\n",
            "Epoch 3/30\n",
            "375/375 [==============================] - 11s 29ms/step - loss: 0.1031 - accuracy: 0.9692 - val_loss: 0.0880 - val_accuracy: 0.9730\n",
            "Epoch 4/30\n",
            "375/375 [==============================] - 12s 31ms/step - loss: 0.0821 - accuracy: 0.9746 - val_loss: 0.0904 - val_accuracy: 0.9745\n",
            "Epoch 5/30\n",
            "375/375 [==============================] - 12s 31ms/step - loss: 0.0691 - accuracy: 0.9779 - val_loss: 0.0854 - val_accuracy: 0.9762\n",
            "Epoch 6/30\n",
            "375/375 [==============================] - 11s 30ms/step - loss: 0.0650 - accuracy: 0.9799 - val_loss: 0.0733 - val_accuracy: 0.9793\n",
            "Epoch 7/30\n",
            "375/375 [==============================] - 11s 28ms/step - loss: 0.0573 - accuracy: 0.9819 - val_loss: 0.0809 - val_accuracy: 0.9772\n",
            "Epoch 8/30\n",
            "375/375 [==============================] - 11s 30ms/step - loss: 0.0525 - accuracy: 0.9837 - val_loss: 0.0792 - val_accuracy: 0.9784\n",
            "Epoch 9/30\n",
            "375/375 [==============================] - 12s 31ms/step - loss: 0.0493 - accuracy: 0.9847 - val_loss: 0.0825 - val_accuracy: 0.9787\n",
            "Epoch 10/30\n",
            "375/375 [==============================] - 11s 31ms/step - loss: 0.0437 - accuracy: 0.9858 - val_loss: 0.0827 - val_accuracy: 0.9795\n",
            "Epoch 11/30\n",
            "375/375 [==============================] - 13s 36ms/step - loss: 0.0424 - accuracy: 0.9871 - val_loss: 0.0768 - val_accuracy: 0.9789\n",
            "Epoch 12/30\n",
            "375/375 [==============================] - 11s 31ms/step - loss: 0.0368 - accuracy: 0.9885 - val_loss: 0.0974 - val_accuracy: 0.9764\n",
            "Epoch 13/30\n",
            "375/375 [==============================] - 11s 31ms/step - loss: 0.0395 - accuracy: 0.9880 - val_loss: 0.0868 - val_accuracy: 0.9782\n",
            "Epoch 14/30\n",
            "375/375 [==============================] - 12s 31ms/step - loss: 0.0357 - accuracy: 0.9889 - val_loss: 0.0874 - val_accuracy: 0.9782\n",
            "Epoch 15/30\n",
            "375/375 [==============================] - 10s 28ms/step - loss: 0.0347 - accuracy: 0.9895 - val_loss: 0.0881 - val_accuracy: 0.9787\n",
            "Epoch 16/30\n",
            "375/375 [==============================] - 11s 30ms/step - loss: 0.0305 - accuracy: 0.9904 - val_loss: 0.0824 - val_accuracy: 0.9817\n",
            "Epoch 17/30\n",
            "375/375 [==============================] - 12s 31ms/step - loss: 0.0314 - accuracy: 0.9900 - val_loss: 0.0874 - val_accuracy: 0.9802\n",
            "Epoch 18/30\n",
            "375/375 [==============================] - 12s 31ms/step - loss: 0.0299 - accuracy: 0.9908 - val_loss: 0.0841 - val_accuracy: 0.9812\n",
            "Epoch 19/30\n",
            "375/375 [==============================] - 12s 31ms/step - loss: 0.0280 - accuracy: 0.9915 - val_loss: 0.1019 - val_accuracy: 0.9800\n",
            "Epoch 20/30\n",
            "375/375 [==============================] - 12s 31ms/step - loss: 0.0304 - accuracy: 0.9904 - val_loss: 0.0828 - val_accuracy: 0.9809\n",
            "Epoch 21/30\n",
            "375/375 [==============================] - 11s 29ms/step - loss: 0.0279 - accuracy: 0.9914 - val_loss: 0.0955 - val_accuracy: 0.9805\n",
            "Epoch 22/30\n",
            "375/375 [==============================] - 11s 28ms/step - loss: 0.0267 - accuracy: 0.9918 - val_loss: 0.0888 - val_accuracy: 0.9818\n",
            "Epoch 23/30\n",
            "375/375 [==============================] - 11s 29ms/step - loss: 0.0230 - accuracy: 0.9929 - val_loss: 0.0932 - val_accuracy: 0.9797\n",
            "Epoch 24/30\n",
            "375/375 [==============================] - 12s 31ms/step - loss: 0.0274 - accuracy: 0.9918 - val_loss: 0.0902 - val_accuracy: 0.9811\n",
            "Epoch 25/30\n",
            "375/375 [==============================] - 11s 29ms/step - loss: 0.0235 - accuracy: 0.9929 - val_loss: 0.1014 - val_accuracy: 0.9793\n",
            "Epoch 26/30\n",
            "375/375 [==============================] - 12s 31ms/step - loss: 0.0236 - accuracy: 0.9928 - val_loss: 0.1070 - val_accuracy: 0.9791\n",
            "Epoch 27/30\n",
            "375/375 [==============================] - 12s 31ms/step - loss: 0.0268 - accuracy: 0.9925 - val_loss: 0.0891 - val_accuracy: 0.9806\n",
            "Epoch 28/30\n",
            "375/375 [==============================] - 12s 31ms/step - loss: 0.0223 - accuracy: 0.9933 - val_loss: 0.1040 - val_accuracy: 0.9818\n",
            "Epoch 29/30\n",
            "375/375 [==============================] - 11s 29ms/step - loss: 0.0221 - accuracy: 0.9931 - val_loss: 0.0915 - val_accuracy: 0.9818\n",
            "Epoch 30/30\n",
            "375/375 [==============================] - 11s 28ms/step - loss: 0.0221 - accuracy: 0.9937 - val_loss: 0.0943 - val_accuracy: 0.9813\n"
          ]
        }
      ]
    },
    {
      "cell_type": "code",
      "source": [
        "import matplotlib.pyplot as plt\n",
        "%matplotlib inline\n",
        "print(training.history.keys())\n",
        "plt.plot(training.history['accuracy'])\n",
        "plt.plot(training.history['val_accuracy'])\n",
        "plt.title('model accuracy')\n",
        "plt.ylabel('accuracy')\n",
        "plt.xlabel('epoch')\n",
        "plt.legend(['train', 'test'], loc='upper left')\n",
        "plt.show()\n",
        "plt.plot(training.history['loss'])\n",
        "plt.plot(training.history['val_loss'])\n",
        "plt.title('model loss')\n",
        "plt.ylabel('loss')\n",
        "plt.xlabel('epoch')\n",
        "plt.legend(['train', 'test'], loc='upper left')\n",
        "plt.show()"
      ],
      "metadata": {
        "colab": {
          "base_uri": "https://localhost:8080/",
          "height": 944
        },
        "id": "qukUp0Z1yOjJ",
        "outputId": "3652ea90-83ee-4b7e-d6c2-ee30b57f282a"
      },
      "execution_count": null,
      "outputs": [
        {
          "output_type": "stream",
          "name": "stdout",
          "text": [
            "dict_keys(['loss', 'accuracy', 'val_loss', 'val_accuracy'])\n"
          ]
        },
        {
          "output_type": "display_data",
          "data": {
            "text/plain": [
              "<Figure size 640x480 with 1 Axes>"
            ],
            "image/png": "[encoded data removed]"
          },
          "metadata": {}
        },
        {
          "output_type": "display_data",
          "data": {
            "text/plain": [
              "<Figure size 640x480 with 1 Axes>"
            ],
            "image/png": "[encoded data removed]"
          },
          "metadata": {}
        }
      ]
    },
    {
      "cell_type": "code",
      "source": [
        "test_loss, test_acc = model_6.evaluate(X_test, Y_test)\n",
        "print('Test accuracy:', test_acc)"
      ],
      "metadata": {
        "colab": {
          "base_uri": "https://localhost:8080/"
        },
        "id": "h45DLzSB0IJZ",
        "outputId": "27a3294d-95ff-4c16-fb17-5bd3207ecf7c"
      },
      "execution_count": null,
      "outputs": [
        {
          "output_type": "stream",
          "name": "stdout",
          "text": [
            "313/313 [==============================] - 2s 7ms/step - loss: 0.0868 - accuracy: 0.9814\n",
            "Test accuracy: 0.9814000129699707\n"
          ]
        }
      ]
    },
    {
      "cell_type": "code",
      "source": [
        "model_6.summary()"
      ],
      "metadata": {
        "colab": {
          "base_uri": "https://localhost:8080/"
        },
        "id": "-H_RZ-Zz0Lqr",
        "outputId": "107f55e6-b42f-4a2d-9049-058b3752b73d"
      },
      "execution_count": null,
      "outputs": [
        {
          "output_type": "stream",
          "name": "stdout",
          "text": [
            "Model: \"sequential_14\"\n",
            "_________________________________________________________________\n",
            " Layer (type)                Output Shape              Param #   \n",
            "=================================================================\n",
            " dense_layer (Dense)         (None, 512)               401920    \n",
            "                                                                 \n",
            " dropout_10 (Dropout)        (None, 512)               0         \n",
            "                                                                 \n",
            " dense_layer_2 (Dense)       (None, 512)               262656    \n",
            "                                                                 \n",
            " dropout_11 (Dropout)        (None, 512)               0         \n",
            "                                                                 \n",
            " dense_layer_3 (Dense)       (None, 512)               262656    \n",
            "                                                                 \n",
            " dropout_12 (Dropout)        (None, 512)               0         \n",
            "                                                                 \n",
            " dense_layer_4 (Dense)       (None, 10)                5130      \n",
            "                                                                 \n",
            "=================================================================\n",
            "Total params: 932362 (3.56 MB)\n",
            "Trainable params: 932362 (3.56 MB)\n",
            "Non-trainable params: 0 (0.00 Byte)\n",
            "_________________________________________________________________\n"
          ]
        }
      ]
    },
    {
      "cell_type": "code",
      "source": [
        "model_6.weights"
      ],
      "metadata": {
        "colab": {
          "base_uri": "https://localhost:8080/"
        },
        "id": "NtPbk0kg0NSw",
        "outputId": "e06f6588-49cd-4a07-ab07-63a84b8f3007"
      },
      "execution_count": null,
      "outputs": [
        {
          "output_type": "execute_result",
          "data": {
            "text/plain": [
              "[<tf.Variable 'dense_layer/kernel:0' shape=(784, 512) dtype=float32, numpy=\n",
              " array([[-0.01027029, -0.01964206,  0.04310661, ...,  0.04268382,\n",
              "          0.04482016,  0.04810873],\n",
              "        [-0.04012319,  0.00515904,  0.02273542, ...,  0.03025742,\n",
              "         -0.01577787,  0.05549552],\n",
              "        [-0.06292585, -0.05642913, -0.03293355, ...,  0.01864919,\n",
              "          0.02092241,  0.02758203],\n",
              "        ...,\n",
              "        [-0.04254025, -0.03445107, -0.06017206, ...,  0.00073698,\n",
              "          0.02824982,  0.00809853],\n",
              "        [ 0.00821085,  0.03187951, -0.03065491, ..., -0.00554796,\n",
              "          0.00466486,  0.05569301],\n",
              "        [-0.05474404,  0.00864398, -0.02070091, ..., -0.00339845,\n",
              "         -0.05219723, -0.04094583]], dtype=float32)>,\n",
              " <tf.Variable 'dense_layer/bias:0' shape=(512,) dtype=float32, numpy=\n",
              " array([-1.19398728e-01,  4.74143028e-02,  2.89880903e-03, -1.65118739e-01,\n",
              "        -9.03959200e-02, -7.06562772e-02, -1.17019951e-01,  4.01962269e-03,\n",
              "         4.86428700e-02, -2.27433760e-02,  4.90462407e-03, -9.85527993e-04,\n",
              "        -2.28250325e-02,  6.92752004e-02, -6.33959621e-02, -4.26418288e-03,\n",
              "        -1.21017853e-02, -8.04985166e-02,  1.84982792e-02, -1.38142094e-01,\n",
              "        -7.83841610e-02, -8.80862698e-02, -3.65532860e-02,  5.82684502e-02,\n",
              "        -1.13353372e-01, -3.09191644e-02, -2.19079806e-03,  3.33771035e-02,\n",
              "        -1.47468513e-02,  2.42895167e-03,  2.20300443e-02, -1.11987673e-01,\n",
              "        -2.02195272e-02,  5.82442954e-02,  3.46300453e-02, -7.15863332e-02,\n",
              "        -5.56932278e-02, -5.98926358e-02, -2.22896282e-02, -2.94811483e-02,\n",
              "        -8.32256302e-02,  2.75917538e-02,  4.59507713e-03, -6.82557896e-02,\n",
              "         8.13857012e-04, -1.55912787e-02, -7.12554753e-02, -1.04052857e-01,\n",
              "        -1.36837065e-01, -9.22100618e-03,  2.80087590e-02, -4.40004505e-02,\n",
              "        -6.42699227e-02,  8.77839476e-02, -1.31652758e-01, -1.04133144e-01,\n",
              "        -1.40353050e-02, -3.53947990e-02,  6.75393716e-02, -2.10369285e-02,\n",
              "        -9.97905619e-03, -1.17151082e-01,  1.42857106e-02, -2.92862039e-02,\n",
              "        -1.36745963e-02, -2.88648382e-02, -3.25324945e-02,  6.04773983e-02,\n",
              "        -1.14291580e-02, -4.56511229e-02, -2.93259583e-02, -2.63806488e-02,\n",
              "        -7.63355270e-02, -1.65584739e-02, -2.24929210e-02, -4.50694039e-02,\n",
              "        -1.80419870e-02, -5.53548522e-02,  2.16100439e-02, -6.15673959e-02,\n",
              "        -3.69101274e-03, -8.62950459e-02, -6.71038171e-03, -4.03230153e-02,\n",
              "         8.55580904e-03,  5.13162389e-02, -5.84138781e-02, -6.53177872e-02,\n",
              "         3.95599082e-02, -2.44658247e-01, -6.70615509e-02, -4.12331596e-02,\n",
              "        -3.41081955e-02, -2.10877862e-02, -6.84248805e-02,  4.16525733e-03,\n",
              "         2.38683224e-02,  1.81521848e-02, -3.58291939e-02,  4.05749753e-02,\n",
              "        -7.70449713e-02,  3.11134905e-02, -1.05533563e-01, -1.25590619e-02,\n",
              "        -8.11816528e-02, -1.24671258e-01,  3.92810665e-02, -5.88761969e-03,\n",
              "        -2.36899983e-02, -4.47342359e-02, -1.24774665e-01, -6.59648851e-02,\n",
              "         6.34591747e-03,  4.85792309e-02,  2.20775120e-02, -1.07104126e-02,\n",
              "         3.58263403e-02, -4.80717272e-02,  2.25965828e-02,  2.19185445e-02,\n",
              "        -9.80353132e-02, -7.08210617e-02,  3.83687974e-03, -7.04736710e-02,\n",
              "        -4.18705046e-02, -4.37802747e-02, -4.69085574e-02, -2.32500304e-02,\n",
              "        -1.19281754e-01, -7.20216557e-02,  2.76157185e-02, -9.12244990e-02,\n",
              "         2.17253584e-02, -2.66357362e-02, -4.51614410e-02, -7.45003074e-02,\n",
              "         7.56717399e-02, -3.79307158e-02,  4.98008654e-02, -4.51420508e-02,\n",
              "        -1.92943141e-02, -1.42611757e-01, -5.95726445e-02, -3.05105802e-02,\n",
              "        -3.09264078e-03, -1.52313754e-01,  7.21290410e-02, -4.35898080e-02,\n",
              "         1.64930020e-02, -4.49175388e-02, -1.88186336e-02, -5.77321090e-02,\n",
              "        -1.33553781e-02, -6.85716718e-02, -7.92296678e-02, -3.29340920e-02,\n",
              "         3.09140123e-02, -8.13490823e-02, -3.91801037e-02, -4.67371531e-02,\n",
              "         1.60944179e-01,  1.69455428e-02,  3.96051444e-02, -2.10851841e-02,\n",
              "         2.44878493e-02, -1.55902296e-01,  2.46031098e-02, -1.83365513e-02,\n",
              "        -2.62884535e-02, -6.56875670e-02, -4.50461470e-02, -5.16103394e-03,\n",
              "         6.40963838e-02, -4.90772873e-02,  6.26947731e-02,  1.03891417e-02,\n",
              "        -2.53541712e-02,  4.69658338e-02,  2.35071927e-02,  6.88986033e-02,\n",
              "        -3.04859821e-02, -1.15241155e-01,  1.76308639e-02, -1.95232835e-02,\n",
              "        -1.44505337e-01, -1.07462823e-01, -1.00865044e-01,  6.45562783e-02,\n",
              "        -1.50054708e-01, -1.29790172e-01, -8.77157673e-02, -9.74559411e-02,\n",
              "         1.03068501e-02, -4.34788242e-02,  3.19068581e-02,  8.01216513e-02,\n",
              "         4.57627326e-03,  4.04424295e-02, -1.09663576e-01,  1.05598178e-02,\n",
              "        -3.67880054e-03,  1.20579146e-01,  4.55707461e-02, -4.43426408e-02,\n",
              "        -2.02062749e-03,  5.86173050e-02, -6.48163557e-02, -1.34040356e-01,\n",
              "        -8.34761634e-02, -1.91474147e-02, -1.03386983e-01, -5.06416969e-02,\n",
              "        -1.50189679e-02, -5.39639313e-03,  4.35408344e-03, -6.74589872e-02,\n",
              "        -8.04042816e-02, -9.52628329e-02, -2.36539505e-02, -7.54524022e-02,\n",
              "        -9.00347680e-02,  6.90146163e-03, -1.20910769e-02,  9.19958577e-03,\n",
              "         1.55725274e-02, -4.90089580e-02,  4.79125738e-04,  5.69687784e-02,\n",
              "        -3.30065116e-02, -3.24864499e-02,  6.24116436e-02,  6.78083533e-03,\n",
              "        -3.87217961e-02,  7.64575647e-03, -7.49462023e-02, -8.59377608e-02,\n",
              "        -3.46029848e-02, -2.23681908e-02, -1.06437087e-01, -6.78549148e-03,\n",
              "        -3.66779268e-02,  3.79565321e-02, -1.62279174e-01, -8.43713060e-02,\n",
              "        -6.88310415e-02,  3.42025459e-02, -3.90870050e-02, -2.46168189e-02,\n",
              "         1.76488142e-02,  1.26286375e-03, -6.48243306e-03,  7.64536113e-02,\n",
              "         1.78711973e-02,  8.14477075e-03,  7.02386629e-03, -5.53396009e-02,\n",
              "         5.13182841e-02, -1.45185217e-01, -1.60968211e-02,  6.96964189e-02,\n",
              "        -9.23726633e-02, -8.38918760e-02, -1.06890865e-01, -4.25939374e-02,\n",
              "        -3.24128531e-02, -6.15175329e-02, -7.83675835e-02, -4.99553084e-02,\n",
              "        -7.71723241e-02, -1.11207627e-02, -9.45332088e-03,  1.92358121e-02,\n",
              "        -1.49068356e-01, -8.82237777e-02, -4.92652394e-02,  3.19801713e-03,\n",
              "        -6.42972216e-02,  4.77636866e-02, -6.26893044e-02, -1.15137864e-02,\n",
              "         1.18783556e-01, -2.56230254e-02,  3.29726413e-02, -1.62134562e-02,\n",
              "        -9.17360559e-02,  4.38330360e-02, -6.76274374e-02, -7.20542446e-02,\n",
              "        -4.22679558e-02,  1.60307419e-02, -5.14492765e-03,  3.39557230e-02,\n",
              "         9.70068872e-02, -2.36631520e-02, -1.49971887e-01, -2.86660884e-02,\n",
              "        -7.76626170e-02, -6.23305179e-02, -4.39345464e-02,  5.99476099e-02,\n",
              "        -3.91340181e-02, -5.94537817e-02, -1.12145782e-01, -8.09074119e-02,\n",
              "        -4.38549370e-02,  2.56219637e-02, -6.49387622e-03, -4.18505594e-02,\n",
              "        -1.19311675e-01, -7.91673455e-03, -5.00402339e-02, -1.65245771e-01,\n",
              "        -1.04574189e-01, -1.25191078e-01, -1.13881389e-02,  6.52535856e-02,\n",
              "         4.14793082e-02, -2.70038787e-02,  1.82455033e-02, -1.61058381e-02,\n",
              "        -5.56720756e-02, -9.91227925e-02,  5.25707267e-02, -5.64183667e-02,\n",
              "        -2.74190381e-02, -5.64287826e-02,  1.87284574e-02,  1.77546348e-02,\n",
              "         1.85092445e-02,  8.37686658e-03,  5.30281402e-02, -3.57352160e-02,\n",
              "         1.61963154e-03,  3.69849452e-03, -1.10655604e-02, -5.59447333e-02,\n",
              "         4.77705803e-03, -8.69742930e-02, -6.43326938e-02,  5.38350530e-02,\n",
              "        -1.14779897e-01, -3.79993916e-02,  1.70979630e-02, -8.64896700e-02,\n",
              "         6.88200369e-02,  1.04839373e-02,  1.59811284e-02,  6.46632984e-02,\n",
              "         8.99994895e-02, -1.79881960e-01, -6.67869598e-02, -3.86977904e-02,\n",
              "        -7.03660548e-02,  3.73876244e-02, -3.55360024e-02, -1.48847485e-02,\n",
              "        -1.44106206e-02, -3.12109161e-02,  4.79397587e-02, -1.67715885e-02,\n",
              "        -8.41300339e-02, -1.12595186e-02,  1.77245047e-02, -1.28786922e-01,\n",
              "        -8.15294459e-02, -1.19142726e-01, -7.83671886e-02,  3.95710506e-02,\n",
              "        -7.28683323e-02,  8.98331404e-02, -6.57461807e-02,  8.62064436e-02,\n",
              "        -4.76640500e-02,  1.98673867e-02,  6.52196407e-02, -4.78443094e-02,\n",
              "         2.64150705e-02, -5.33204973e-02,  1.55167328e-02,  7.13971034e-02,\n",
              "         1.03329699e-02, -1.72809865e-02,  7.03372806e-02, -1.25899568e-01,\n",
              "        -7.19920248e-02, -2.17688910e-04, -9.21006277e-02,  2.31142454e-02,\n",
              "         7.81078339e-02, -9.48872864e-02, -2.21712794e-02, -3.34677957e-02,\n",
              "        -5.40709235e-02, -9.89856897e-04,  1.08200600e-02, -8.18499923e-02,\n",
              "        -5.87080419e-02,  1.70858484e-02, -3.46520692e-02,  7.57401288e-02,\n",
              "         2.39654146e-02, -7.71718472e-02, -1.11681381e-02, -7.80634955e-02,\n",
              "        -7.67732561e-02, -2.81839725e-02, -7.84563199e-02, -3.70053425e-02,\n",
              "        -4.76159677e-02,  3.81453224e-02, -9.18507874e-02, -5.73047735e-02,\n",
              "         3.34672667e-02, -3.70896347e-02, -3.58922444e-02,  2.68682856e-02,\n",
              "        -4.56981026e-02,  1.21153243e-01, -3.40999961e-02, -1.46835428e-02,\n",
              "        -1.35247689e-02, -1.38499677e-01, -1.95084270e-02, -1.03224041e-02,\n",
              "        -3.99664827e-02,  3.58103141e-02, -2.16718968e-02, -7.13233743e-03,\n",
              "        -2.91096028e-02,  4.55580428e-02, -2.22115349e-02,  1.55107724e-02,\n",
              "        -5.91747649e-02, -7.33589455e-02,  4.80867475e-02, -1.06186615e-02,\n",
              "        -6.33451417e-02, -3.09217833e-02, -2.53678001e-02, -5.88818118e-02,\n",
              "         1.07309138e-02, -9.16507691e-02, -7.13194981e-02,  4.62092459e-02,\n",
              "        -1.21345103e-01, -2.21147165e-02,  2.29740515e-02, -1.35640185e-02,\n",
              "        -1.81070268e-02, -1.63918603e-02, -1.50698856e-01,  4.52346429e-02,\n",
              "        -6.29227236e-03, -4.65914756e-02,  7.38715678e-02,  2.36762110e-02,\n",
              "         1.06393255e-03, -8.34616087e-03, -1.89498812e-02,  5.18800318e-03,\n",
              "        -1.47114083e-01, -4.23341468e-02, -1.36102876e-02,  4.86455020e-03,\n",
              "         6.21564314e-02, -1.23126589e-01, -6.91415519e-02,  3.44436094e-02,\n",
              "        -6.33907616e-02, -4.85902913e-02, -3.84818278e-02, -1.35877073e-01,\n",
              "        -3.78337801e-02, -8.17581788e-02, -1.13877289e-01,  8.39349329e-02,\n",
              "         2.87993103e-02,  2.25474555e-02, -1.77685097e-02, -8.15445781e-02,\n",
              "        -8.27577189e-02, -1.96533534e-03, -8.46962482e-02, -4.35410254e-02,\n",
              "        -9.46207270e-02,  1.05845459e-01,  4.42858674e-02, -6.30547404e-02,\n",
              "        -1.10656925e-01, -6.90349936e-03, -5.42129129e-02, -1.20925263e-01,\n",
              "        -2.03733984e-02, -1.09817209e-02, -4.79490310e-02,  4.79074195e-02,\n",
              "         8.57730862e-03, -3.38349305e-02, -5.90230199e-03,  5.93458451e-02,\n",
              "        -5.84408045e-02,  7.57664144e-02, -1.90293677e-02, -1.81053817e-01,\n",
              "        -3.71416174e-02, -9.82593596e-02,  2.96223536e-02, -2.78168544e-03,\n",
              "         3.33859678e-03,  1.20931203e-02, -3.60020772e-02, -6.05965871e-03],\n",
              "       dtype=float32)>,\n",
              " <tf.Variable 'dense_layer_2/kernel:0' shape=(512, 512) dtype=float32, numpy=\n",
              " array([[-0.0674929 ,  0.02969829,  0.02998551, ..., -0.11040762,\n",
              "          0.02267837,  0.02594451],\n",
              "        [-0.07963029, -0.09544156, -0.09357681, ..., -0.03731983,\n",
              "         -0.02659363,  0.09578609],\n",
              "        [-0.1269116 , -0.01489501, -0.00263406, ..., -0.13561559,\n",
              "         -0.08123181, -0.00325655],\n",
              "        ...,\n",
              "        [-0.21032318, -0.06505042, -0.02847494, ..., -0.0462586 ,\n",
              "          0.02731326,  0.01468199],\n",
              "        [ 0.07296366, -0.06132831, -0.04455625, ..., -0.1700647 ,\n",
              "         -0.05687704, -0.06499417],\n",
              "        [ 0.08826979, -0.03273841,  0.13760044, ..., -0.05104119,\n",
              "         -0.09919623, -0.03278585]], dtype=float32)>,\n",
              " <tf.Variable 'dense_layer_2/bias:0' shape=(512,) dtype=float32, numpy=\n",
              " array([-1.16833121e-01, -1.59892975e-03, -5.49149550e-02, -9.73441675e-02,\n",
              "        -1.30014285e-01, -4.32534665e-02, -2.35266462e-01,  3.33667994e-02,\n",
              "         5.02473153e-02, -1.41736478e-01, -1.46437064e-01, -1.45368837e-02,\n",
              "         9.01330933e-02, -3.01339813e-02, -1.59487084e-01, -1.24650709e-01,\n",
              "        -8.20021629e-02,  2.30125021e-02, -6.65955245e-02,  8.62408951e-02,\n",
              "        -1.28589034e-01,  1.01978332e-01, -3.31045128e-02, -1.33725911e-01,\n",
              "        -6.68579042e-02, -7.77793303e-02, -1.75153255e-01, -4.04348150e-02,\n",
              "        -1.54789671e-01, -1.28178358e-01, -7.73808882e-02, -6.07489273e-02,\n",
              "        -4.98085916e-02, -3.95029038e-02,  1.26252128e-02, -2.02023789e-01,\n",
              "         4.13462566e-03,  1.34970173e-01, -2.07693279e-01,  1.84400588e-01,\n",
              "         1.75214037e-02, -6.09273352e-02, -3.00613381e-02, -1.67746041e-02,\n",
              "         3.04094497e-02, -1.62739471e-01, -3.79549749e-02, -1.17325991e-01,\n",
              "        -1.26046047e-01, -1.56288355e-04, -6.94041001e-03, -5.17201647e-02,\n",
              "        -4.63359579e-02,  8.36730599e-02,  1.76522180e-01,  1.89001188e-01,\n",
              "         1.77893758e-01,  1.65702969e-01, -4.77193147e-02, -1.25300482e-01,\n",
              "        -1.25048831e-01, -2.00987622e-01, -7.35697150e-02,  6.37810975e-02,\n",
              "         2.84606516e-02,  4.18523550e-02,  2.01474667e-01, -9.27741379e-02,\n",
              "        -1.13889150e-01, -1.09614097e-01, -2.42049679e-01, -1.45966232e-01,\n",
              "        -1.40449420e-01, -4.60008122e-02, -1.16501808e-01, -2.27758177e-02,\n",
              "         1.13212034e-01, -1.56436473e-01, -1.99860290e-01,  4.78329696e-02,\n",
              "         7.57827386e-02,  2.03747928e-01, -2.72470206e-01, -1.65154897e-02,\n",
              "        -1.55489385e-01,  2.27733217e-02, -1.76028144e-02, -1.00804582e-01,\n",
              "        -1.45536855e-01, -8.38458247e-04, -1.33462578e-01, -6.85183033e-02,\n",
              "        -2.50790548e-02, -1.67773634e-01, -1.89805076e-01, -4.41612042e-02,\n",
              "        -2.16998551e-02,  8.71732831e-02,  3.10834367e-02, -2.52196155e-02,\n",
              "        -1.70012996e-01, -1.27808303e-02, -1.47657409e-01,  4.99278493e-02,\n",
              "        -1.12918958e-01, -9.51566696e-02,  1.52153209e-01, -2.32528672e-01,\n",
              "         9.72577110e-02, -1.10219419e-01, -1.63211823e-01,  2.12297663e-02,\n",
              "         1.06100470e-01,  4.62335609e-02, -4.71677147e-02, -2.33457834e-02,\n",
              "         5.54016139e-03, -1.31802866e-02, -6.04132712e-02, -1.60262138e-01,\n",
              "        -1.37062311e-01,  7.12872297e-02,  1.72823131e-01, -6.72141239e-02,\n",
              "         3.94760706e-02,  1.81770921e-02, -5.41216098e-02, -1.20196424e-01,\n",
              "        -7.53867850e-02, -8.31734762e-02, -1.06105849e-01, -5.22404462e-02,\n",
              "        -3.73525396e-02,  2.07819909e-01, -4.98268493e-02, -2.16379501e-02,\n",
              "        -2.61795726e-02, -6.52411953e-02, -8.56207404e-03, -3.87359187e-02,\n",
              "        -5.91242649e-02,  1.93252489e-02,  1.78844258e-01, -8.06165487e-02,\n",
              "        -1.03496388e-02,  1.66176800e-02, -1.03054635e-01, -1.88199401e-01,\n",
              "         1.17467478e-01, -8.96754488e-02,  5.20583987e-02,  7.75803998e-02,\n",
              "        -1.16620123e-01,  1.54378250e-01,  1.01980614e-02,  1.01368695e-01,\n",
              "        -1.09575421e-01, -3.91744748e-02,  1.40466571e-01, -9.74061340e-02,\n",
              "         1.89896021e-02, -4.99290302e-02, -1.81501701e-01, -2.75491457e-02,\n",
              "         3.65348682e-02, -1.46936730e-01,  1.34513304e-01,  2.76458234e-01,\n",
              "        -1.09113358e-01, -2.49204263e-02, -1.24210082e-01,  4.70931754e-02,\n",
              "        -6.75335974e-02,  2.13584334e-01, -6.83417916e-02, -1.68411478e-01,\n",
              "        -3.11016180e-02, -2.77995528e-03,  2.28409916e-02, -5.37921935e-02,\n",
              "        -2.07666919e-01, -1.19661935e-01, -1.25781313e-01,  1.96233299e-03,\n",
              "        -1.13999069e-01, -1.72607139e-01,  1.00837886e-01,  2.94893589e-02,\n",
              "        -1.25473887e-01,  5.28844586e-03,  3.82465571e-02, -1.65424883e-01,\n",
              "        -2.23513823e-02, -1.00611329e-01,  2.85564680e-02, -4.32694033e-02,\n",
              "         1.08580172e-01, -6.79362267e-02, -1.64117992e-01, -3.10669150e-02,\n",
              "        -4.19123098e-02, -2.12584630e-01,  1.10027298e-01, -2.11907327e-01,\n",
              "         2.45188829e-02, -6.46518245e-02,  1.63015977e-01, -7.99992383e-02,\n",
              "        -1.82714447e-01, -2.09253684e-01,  4.82642911e-02,  1.04159981e-01,\n",
              "         1.16653182e-01, -1.21530406e-02,  1.09067366e-01, -1.00575604e-01,\n",
              "        -1.98795602e-01, -1.53718755e-01,  8.26948211e-02,  2.19673365e-02,\n",
              "        -9.70865637e-02, -5.09550273e-02,  5.79568632e-02,  4.65762196e-03,\n",
              "         9.68495831e-02, -1.24390498e-01, -1.43561075e-02, -9.54017490e-02,\n",
              "        -4.44087572e-02, -1.74534231e-01,  1.11768037e-01, -1.64940134e-01,\n",
              "         1.21197868e-02, -2.62289464e-01, -1.46382436e-01, -3.64929251e-02,\n",
              "        -1.38493314e-01, -3.09183300e-02, -6.78017437e-02,  1.57080382e-01,\n",
              "        -3.70812267e-02, -6.45108446e-02,  1.65954694e-01, -3.64104025e-02,\n",
              "        -3.86549272e-02, -3.94053869e-02, -6.47119293e-03,  2.56821699e-02,\n",
              "        -1.52788520e-01, -1.78231567e-01, -1.45809382e-01, -1.04945622e-01,\n",
              "         7.52996057e-02, -2.63157487e-02, -9.70705971e-02, -8.23270679e-02,\n",
              "         1.69077620e-01, -6.31766319e-02, -8.23288399e-04, -4.61336710e-02,\n",
              "         9.70394909e-02,  5.59850782e-02, -4.30246070e-02, -6.43774793e-02,\n",
              "        -1.30609810e-01, -2.53913343e-01, -1.07952878e-01, -9.49004665e-02,\n",
              "        -3.32892090e-02,  1.56844661e-01, -1.59266159e-01,  1.99957773e-01,\n",
              "        -1.27429307e-01, -1.29056528e-01, -1.41627431e-01,  8.23560804e-02,\n",
              "        -9.01347846e-02, -1.09111898e-01, -1.29488319e-01,  2.09261123e-02,\n",
              "        -5.62993772e-02, -1.79868832e-01, -7.96056464e-02, -8.67184848e-02,\n",
              "        -4.06447724e-02, -2.80479249e-02,  1.58666894e-02,  8.62283856e-02,\n",
              "        -2.91355196e-02,  1.46642923e-02, -2.18550369e-01,  1.22126676e-01,\n",
              "        -5.42759411e-02, -3.74171771e-02,  1.66333616e-01,  9.02931467e-02,\n",
              "        -1.53457552e-01,  8.55274573e-02,  9.78258159e-03, -6.23213500e-02,\n",
              "         1.81571916e-02,  4.98333313e-02, -4.62618545e-02, -6.01625480e-02,\n",
              "        -7.47188926e-02,  1.98108479e-02,  4.15296108e-02, -9.94438455e-02,\n",
              "         2.34402586e-02, -8.64092335e-02, -4.78562638e-02, -1.06929444e-01,\n",
              "        -1.62385367e-02, -1.31903244e-02, -2.24933191e-03,  2.86523183e-03,\n",
              "        -1.96356326e-01, -1.27917707e-01, -1.03690840e-01, -4.53930721e-02,\n",
              "         2.80140992e-02,  1.55657134e-03,  6.48031682e-02, -1.68612942e-01,\n",
              "         3.76002863e-03, -1.07782997e-01, -4.77667563e-02, -1.38604283e-01,\n",
              "         5.89602143e-02, -7.71972463e-02,  7.66667649e-02, -4.90742037e-03,\n",
              "         5.99048473e-03, -1.42371312e-01, -1.54644385e-01,  1.72110632e-01,\n",
              "        -8.05082396e-02, -1.78967919e-02,  5.14410548e-02,  1.07093878e-01,\n",
              "        -1.28462106e-01, -6.00548498e-02, -5.52105866e-02,  5.38120829e-02,\n",
              "         2.07561757e-02,  3.48055502e-03,  4.48191985e-02, -1.11522429e-01,\n",
              "        -8.44283327e-02, -8.29742774e-02, -6.49015754e-02, -4.14193906e-02,\n",
              "        -1.20041251e-01, -5.60042784e-02, -6.28402755e-02, -2.05535814e-02,\n",
              "        -1.50447696e-01,  1.15996050e-02,  2.77828202e-02, -1.41405180e-01,\n",
              "        -5.67251369e-02, -1.60761595e-01, -1.99937567e-01,  1.83133148e-02,\n",
              "        -2.64486432e-01, -8.98727402e-02, -1.93506584e-01, -9.44147706e-02,\n",
              "         3.54439951e-02,  9.44431778e-03, -1.43744141e-01, -1.52716815e-01,\n",
              "        -1.76398128e-01,  5.34506291e-02, -5.90652153e-02,  1.71934381e-01,\n",
              "        -9.41736549e-02, -5.78183681e-02, -9.24450234e-02,  1.57727748e-02,\n",
              "         5.30859791e-02, -6.45200461e-02, -1.56765908e-01,  1.01016417e-01,\n",
              "        -1.31108910e-01,  1.42817721e-01, -1.04629628e-01, -1.54516473e-01,\n",
              "         2.31655594e-02, -1.37292162e-01, -8.05735961e-02, -3.55384387e-02,\n",
              "         6.56549260e-02, -1.01631165e-01, -8.03166926e-02, -8.26491863e-02,\n",
              "         5.48096076e-02, -1.40633121e-01,  7.57121071e-02, -1.52199730e-01,\n",
              "        -2.89713591e-02, -1.47879556e-01, -1.36311457e-01, -7.09127262e-02,\n",
              "         2.20098421e-02,  2.55086981e-02, -5.74706756e-02, -9.24636424e-02,\n",
              "         1.05077155e-01, -2.63118178e-01, -4.07134034e-02, -5.86082265e-02,\n",
              "        -1.08998127e-01,  1.14847615e-01,  1.07351869e-01, -1.01655453e-01,\n",
              "        -1.52044117e-01, -6.11904077e-02, -5.72508425e-02, -5.13844863e-02,\n",
              "        -1.11687392e-01,  3.14678140e-02,  1.26886487e-01,  2.08561286e-01,\n",
              "        -1.13152400e-01, -1.38332531e-01,  2.19882667e-01, -1.19656228e-01,\n",
              "        -6.14533685e-02, -1.15329782e-02, -7.25334138e-02,  3.39376591e-02,\n",
              "         1.33056164e-01, -4.65822816e-02,  2.33516786e-02, -5.52639700e-02,\n",
              "         2.93969847e-02, -1.11476153e-01, -4.95145805e-02, -2.40592891e-03,\n",
              "        -2.41801888e-03,  5.69257922e-02,  3.19708884e-02, -1.82352975e-01,\n",
              "        -7.20424131e-02,  1.38810053e-01, -7.19023570e-02, -2.31527522e-01,\n",
              "         2.04069894e-02, -2.88527459e-02,  1.29499495e-01, -5.44831567e-02,\n",
              "         1.27349854e-01, -3.52767594e-02,  4.83855279e-03,  4.02279980e-02,\n",
              "        -6.23978116e-02,  1.19381528e-02,  8.58510658e-02,  3.91532257e-02,\n",
              "        -1.89857885e-01, -6.28667548e-02, -9.62706581e-02, -1.95507109e-01,\n",
              "        -7.84271061e-02,  1.33995205e-01, -1.29980415e-01, -5.19439653e-02,\n",
              "         1.66351050e-01, -1.84627086e-01,  3.91696580e-02, -1.92678794e-02,\n",
              "        -1.85183436e-01, -1.54547736e-01, -1.84614554e-01, -5.21192774e-02,\n",
              "        -1.21980242e-01, -9.95876119e-02,  1.11013189e-01, -7.13819414e-02,\n",
              "         1.13833835e-02, -1.04149297e-01,  1.20252855e-01, -1.68475807e-01,\n",
              "         1.35021042e-02,  1.85337383e-02, -3.83980311e-02, -1.38794035e-01,\n",
              "         5.92855588e-02, -1.31546751e-01,  1.23745844e-01,  8.80355164e-02,\n",
              "        -6.40522763e-02, -1.63346797e-01, -1.83937326e-01, -9.59575698e-02,\n",
              "         4.74599116e-02,  2.24466268e-02, -5.42663559e-02, -8.96271095e-02,\n",
              "        -1.47922471e-01, -1.04678888e-02, -1.26572415e-01,  7.87157938e-02,\n",
              "        -1.10776350e-01,  6.45752102e-02,  1.14189371e-01,  1.76428989e-01,\n",
              "        -1.86063245e-01, -1.54762372e-01, -1.20449334e-01,  2.30835825e-02],\n",
              "       dtype=float32)>,\n",
              " <tf.Variable 'dense_layer_3/kernel:0' shape=(512, 512) dtype=float32, numpy=\n",
              " array([[ 0.05350578, -0.14794858,  0.07733855, ..., -0.1926936 ,\n",
              "          0.0510499 ,  0.0477453 ],\n",
              "        [-0.13075182,  0.02288142,  0.19770712, ...,  0.04609921,\n",
              "         -0.09111051, -0.12029206],\n",
              "        [-0.14639477, -0.05104367, -0.06193142, ...,  0.1720951 ,\n",
              "         -0.05736092, -0.13082954],\n",
              "        ...,\n",
              "        [ 0.14154634, -0.01364392,  0.13003291, ..., -0.04241141,\n",
              "         -0.03845365,  0.06100116],\n",
              "        [-0.02623537, -0.09810437, -0.01861594, ..., -0.07877114,\n",
              "         -0.00875479,  0.03233689],\n",
              "        [-0.09637847,  0.05835847, -0.17449437, ..., -0.01797804,\n",
              "          0.02433931,  0.03097462]], dtype=float32)>,\n",
              " <tf.Variable 'dense_layer_3/bias:0' shape=(512,) dtype=float32, numpy=\n",
              " array([-8.42696056e-02,  6.61165863e-02, -6.29449263e-02, -4.76072729e-02,\n",
              "        -4.72029708e-02,  3.13773267e-02, -1.13745064e-01, -5.93614727e-02,\n",
              "        -2.83279587e-02, -8.66150111e-02, -9.68710557e-02,  1.06210120e-01,\n",
              "         8.76161605e-02,  1.58135951e-01, -2.01934669e-02, -5.11042140e-02,\n",
              "         5.29035814e-02,  6.69293478e-02, -9.83525533e-04,  4.97581437e-02,\n",
              "        -1.23602442e-01,  1.44661725e-01,  4.89733703e-02, -1.05279028e-01,\n",
              "        -6.84215650e-02, -1.69709418e-02, -1.40230730e-02,  5.64209484e-02,\n",
              "        -5.53253144e-02, -9.63095203e-02,  1.52842060e-01,  1.48937508e-01,\n",
              "         2.26882815e-01,  1.60034612e-01,  1.90852165e-01, -3.26560214e-02,\n",
              "        -2.32436508e-02,  5.46483248e-02,  1.58811539e-01,  7.41482154e-02,\n",
              "         1.04591370e-01, -1.12994082e-01,  5.47237834e-03,  3.67026255e-02,\n",
              "        -4.51716296e-02,  4.35681269e-03,  2.80952863e-02,  4.27650735e-02,\n",
              "        -1.67450327e-02,  2.43108243e-01,  1.64848194e-01,  3.89205897e-03,\n",
              "        -7.12736025e-02, -7.56145343e-02,  1.51887164e-01,  1.25637412e-01,\n",
              "         7.32673481e-02, -7.55540729e-02,  1.14738055e-01,  9.25661847e-02,\n",
              "        -1.61428958e-01, -6.64066942e-03,  5.90148456e-02, -4.62939143e-02,\n",
              "        -8.94949809e-02,  5.56628928e-02, -4.10639457e-02, -5.61747961e-02,\n",
              "        -7.34564140e-02,  1.14139924e-02, -5.72429458e-03, -1.19451098e-02,\n",
              "         2.28363767e-01, -3.25104035e-02,  2.23117858e-01, -4.26106639e-02,\n",
              "         1.56146130e-02,  2.39219517e-02,  9.10933223e-03, -7.43901357e-02,\n",
              "        -8.61803964e-02, -9.85749438e-02,  3.68779562e-02,  1.97319373e-01,\n",
              "        -8.88667107e-02,  1.35827260e-02,  9.49155316e-02,  1.40137514e-02,\n",
              "        -6.61506578e-02,  1.30583905e-02, -1.01684675e-01, -5.48567660e-02,\n",
              "        -8.49277750e-02,  1.46665558e-01, -4.14632894e-02, -7.05986023e-02,\n",
              "        -1.48038641e-01, -1.16991915e-01, -1.38143077e-01, -5.66239394e-02,\n",
              "         1.69433177e-01, -6.56868368e-02,  2.45494947e-01, -5.31810597e-02,\n",
              "        -6.64546154e-03,  4.13252339e-02,  7.27356300e-02, -9.89419501e-03,\n",
              "        -3.01669992e-04, -3.65683399e-02,  1.75411090e-01, -7.92750418e-02,\n",
              "         3.21997292e-02, -8.45685005e-02,  2.56294152e-03,  1.22907914e-01,\n",
              "         1.92214400e-01, -7.05306306e-02,  1.01297364e-01, -2.64741853e-02,\n",
              "        -1.77994778e-04, -3.60726640e-02,  6.51299432e-02, -1.26394946e-02,\n",
              "        -2.25694776e-02,  7.36498907e-02,  4.61354852e-02, -7.57504106e-02,\n",
              "        -4.76533361e-02, -1.82334539e-02,  4.66991067e-02, -1.56206146e-01,\n",
              "         4.80873510e-02, -2.05364767e-02, -9.39294174e-02,  1.18208326e-01,\n",
              "        -1.05696313e-01,  5.11181876e-02,  8.54154900e-02, -2.16447879e-02,\n",
              "         1.19345516e-01,  4.94627170e-02,  5.77948010e-03,  1.51526466e-01,\n",
              "        -1.25417665e-01,  1.85442433e-01, -1.11373983e-01,  7.95051977e-02,\n",
              "         3.09946928e-02, -4.89750765e-02, -5.38015515e-02,  1.24752596e-01,\n",
              "        -1.09994272e-02,  7.23914802e-02,  4.61439192e-02, -6.03547841e-02,\n",
              "        -4.64932546e-02, -7.84048364e-02,  9.81411934e-02,  9.06880200e-02,\n",
              "         2.08084941e-01, -1.52017158e-02,  9.63372067e-02,  1.74200296e-01,\n",
              "        -4.03653234e-02, -3.36439200e-02,  2.26128161e-01,  1.66106984e-01,\n",
              "         1.16674658e-02,  6.66333642e-03, -3.20577100e-02,  8.66536796e-02,\n",
              "        -7.36370087e-02, -5.88462539e-02, -6.88545629e-02, -8.30386430e-02,\n",
              "        -5.75583763e-02,  1.39374033e-01, -5.45776561e-02, -5.71269616e-02,\n",
              "         2.48066932e-02,  8.00014064e-02, -7.21152723e-02,  3.22569646e-02,\n",
              "        -5.15290834e-02, -9.18183029e-02, -1.57682036e-04,  2.29662910e-01,\n",
              "        -1.14509672e-01,  4.66209762e-02,  3.62530872e-02,  2.32593194e-01,\n",
              "        -3.69529650e-02, -9.78377461e-03,  3.45467925e-02,  6.07516803e-02,\n",
              "        -1.35021612e-01, -1.20403999e-02, -3.20551954e-02,  8.33293190e-04,\n",
              "        -1.20677009e-01,  1.70932025e-01, -6.04062006e-02,  2.67084688e-02,\n",
              "        -5.28668128e-02,  7.51661658e-02, -6.53658137e-02,  7.66498595e-02,\n",
              "        -2.47548930e-02, -3.32713388e-02,  1.85575217e-01,  5.05841598e-02,\n",
              "        -4.11816947e-02,  7.08772428e-03, -3.55861261e-02,  7.46042607e-03,\n",
              "         2.13460967e-01,  6.13610558e-02,  1.74073037e-02,  1.37813851e-01,\n",
              "        -8.99710283e-02, -2.98855063e-02,  2.58579701e-01,  2.40956053e-01,\n",
              "         1.57336712e-01, -5.51055185e-02,  7.71270394e-02, -4.54047620e-02,\n",
              "         4.84704264e-02, -1.48815541e-02, -1.60040818e-02, -3.05049326e-02,\n",
              "        -5.76589704e-02,  1.41823217e-01,  1.58384785e-01,  1.32138714e-01,\n",
              "        -2.85650361e-02,  4.61807847e-02,  5.78561425e-02, -1.04979835e-01,\n",
              "        -7.77140036e-02,  1.94746092e-01, -8.32363777e-03,  1.20647945e-01,\n",
              "        -1.50747122e-02, -1.23170882e-01,  2.29494972e-03, -1.01566583e-01,\n",
              "        -4.49606031e-02,  1.13379121e-01, -1.13930322e-01, -1.02310076e-01,\n",
              "        -1.02954861e-02, -1.02137148e-01,  6.91622123e-02, -1.15642533e-01,\n",
              "         3.53282802e-02, -4.91250157e-02,  1.25385225e-01, -1.06010087e-01,\n",
              "        -6.16371166e-04, -6.88379034e-02,  9.37637538e-02, -1.13630347e-01,\n",
              "        -1.03119127e-01, -9.23255552e-03, -1.96137782e-02, -6.59647658e-02,\n",
              "         7.98235312e-02,  2.18406096e-02,  7.75153041e-02,  4.20599729e-02,\n",
              "        -7.93368593e-02,  2.12643482e-02,  1.65989161e-01,  2.07993433e-01,\n",
              "         1.37699647e-02, -1.13892339e-01,  2.84816716e-02, -5.53589836e-02,\n",
              "        -2.04151906e-02, -7.23638088e-02, -2.60617211e-02, -6.45821244e-02,\n",
              "         1.25877306e-01,  1.42271191e-01, -1.18917888e-02,  2.12244727e-02,\n",
              "         9.60261077e-02, -1.07785508e-01, -1.43961527e-03, -4.08285521e-02,\n",
              "        -9.71566811e-02,  5.26833013e-02, -2.84890607e-02, -1.28657475e-01,\n",
              "         1.15220305e-02,  1.89337581e-01, -1.19337074e-01,  4.80706990e-02,\n",
              "        -1.11133114e-01, -2.55584326e-02, -1.48515195e-01,  1.47723258e-01,\n",
              "        -3.37718092e-02, -9.01762582e-03,  1.17212506e-02, -7.57792369e-02,\n",
              "         1.72144845e-01,  1.74661353e-01,  1.17345810e-01, -2.31680665e-02,\n",
              "         3.65987793e-02,  4.82740588e-02, -8.54538530e-02, -6.14811527e-03,\n",
              "        -6.82381690e-02, -7.66776055e-02,  9.33491662e-02, -4.14967313e-02,\n",
              "        -9.04946923e-02, -6.38142452e-02, -1.61749218e-02, -7.26920292e-02,\n",
              "        -1.07984349e-01, -1.61188632e-01, -1.64877713e-01, -6.18927814e-02,\n",
              "         3.79135236e-02,  2.56256349e-02,  2.52370946e-02,  1.27098396e-01,\n",
              "         5.98939396e-02,  1.32315829e-02, -5.22143319e-02,  6.56152740e-02,\n",
              "        -7.61948302e-02, -2.12811362e-02,  7.27020130e-02, -6.40327111e-02,\n",
              "        -2.12237351e-02, -8.02857801e-02, -4.53482196e-02,  2.88556535e-02,\n",
              "         2.03204587e-01, -7.90494829e-02, -1.39006436e-01,  2.38808021e-02,\n",
              "         8.84634480e-02,  2.22092420e-01,  1.48920983e-01, -6.90030456e-02,\n",
              "         1.42521009e-01,  3.29064503e-02, -6.15173914e-02, -3.73485349e-02,\n",
              "         3.74190719e-03,  3.03613506e-02,  1.99982882e-01,  1.41266277e-02,\n",
              "         2.28117585e-01, -3.12807299e-02, -9.62260216e-02,  1.26034260e-01,\n",
              "         1.11100882e-01,  7.83874616e-02, -7.32142255e-02,  2.67209053e-01,\n",
              "         4.62483615e-02,  1.36636034e-01,  1.04926107e-03, -1.04845680e-01,\n",
              "         1.78185716e-01,  1.55711591e-01, -5.43613406e-03,  6.95259199e-02,\n",
              "         2.38244876e-01,  6.33326247e-02, -8.61176029e-02, -7.23749772e-02,\n",
              "        -1.93435438e-02, -8.92204866e-02, -9.93017554e-02, -2.85283811e-02,\n",
              "         9.00572091e-02, -1.95497468e-01, -6.11385293e-02, -5.78132793e-02,\n",
              "        -5.39832525e-02,  8.97888169e-02,  2.41759066e-02, -5.69522940e-02,\n",
              "         7.22736344e-02, -7.23219067e-02, -4.81270030e-02,  2.28301808e-01,\n",
              "         2.24433333e-01, -1.76728386e-02,  1.08451225e-01, -1.88763940e-03,\n",
              "        -4.93635703e-03,  4.44805212e-02,  1.40471281e-02, -1.14795424e-01,\n",
              "        -1.08279154e-01, -1.07143134e-01,  4.80379015e-02,  2.55583942e-01,\n",
              "        -6.64979145e-02, -7.00050518e-02,  9.35637578e-02,  3.37115973e-01,\n",
              "        -1.01174049e-01, -4.01452929e-02,  2.73185968e-01, -7.97981545e-02,\n",
              "         1.92001417e-01,  6.98506236e-02, -9.93315578e-02,  4.39262576e-03,\n",
              "         8.90302509e-02,  2.11094871e-01, -3.01162489e-02, -9.96059179e-02,\n",
              "         1.04679734e-01,  2.00946089e-02,  1.04614697e-01, -6.52614683e-02,\n",
              "         2.65951365e-01, -5.42760231e-02,  6.82962611e-02, -6.28167763e-02,\n",
              "         2.36359239e-01, -1.32949054e-01, -1.75636299e-02, -1.36714596e-02,\n",
              "        -1.22958630e-01,  2.11239710e-01, -8.02157745e-02,  5.88146970e-02,\n",
              "        -3.70075665e-02,  4.03804258e-02, -3.82188917e-03, -1.43588679e-02,\n",
              "         4.55380790e-03, -1.26371071e-01,  5.40012904e-02, -1.63980722e-02,\n",
              "        -7.66312554e-02,  7.80511573e-02, -1.01310357e-01, -1.02837570e-02,\n",
              "         2.22924501e-02,  1.81225657e-01, -8.45751632e-03, -2.13651136e-02,\n",
              "         2.72053480e-01, -1.25023693e-01,  1.99181676e-01,  6.90314993e-02,\n",
              "         7.49754086e-02,  1.09651953e-01,  2.88749137e-03, -7.73206633e-03,\n",
              "        -5.04555032e-02,  1.01486832e-01, -3.80369499e-02,  1.44908175e-01,\n",
              "         1.62023455e-01, -6.60082102e-02,  2.57780910e-01, -6.16355985e-02,\n",
              "         1.63442362e-02, -1.18348360e-01, -2.62973774e-02, -2.33389828e-02,\n",
              "         8.26099142e-03, -1.14355713e-01,  2.16860756e-01,  2.74923490e-03,\n",
              "         1.86426848e-01,  1.68298200e-01, -1.43784255e-01, -2.78681070e-02,\n",
              "        -1.16497427e-01, -6.22412488e-02,  8.11914280e-02, -8.35960880e-02,\n",
              "         5.08505404e-02,  7.63885081e-02,  5.18986508e-02,  1.75081864e-01,\n",
              "         5.04748151e-02,  9.68821794e-02,  1.95660010e-01,  2.12522015e-01,\n",
              "         2.45033242e-02, -1.18118040e-01, -5.89543991e-02, -1.62920401e-01,\n",
              "        -1.09070567e-02, -1.05279945e-01,  5.86698428e-02,  1.51863471e-01,\n",
              "         1.27626181e-01,  1.00242861e-01, -6.74599782e-02, -6.90512508e-02,\n",
              "        -1.00864708e-01,  2.28937790e-02, -4.46942751e-04,  6.54089823e-02],\n",
              "       dtype=float32)>,\n",
              " <tf.Variable 'dense_layer_4/kernel:0' shape=(512, 10) dtype=float32, numpy=\n",
              " array([[-0.02441257, -0.02734536,  0.05927372, ..., -0.17426766,\n",
              "         -0.14357835,  0.05344294],\n",
              "        [-0.07766198, -0.07189217, -0.17597286, ..., -0.0865254 ,\n",
              "          0.06613833,  0.05203205],\n",
              "        [-0.15513459,  0.06335701, -0.14555782, ...,  0.08300827,\n",
              "         -0.14198458,  0.04692551],\n",
              "        ...,\n",
              "        [ 0.02575699, -0.06480765,  0.08489333, ..., -0.02271446,\n",
              "          0.06305803,  0.03746329],\n",
              "        [-0.21061152, -0.00088647,  0.05888919, ..., -0.12460616,\n",
              "          0.11136896, -0.04698679],\n",
              "        [-0.02158408,  0.00156297, -0.09047341, ..., -0.16875036,\n",
              "          0.07090105, -0.03735543]], dtype=float32)>,\n",
              " <tf.Variable 'dense_layer_4/bias:0' shape=(10,) dtype=float32, numpy=\n",
              " array([-0.00175876, -0.09831767, -0.10637944,  0.00507651, -0.02587686,\n",
              "        -0.11444918, -0.10273522, -0.09941071,  0.3193801 ,  0.09921034],\n",
              "       dtype=float32)>]"
            ]
          },
          "metadata": {},
          "execution_count": 108
        }
      ]
    },
    {
      "cell_type": "code",
      "source": [
        "model_6.get_config()"
      ],
      "metadata": {
        "colab": {
          "base_uri": "https://localhost:8080/"
        },
        "id": "Z4OmDZ990Pj0",
        "outputId": "7e0056df-7eaf-432e-be41-6785466c560d"
      },
      "execution_count": null,
      "outputs": [
        {
          "output_type": "execute_result",
          "data": {
            "text/plain": [
              "{'name': 'sequential_14',\n",
              " 'layers': [{'module': 'keras.layers',\n",
              "   'class_name': 'InputLayer',\n",
              "   'config': {'batch_input_shape': (None, 784),\n",
              "    'dtype': 'float32',\n",
              "    'sparse': False,\n",
              "    'ragged': False,\n",
              "    'name': 'dense_layer_input'},\n",
              "   'registered_name': None},\n",
              "  {'module': 'keras.layers',\n",
              "   'class_name': 'Dense',\n",
              "   'config': {'name': 'dense_layer',\n",
              "    'trainable': True,\n",
              "    'dtype': 'float32',\n",
              "    'batch_input_shape': (None, 784),\n",
              "    'units': 512,\n",
              "    'activation': 'relu',\n",
              "    'use_bias': True,\n",
              "    'kernel_initializer': {'module': 'keras.initializers',\n",
              "     'class_name': 'GlorotUniform',\n",
              "     'config': {'seed': None},\n",
              "     'registered_name': None},\n",
              "    'bias_initializer': {'module': 'keras.initializers',\n",
              "     'class_name': 'Zeros',\n",
              "     'config': {},\n",
              "     'registered_name': None},\n",
              "    'kernel_regularizer': None,\n",
              "    'bias_regularizer': None,\n",
              "    'activity_regularizer': None,\n",
              "    'kernel_constraint': None,\n",
              "    'bias_constraint': None},\n",
              "   'registered_name': None,\n",
              "   'build_config': {'input_shape': (None, 784)}},\n",
              "  {'module': 'keras.layers',\n",
              "   'class_name': 'Dropout',\n",
              "   'config': {'name': 'dropout_10',\n",
              "    'trainable': True,\n",
              "    'dtype': 'float32',\n",
              "    'rate': 0.3,\n",
              "    'noise_shape': None,\n",
              "    'seed': None},\n",
              "   'registered_name': None,\n",
              "   'build_config': {'input_shape': (None, 512)}},\n",
              "  {'module': 'keras.layers',\n",
              "   'class_name': 'Dense',\n",
              "   'config': {'name': 'dense_layer_2',\n",
              "    'trainable': True,\n",
              "    'dtype': 'float32',\n",
              "    'units': 512,\n",
              "    'activation': 'relu',\n",
              "    'use_bias': True,\n",
              "    'kernel_initializer': {'module': 'keras.initializers',\n",
              "     'class_name': 'GlorotUniform',\n",
              "     'config': {'seed': None},\n",
              "     'registered_name': None},\n",
              "    'bias_initializer': {'module': 'keras.initializers',\n",
              "     'class_name': 'Zeros',\n",
              "     'config': {},\n",
              "     'registered_name': None},\n",
              "    'kernel_regularizer': None,\n",
              "    'bias_regularizer': None,\n",
              "    'activity_regularizer': None,\n",
              "    'kernel_constraint': None,\n",
              "    'bias_constraint': None},\n",
              "   'registered_name': None,\n",
              "   'build_config': {'input_shape': (None, 512)}},\n",
              "  {'module': 'keras.layers',\n",
              "   'class_name': 'Dropout',\n",
              "   'config': {'name': 'dropout_11',\n",
              "    'trainable': True,\n",
              "    'dtype': 'float32',\n",
              "    'rate': 0.3,\n",
              "    'noise_shape': None,\n",
              "    'seed': None},\n",
              "   'registered_name': None,\n",
              "   'build_config': {'input_shape': (None, 512)}},\n",
              "  {'module': 'keras.layers',\n",
              "   'class_name': 'Dense',\n",
              "   'config': {'name': 'dense_layer_3',\n",
              "    'trainable': True,\n",
              "    'dtype': 'float32',\n",
              "    'units': 512,\n",
              "    'activation': 'relu',\n",
              "    'use_bias': True,\n",
              "    'kernel_initializer': {'module': 'keras.initializers',\n",
              "     'class_name': 'GlorotUniform',\n",
              "     'config': {'seed': None},\n",
              "     'registered_name': None},\n",
              "    'bias_initializer': {'module': 'keras.initializers',\n",
              "     'class_name': 'Zeros',\n",
              "     'config': {},\n",
              "     'registered_name': None},\n",
              "    'kernel_regularizer': None,\n",
              "    'bias_regularizer': None,\n",
              "    'activity_regularizer': None,\n",
              "    'kernel_constraint': None,\n",
              "    'bias_constraint': None},\n",
              "   'registered_name': None,\n",
              "   'build_config': {'input_shape': (None, 512)}},\n",
              "  {'module': 'keras.layers',\n",
              "   'class_name': 'Dropout',\n",
              "   'config': {'name': 'dropout_12',\n",
              "    'trainable': True,\n",
              "    'dtype': 'float32',\n",
              "    'rate': 0.3,\n",
              "    'noise_shape': None,\n",
              "    'seed': None},\n",
              "   'registered_name': None,\n",
              "   'build_config': {'input_shape': (None, 512)}},\n",
              "  {'module': 'keras.layers',\n",
              "   'class_name': 'Dense',\n",
              "   'config': {'name': 'dense_layer_4',\n",
              "    'trainable': True,\n",
              "    'dtype': 'float32',\n",
              "    'units': 10,\n",
              "    'activation': 'softmax',\n",
              "    'use_bias': True,\n",
              "    'kernel_initializer': {'module': 'keras.initializers',\n",
              "     'class_name': 'GlorotUniform',\n",
              "     'config': {'seed': None},\n",
              "     'registered_name': None},\n",
              "    'bias_initializer': {'module': 'keras.initializers',\n",
              "     'class_name': 'Zeros',\n",
              "     'config': {},\n",
              "     'registered_name': None},\n",
              "    'kernel_regularizer': None,\n",
              "    'bias_regularizer': None,\n",
              "    'activity_regularizer': None,\n",
              "    'kernel_constraint': None,\n",
              "    'bias_constraint': None},\n",
              "   'registered_name': None,\n",
              "   'build_config': {'input_shape': (None, 512)}}]}"
            ]
          },
          "metadata": {},
          "execution_count": 109
        }
      ]
    },
    {
      "cell_type": "code",
      "source": [],
      "metadata": {
        "id": "cMiZ1JoP0TTS"
      },
      "execution_count": null,
      "outputs": []
    }
  ]
}